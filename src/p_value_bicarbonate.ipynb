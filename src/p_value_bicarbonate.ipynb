{
 "cells": [
  {
   "cell_type": "code",
   "execution_count": 87,
   "metadata": {},
   "outputs": [],
   "source": [
    "import pandas as pd\n",
    "import numpy as np"
   ]
  },
  {
   "attachments": {},
   "cell_type": "markdown",
   "metadata": {},
   "source": [
    "**Our hypothesis : Patients with T0 bicarbonate levels between [24 ; 27] mmol/L will have PADH**"
   ]
  },
  {
   "cell_type": "code",
   "execution_count": 88,
   "metadata": {},
   "outputs": [],
   "source": [
    "path_data = \"..\\\\data\\\\NOMAL.xlsx\"\n",
    "raw_df = pd.read_excel(path_data)"
   ]
  },
  {
   "cell_type": "code",
   "execution_count": 89,
   "metadata": {},
   "outputs": [],
   "source": [
    "import re\n",
    "\n",
    "# Function to remove special characters from a string\n",
    "def remove_special_characters(string):\n",
    "    return re.sub(r'\\W+', '', string)\n",
    "\n",
    "# Rename the features in raw_df\n",
    "raw_df.rename(columns=lambda x: remove_special_characters(x), inplace=True)\n"
   ]
  },
  {
   "cell_type": "code",
   "execution_count": 90,
   "metadata": {},
   "outputs": [],
   "source": [
    "# Rename the feature 'Column1' to 'NewColumn' (modifying in place)\n",
    "raw_df.rename(columns={'ArtesunatoevSomministrazione1Datainizioeora': 'Artesunate'}, inplace=True)\n",
    "raw_df.rename(columns={'PADHpostartesunatedelayedhaemoly1s': 'PADH'}, inplace=True)\n"
   ]
  },
  {
   "cell_type": "code",
   "execution_count": 91,
   "metadata": {},
   "outputs": [],
   "source": [
    "artsnt_df = raw_df[raw_df['Artesunate'] == 1]"
   ]
  },
  {
   "cell_type": "code",
   "execution_count": 92,
   "metadata": {},
   "outputs": [],
   "source": [
    "artsnt_df = artsnt_df[['T0bicarbonatiinmmoll', 'PADH']]"
   ]
  },
  {
   "cell_type": "code",
   "execution_count": 93,
   "metadata": {},
   "outputs": [
    {
     "data": {
      "text/html": [
       "<div>\n",
       "<style scoped>\n",
       "    .dataframe tbody tr th:only-of-type {\n",
       "        vertical-align: middle;\n",
       "    }\n",
       "\n",
       "    .dataframe tbody tr th {\n",
       "        vertical-align: top;\n",
       "    }\n",
       "\n",
       "    .dataframe thead th {\n",
       "        text-align: right;\n",
       "    }\n",
       "</style>\n",
       "<table border=\"1\" class=\"dataframe\">\n",
       "  <thead>\n",
       "    <tr style=\"text-align: right;\">\n",
       "      <th></th>\n",
       "      <th>T0bicarbonatiinmmoll</th>\n",
       "      <th>PADH</th>\n",
       "    </tr>\n",
       "  </thead>\n",
       "  <tbody>\n",
       "    <tr>\n",
       "      <th>2</th>\n",
       "      <td>30.4</td>\n",
       "      <td>0.0</td>\n",
       "    </tr>\n",
       "    <tr>\n",
       "      <th>3</th>\n",
       "      <td>NaN</td>\n",
       "      <td>1.0</td>\n",
       "    </tr>\n",
       "    <tr>\n",
       "      <th>4</th>\n",
       "      <td>NaN</td>\n",
       "      <td>1.0</td>\n",
       "    </tr>\n",
       "    <tr>\n",
       "      <th>5</th>\n",
       "      <td>23.9</td>\n",
       "      <td>1.0</td>\n",
       "    </tr>\n",
       "    <tr>\n",
       "      <th>7</th>\n",
       "      <td>30.4</td>\n",
       "      <td>0.0</td>\n",
       "    </tr>\n",
       "  </tbody>\n",
       "</table>\n",
       "</div>"
      ],
      "text/plain": [
       "   T0bicarbonatiinmmoll  PADH\n",
       "2                  30.4   0.0\n",
       "3                   NaN   1.0\n",
       "4                   NaN   1.0\n",
       "5                  23.9   1.0\n",
       "7                  30.4   0.0"
      ]
     },
     "execution_count": 93,
     "metadata": {},
     "output_type": "execute_result"
    }
   ],
   "source": [
    "artsnt_df.head(5)"
   ]
  },
  {
   "cell_type": "code",
   "execution_count": 94,
   "metadata": {},
   "outputs": [],
   "source": [
    "artsnt_df = artsnt_df.dropna()"
   ]
  },
  {
   "cell_type": "code",
   "execution_count": 95,
   "metadata": {},
   "outputs": [
    {
     "data": {
      "text/plain": [
       "16"
      ]
     },
     "execution_count": 95,
     "metadata": {},
     "output_type": "execute_result"
    }
   ],
   "source": [
    "len(artsnt_df)"
   ]
  },
  {
   "cell_type": "code",
   "execution_count": 96,
   "metadata": {},
   "outputs": [
    {
     "name": "stdout",
     "output_type": "stream",
     "text": [
      "4\n"
     ]
    }
   ],
   "source": [
    "count_with_PADH_1 = len(artsnt_df[artsnt_df['PADH'] == 1])\n",
    "print(count_with_PADH_1)"
   ]
  },
  {
   "cell_type": "code",
   "execution_count": 97,
   "metadata": {},
   "outputs": [],
   "source": [
    "low_threshold = 23\n",
    "high_threshold = 27"
   ]
  },
  {
   "cell_type": "code",
   "execution_count": 98,
   "metadata": {},
   "outputs": [
    {
     "name": "stdout",
     "output_type": "stream",
     "text": [
      "Number of samples with values between 23 and 27: 8\n"
     ]
    }
   ],
   "source": [
    "# Counting samples with values between 24 and 27\n",
    "count_between_values = len(artsnt_df[(artsnt_df['T0bicarbonatiinmmoll'] >= low_threshold) & (artsnt_df['T0bicarbonatiinmmoll'] <= high_threshold)])\n",
    "\n",
    "# Display the count\n",
    "print(\"Number of samples with values between \"+str(low_threshold)+\" and \"+str(high_threshold)+\":\", count_between_values)\n"
   ]
  },
  {
   "cell_type": "code",
   "execution_count": 99,
   "metadata": {},
   "outputs": [
    {
     "name": "stdout",
     "output_type": "stream",
     "text": [
      "Number of samples with PADH = 1 in the group satisfying the condition: 4\n"
     ]
    }
   ],
   "source": [
    "# Filtering samples with values between 24 and 27\n",
    "candidate_filtered_group = artsnt_df[(artsnt_df['T0bicarbonatiinmmoll'] >= low_threshold) & (artsnt_df['T0bicarbonatiinmmoll'] <= high_threshold)]\n",
    "\n",
    "# Counting samples with PADH = 1 in the filtered group\n",
    "candidate_count_with_PADH_1 = len(candidate_filtered_group[candidate_filtered_group['PADH'] == 1])\n",
    "\n",
    "# Display the count\n",
    "print(\"Number of samples with PADH = 1 in the group satisfying the condition:\", candidate_count_with_PADH_1)\n"
   ]
  },
  {
   "cell_type": "code",
   "execution_count": 100,
   "metadata": {},
   "outputs": [
    {
     "name": "stdout",
     "output_type": "stream",
     "text": [
      "Number of samples with PADH = 1 in the group not satisfying the condition: 0\n"
     ]
    }
   ],
   "source": [
    "# Filtering samples outside the range 24-27\n",
    "non_C_filtered_group = artsnt_df[(artsnt_df['T0bicarbonatiinmmoll'] < low_threshold) | (artsnt_df['T0bicarbonatiinmmoll'] > high_threshold)]\n",
    "\n",
    "# Counting samples with PADH = 1 in the filtered group\n",
    "non_C_count_with_PADH_1 = len(non_C_filtered_group[non_C_filtered_group['PADH'] == 1])\n",
    "\n",
    "# Display the count\n",
    "print(\"Number of samples with PADH = 1 in the group not satisfying the condition:\", non_C_count_with_PADH_1)\n"
   ]
  },
  {
   "attachments": {},
   "cell_type": "markdown",
   "metadata": {},
   "source": [
    "total samples : 16\n",
    "\n",
    "candidate : 8\n",
    "\n",
    "candidate & PADH : 4\n",
    "\n",
    "non candidate & PADH : 0"
   ]
  },
  {
   "attachments": {},
   "cell_type": "markdown",
   "metadata": {},
   "source": [
    "Precision = 4 / 8 = 0.5"
   ]
  },
  {
   "attachments": {},
   "cell_type": "markdown",
   "metadata": {},
   "source": [
    "Rappel = 4 / 4 = 1"
   ]
  }
 ],
 "metadata": {
  "kernelspec": {
   "display_name": "base",
   "language": "python",
   "name": "python3"
  },
  "language_info": {
   "codemirror_mode": {
    "name": "ipython",
    "version": 3
   },
   "file_extension": ".py",
   "mimetype": "text/x-python",
   "name": "python",
   "nbconvert_exporter": "python",
   "pygments_lexer": "ipython3",
   "version": "3.9.7"
  },
  "orig_nbformat": 4
 },
 "nbformat": 4,
 "nbformat_minor": 2
}
