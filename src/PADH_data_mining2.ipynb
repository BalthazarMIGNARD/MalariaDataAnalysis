{
 "cells": [
  {
   "cell_type": "code",
   "execution_count": 2,
   "metadata": {},
   "outputs": [],
   "source": [
    "import pandas as pd\n"
   ]
  },
  {
   "attachments": {},
   "cell_type": "markdown",
   "metadata": {},
   "source": [
    "***After the bias introduced by the data filling, I just use raw datas***"
   ]
  },
  {
   "cell_type": "code",
   "execution_count": 3,
   "metadata": {},
   "outputs": [],
   "source": [
    "path_data = \"..\\\\data\\\\NOMAL.xlsx\"\n",
    "raw_df = pd.read_excel(path_data)"
   ]
  },
  {
   "cell_type": "code",
   "execution_count": 4,
   "metadata": {},
   "outputs": [
    {
     "data": {
      "text/html": [
       "<div>\n",
       "<style scoped>\n",
       "    .dataframe tbody tr th:only-of-type {\n",
       "        vertical-align: middle;\n",
       "    }\n",
       "\n",
       "    .dataframe tbody tr th {\n",
       "        vertical-align: top;\n",
       "    }\n",
       "\n",
       "    .dataframe thead th {\n",
       "        text-align: right;\n",
       "    }\n",
       "</style>\n",
       "<table border=\"1\" class=\"dataframe\">\n",
       "  <thead>\n",
       "    <tr style=\"text-align: right;\">\n",
       "      <th></th>\n",
       "      <th>Codice identificativo:</th>\n",
       "      <th>Sesso</th>\n",
       "      <th>Nazionalità</th>\n",
       "      <th>Età</th>\n",
       "      <th>Domicilio</th>\n",
       "      <th>Comorbilità</th>\n",
       "      <th>Diabete</th>\n",
       "      <th>HIV</th>\n",
       "      <th>Cirrosi</th>\n",
       "      <th>IRC</th>\n",
       "      <th>...</th>\n",
       "      <th>Trasfusione:</th>\n",
       "      <th>Unità trasfuse</th>\n",
       "      <th>Altri eventi avversi</th>\n",
       "      <th>Diarrea e disidratazione</th>\n",
       "      <th>Ipertransaminasemia tardiva</th>\n",
       "      <th>Polmonite</th>\n",
       "      <th>IVU nosocomiale</th>\n",
       "      <th>Esofagite</th>\n",
       "      <th>Dispepsia</th>\n",
       "      <th>Tachiaritmia sopraventricolare</th>\n",
       "    </tr>\n",
       "  </thead>\n",
       "  <tbody>\n",
       "    <tr>\n",
       "      <th>0</th>\n",
       "      <td>3761</td>\n",
       "      <td>1</td>\n",
       "      <td>1</td>\n",
       "      <td>57</td>\n",
       "      <td>0.0</td>\n",
       "      <td>0</td>\n",
       "      <td>0</td>\n",
       "      <td>0</td>\n",
       "      <td>0</td>\n",
       "      <td>0</td>\n",
       "      <td>...</td>\n",
       "      <td>0.0</td>\n",
       "      <td>NaN</td>\n",
       "      <td>0.0</td>\n",
       "      <td>0.0</td>\n",
       "      <td>0.0</td>\n",
       "      <td>0.0</td>\n",
       "      <td>0.0</td>\n",
       "      <td>0.0</td>\n",
       "      <td>0.0</td>\n",
       "      <td>0.0</td>\n",
       "    </tr>\n",
       "    <tr>\n",
       "      <th>1</th>\n",
       "      <td>35319</td>\n",
       "      <td>0</td>\n",
       "      <td>0</td>\n",
       "      <td>62</td>\n",
       "      <td>0.0</td>\n",
       "      <td>0</td>\n",
       "      <td>0</td>\n",
       "      <td>0</td>\n",
       "      <td>0</td>\n",
       "      <td>0</td>\n",
       "      <td>...</td>\n",
       "      <td>0.0</td>\n",
       "      <td>NaN</td>\n",
       "      <td>1.0</td>\n",
       "      <td>1.0</td>\n",
       "      <td>0.0</td>\n",
       "      <td>0.0</td>\n",
       "      <td>0.0</td>\n",
       "      <td>0.0</td>\n",
       "      <td>0.0</td>\n",
       "      <td>0.0</td>\n",
       "    </tr>\n",
       "    <tr>\n",
       "      <th>2</th>\n",
       "      <td>BS01</td>\n",
       "      <td>1</td>\n",
       "      <td>0</td>\n",
       "      <td>72</td>\n",
       "      <td>0.0</td>\n",
       "      <td>1</td>\n",
       "      <td>0</td>\n",
       "      <td>0</td>\n",
       "      <td>0</td>\n",
       "      <td>0</td>\n",
       "      <td>...</td>\n",
       "      <td>0.0</td>\n",
       "      <td>NaN</td>\n",
       "      <td>0.0</td>\n",
       "      <td>0.0</td>\n",
       "      <td>0.0</td>\n",
       "      <td>0.0</td>\n",
       "      <td>0.0</td>\n",
       "      <td>0.0</td>\n",
       "      <td>0.0</td>\n",
       "      <td>0.0</td>\n",
       "    </tr>\n",
       "    <tr>\n",
       "      <th>3</th>\n",
       "      <td>BS-004</td>\n",
       "      <td>1</td>\n",
       "      <td>0</td>\n",
       "      <td>53</td>\n",
       "      <td>0.0</td>\n",
       "      <td>1</td>\n",
       "      <td>1</td>\n",
       "      <td>0</td>\n",
       "      <td>0</td>\n",
       "      <td>0</td>\n",
       "      <td>...</td>\n",
       "      <td>0.0</td>\n",
       "      <td>NaN</td>\n",
       "      <td>0.0</td>\n",
       "      <td>0.0</td>\n",
       "      <td>0.0</td>\n",
       "      <td>0.0</td>\n",
       "      <td>0.0</td>\n",
       "      <td>0.0</td>\n",
       "      <td>0.0</td>\n",
       "      <td>0.0</td>\n",
       "    </tr>\n",
       "    <tr>\n",
       "      <th>4</th>\n",
       "      <td>BS-005</td>\n",
       "      <td>0</td>\n",
       "      <td>1</td>\n",
       "      <td>58</td>\n",
       "      <td>0.0</td>\n",
       "      <td>0</td>\n",
       "      <td>0</td>\n",
       "      <td>0</td>\n",
       "      <td>0</td>\n",
       "      <td>0</td>\n",
       "      <td>...</td>\n",
       "      <td>0.0</td>\n",
       "      <td>NaN</td>\n",
       "      <td>0.0</td>\n",
       "      <td>0.0</td>\n",
       "      <td>0.0</td>\n",
       "      <td>0.0</td>\n",
       "      <td>0.0</td>\n",
       "      <td>0.0</td>\n",
       "      <td>0.0</td>\n",
       "      <td>0.0</td>\n",
       "    </tr>\n",
       "  </tbody>\n",
       "</table>\n",
       "<p>5 rows × 131 columns</p>\n",
       "</div>"
      ],
      "text/plain": [
       "  Codice identificativo:  Sesso  Nazionalità  Età  Domicilio  Comorbilità  \\\n",
       "0                   3761      1            1   57        0.0            0   \n",
       "1                  35319      0            0   62        0.0            0   \n",
       "2                   BS01      1            0   72        0.0            1   \n",
       "3                 BS-004      1            0   53        0.0            1   \n",
       "4                 BS-005      0            1   58        0.0            0   \n",
       "\n",
       "   Diabete  HIV  Cirrosi  IRC  ...  Trasfusione:  Unità trasfuse  \\\n",
       "0        0    0        0    0  ...           0.0             NaN   \n",
       "1        0    0        0    0  ...           0.0             NaN   \n",
       "2        0    0        0    0  ...           0.0             NaN   \n",
       "3        1    0        0    0  ...           0.0             NaN   \n",
       "4        0    0        0    0  ...           0.0             NaN   \n",
       "\n",
       "   Altri eventi avversi  Diarrea e disidratazione  \\\n",
       "0                   0.0                       0.0   \n",
       "1                   1.0                       1.0   \n",
       "2                   0.0                       0.0   \n",
       "3                   0.0                       0.0   \n",
       "4                   0.0                       0.0   \n",
       "\n",
       "   Ipertransaminasemia tardiva  Polmonite  IVU nosocomiale  Esofagite  \\\n",
       "0                          0.0        0.0              0.0        0.0   \n",
       "1                          0.0        0.0              0.0        0.0   \n",
       "2                          0.0        0.0              0.0        0.0   \n",
       "3                          0.0        0.0              0.0        0.0   \n",
       "4                          0.0        0.0              0.0        0.0   \n",
       "\n",
       "   Dispepsia  Tachiaritmia sopraventricolare  \n",
       "0        0.0                             0.0  \n",
       "1        0.0                             0.0  \n",
       "2        0.0                             0.0  \n",
       "3        0.0                             0.0  \n",
       "4        0.0                             0.0  \n",
       "\n",
       "[5 rows x 131 columns]"
      ]
     },
     "execution_count": 4,
     "metadata": {},
     "output_type": "execute_result"
    }
   ],
   "source": [
    "raw_df.head(5)"
   ]
  },
  {
   "cell_type": "code",
   "execution_count": 5,
   "metadata": {},
   "outputs": [],
   "source": [
    "import re\n",
    "\n",
    "# Function to remove special characters from a string\n",
    "def remove_special_characters(string):\n",
    "    return re.sub(r'\\W+', '', string)\n",
    "\n",
    "# Rename the features in raw_df\n",
    "raw_df.rename(columns=lambda x: remove_special_characters(x), inplace=True)\n"
   ]
  },
  {
   "cell_type": "code",
   "execution_count": 6,
   "metadata": {},
   "outputs": [],
   "source": [
    "# Rename the feature 'Column1' to 'NewColumn' (modifying in place)\n",
    "raw_df.rename(columns={'ArtesunatoevSomministrazione1Datainizioeora': 'Artesunate'}, inplace=True)\n",
    "raw_df.rename(columns={'PADHpostartesunatedelayedhaemoly1s': 'PADH'}, inplace=True)\n"
   ]
  },
  {
   "cell_type": "code",
   "execution_count": 7,
   "metadata": {},
   "outputs": [],
   "source": [
    "patient_general = ['Codiceidentificativo', 'Sesso', 'Nazionalità', 'Età', 'Domicilio', 'Altezza', 'Peso', 'SubSaharanAfrica', 'Pregressamalaria', 'Profilassi']\n",
    "comorbidities = ['Comorbilità', 'Diabete', 'HIV', 'IRC']\n",
    "patient_state_arrival = ['GCS',\n",
    " 'Prostrazione',\n",
    " 'Shock',\n",
    " 'Bleeding',\n",
    " 'ARDS',\n",
    " 'Anemia',\n",
    " 'Creatinina',\n",
    " 'Glicemia',\n",
    " 'Acidosi',\n",
    " 'Bilirubina',\n",
    " 'Hyperparasitaemia',\n",
    " 'Numerocriteri']\n",
    "diagnosis_type = ['Emoscopia', 'NAAT']\n",
    "diagnosis_result = ['Falciparum',\n",
    " 'Ovale',\n",
    " 'Parassitemiavaloreassoluto',\n",
    " 'Percentualeparassitemia']\n",
    "baseline_other = ['PAsistolica',\n",
    " 'PAdiastolica',\n",
    " 'FC',\n",
    " 'FR',\n",
    " 'Temperatura',\n",
    " 'Ritardoterapeutico']\n",
    "QTc = ['QTcingresso', 'QTcdopoACT', 'QTCdopoultimasomministrazioneartesunato']\n",
    "T0 = ['T0GBincellul',\n",
    " 'T0GRincellul',\n",
    " 'T0Hbingdl',\n",
    " 'T0PLTincellul',\n",
    " 'T0Glicemiainmgdl',\n",
    " 'T0Azotemiainmgdl',\n",
    " 'T0Creatininainmgdl',\n",
    " 'T0LDHinUL',\n",
    " 'T0ASTinUL',\n",
    " 'T0ALTinUL',\n",
    " 'T0Bilirubinatotinmgdl',\n",
    " 'T0Bilirubinadirettainmgdl',\n",
    " 'T0SodioinmEql',\n",
    " 'T0PotassioinmEql',\n",
    " 'T0Cainmgdl',\n",
    " 'T0INR',\n",
    " 'T0fibrinogenoinmgdl',\n",
    " 'T0pH',\n",
    " 'T0bicarbonatiinmmoll',\n",
    " 'T0Lattatiinmmoll']\n",
    "T1 = ['T1Gocciaspessaestriscioperiferico', 'T1TCtemperaturacorporeainC']\n",
    "T2 = ['T2Gocciaspessaestriscioperiferico', 'T2TCtemperaturacorporeainC']\n",
    "T3 = ['T3Gocciaspessaestriscioperiferico', 'T3TCtemperaturacorporeainC']\n",
    "T7 = ['T7Gocciaspessaestriscioperiferico', 'T7TCtemperaturacorporeainC']\n",
    "treatment = ['Artesunate',\n",
    " 'ArtemetherLumefantrinaSomministrazione1Datainizioeora',\n",
    " 'DiidroartemisininaPiperachinaSomministrazione1Datainizioeora',\n",
    " 'ACT',\n",
    " 'ArtesunatoACT',\n",
    " 'AtovaquoneProguanile',\n",
    " 'Doxiciclinaperos',\n",
    " 'Clindamicina',\n",
    " 'Antibiotici',\n",
    " 'Chinino',\n",
    " 'Primachina',\n",
    " 'DurataArtesunato']\n",
    "outcome = ['Durataricovero',\n",
    " 'Decesso',\n",
    " 'ICU',\n",
    " 'Eventualisequele',\n",
    " 'PADH',\n",
    " 'InsorgenzaPADH',\n",
    " 'PermanenzainTerapiaIntensivagiorni',\n",
    " 'TrasferimentoinRianimazioneancheinaltrocentro',\n",
    " 'Guarigione']\n",
    "PADH_info = ['InsorgenzaPADH',\n",
    " 'SipregadiforniretuttiiparamerivitaliGBincellul',\n",
    " 'SipregadiforniretuttiiparamerivitaliHbingdl',\n",
    " 'SipregadiforniretuttiiparamerivitaliPLTincellul',\n",
    " 'Sipregadiforniretuttiiparamerivitalireticolitiincellul',\n",
    " 'SipregadiforniretuttiiparamerivitaliLDHinUllcio',\n",
    " 'SipregadiforniretuttiiparamerivitaliASTUL',\n",
    " 'SipregadiforniretuttiiparamerivitaliALTUL',\n",
    " 'SipregadiforniretuttiiparamerivitaliBilirubinatotmgdl',\n",
    " 'SipregadiforniretuttiiparamerivitaliBilirubinadirettamgdl',\n",
    " 'Sipregadiforniretuttiiparamerivitaliaptoglobinainmgdl',\n",
    " 'SipregadiforniretuttiiparamerivitalitestdiCoombsdiretto',\n",
    " 'Sipregadiforniretuttiiparamerivitalitestdicoombsindiretto',\n",
    " 'Vuoleriportareulterioriinformazionirelativeaiprelievieffettuatidurantelevisiteintermediefinoallarisoluzionedellemolisi',\n",
    " 'NadirHb',\n",
    " 'Trasfusione',\n",
    " 'Unitàtrasfuse']\n",
    "follow_up = ['Altrieventiavversi',\n",
    " 'Diarreaedisidratazione',\n",
    " 'Ipertransaminasemiatardiva',\n",
    " 'Polmonite',\n",
    " 'IVUnosocomiale',\n",
    " 'Esofagite',\n",
    " 'Dispepsia',\n",
    " 'Tachiaritmiasopraventricolare']"
   ]
  },
  {
   "attachments": {},
   "cell_type": "markdown",
   "metadata": {},
   "source": [
    "***Restrict the dataframe to only the patients who got administrated Artsunate***"
   ]
  },
  {
   "cell_type": "code",
   "execution_count": 8,
   "metadata": {},
   "outputs": [],
   "source": [
    "artsnt_df = raw_df[raw_df['Artesunate'] == 1]"
   ]
  },
  {
   "cell_type": "code",
   "execution_count": 9,
   "metadata": {},
   "outputs": [
    {
     "name": "stdout",
     "output_type": "stream",
     "text": [
      "raw_df len : 72 // artsnt len : 55\n"
     ]
    }
   ],
   "source": [
    "print('raw_df len : ' + str(len(raw_df))+' // artsnt len : '+str(len(artsnt_df)))"
   ]
  },
  {
   "cell_type": "code",
   "execution_count": 10,
   "metadata": {},
   "outputs": [
    {
     "data": {
      "text/plain": [
       "7.0"
      ]
     },
     "execution_count": 10,
     "metadata": {},
     "output_type": "execute_result"
    }
   ],
   "source": [
    "artsnt_df['PADH'].sum()"
   ]
  },
  {
   "cell_type": "code",
   "execution_count": 11,
   "metadata": {},
   "outputs": [
    {
     "data": {
      "text/html": [
       "<div>\n",
       "<style scoped>\n",
       "    .dataframe tbody tr th:only-of-type {\n",
       "        vertical-align: middle;\n",
       "    }\n",
       "\n",
       "    .dataframe tbody tr th {\n",
       "        vertical-align: top;\n",
       "    }\n",
       "\n",
       "    .dataframe thead th {\n",
       "        text-align: right;\n",
       "    }\n",
       "</style>\n",
       "<table border=\"1\" class=\"dataframe\">\n",
       "  <thead>\n",
       "    <tr style=\"text-align: right;\">\n",
       "      <th></th>\n",
       "      <th>Codiceidentificativo</th>\n",
       "      <th>Sesso</th>\n",
       "      <th>Nazionalità</th>\n",
       "      <th>Età</th>\n",
       "      <th>Domicilio</th>\n",
       "      <th>Comorbilità</th>\n",
       "      <th>Diabete</th>\n",
       "      <th>HIV</th>\n",
       "      <th>Cirrosi</th>\n",
       "      <th>IRC</th>\n",
       "      <th>...</th>\n",
       "      <th>Trasfusione</th>\n",
       "      <th>Unitàtrasfuse</th>\n",
       "      <th>Altrieventiavversi</th>\n",
       "      <th>Diarreaedisidratazione</th>\n",
       "      <th>Ipertransaminasemiatardiva</th>\n",
       "      <th>Polmonite</th>\n",
       "      <th>IVUnosocomiale</th>\n",
       "      <th>Esofagite</th>\n",
       "      <th>Dispepsia</th>\n",
       "      <th>Tachiaritmiasopraventricolare</th>\n",
       "    </tr>\n",
       "  </thead>\n",
       "  <tbody>\n",
       "    <tr>\n",
       "      <th>2</th>\n",
       "      <td>BS01</td>\n",
       "      <td>1</td>\n",
       "      <td>0</td>\n",
       "      <td>72</td>\n",
       "      <td>0.0</td>\n",
       "      <td>1</td>\n",
       "      <td>0</td>\n",
       "      <td>0</td>\n",
       "      <td>0</td>\n",
       "      <td>0</td>\n",
       "      <td>...</td>\n",
       "      <td>0.0</td>\n",
       "      <td>NaN</td>\n",
       "      <td>0.0</td>\n",
       "      <td>0.0</td>\n",
       "      <td>0.0</td>\n",
       "      <td>0.0</td>\n",
       "      <td>0.0</td>\n",
       "      <td>0.0</td>\n",
       "      <td>0.0</td>\n",
       "      <td>0.0</td>\n",
       "    </tr>\n",
       "    <tr>\n",
       "      <th>3</th>\n",
       "      <td>BS-004</td>\n",
       "      <td>1</td>\n",
       "      <td>0</td>\n",
       "      <td>53</td>\n",
       "      <td>0.0</td>\n",
       "      <td>1</td>\n",
       "      <td>1</td>\n",
       "      <td>0</td>\n",
       "      <td>0</td>\n",
       "      <td>0</td>\n",
       "      <td>...</td>\n",
       "      <td>0.0</td>\n",
       "      <td>NaN</td>\n",
       "      <td>0.0</td>\n",
       "      <td>0.0</td>\n",
       "      <td>0.0</td>\n",
       "      <td>0.0</td>\n",
       "      <td>0.0</td>\n",
       "      <td>0.0</td>\n",
       "      <td>0.0</td>\n",
       "      <td>0.0</td>\n",
       "    </tr>\n",
       "    <tr>\n",
       "      <th>4</th>\n",
       "      <td>BS-005</td>\n",
       "      <td>0</td>\n",
       "      <td>1</td>\n",
       "      <td>58</td>\n",
       "      <td>0.0</td>\n",
       "      <td>0</td>\n",
       "      <td>0</td>\n",
       "      <td>0</td>\n",
       "      <td>0</td>\n",
       "      <td>0</td>\n",
       "      <td>...</td>\n",
       "      <td>0.0</td>\n",
       "      <td>NaN</td>\n",
       "      <td>0.0</td>\n",
       "      <td>0.0</td>\n",
       "      <td>0.0</td>\n",
       "      <td>0.0</td>\n",
       "      <td>0.0</td>\n",
       "      <td>0.0</td>\n",
       "      <td>0.0</td>\n",
       "      <td>0.0</td>\n",
       "    </tr>\n",
       "    <tr>\n",
       "      <th>5</th>\n",
       "      <td>RM01-27</td>\n",
       "      <td>1</td>\n",
       "      <td>0</td>\n",
       "      <td>60</td>\n",
       "      <td>0.0</td>\n",
       "      <td>1</td>\n",
       "      <td>0</td>\n",
       "      <td>0</td>\n",
       "      <td>0</td>\n",
       "      <td>0</td>\n",
       "      <td>...</td>\n",
       "      <td>1.0</td>\n",
       "      <td>3.0</td>\n",
       "      <td>0.0</td>\n",
       "      <td>0.0</td>\n",
       "      <td>0.0</td>\n",
       "      <td>0.0</td>\n",
       "      <td>0.0</td>\n",
       "      <td>0.0</td>\n",
       "      <td>0.0</td>\n",
       "      <td>0.0</td>\n",
       "    </tr>\n",
       "    <tr>\n",
       "      <th>7</th>\n",
       "      <td>B001</td>\n",
       "      <td>1</td>\n",
       "      <td>0</td>\n",
       "      <td>72</td>\n",
       "      <td>0.0</td>\n",
       "      <td>1</td>\n",
       "      <td>0</td>\n",
       "      <td>0</td>\n",
       "      <td>0</td>\n",
       "      <td>0</td>\n",
       "      <td>...</td>\n",
       "      <td>0.0</td>\n",
       "      <td>NaN</td>\n",
       "      <td>0.0</td>\n",
       "      <td>0.0</td>\n",
       "      <td>0.0</td>\n",
       "      <td>0.0</td>\n",
       "      <td>0.0</td>\n",
       "      <td>0.0</td>\n",
       "      <td>0.0</td>\n",
       "      <td>0.0</td>\n",
       "    </tr>\n",
       "  </tbody>\n",
       "</table>\n",
       "<p>5 rows × 131 columns</p>\n",
       "</div>"
      ],
      "text/plain": [
       "  Codiceidentificativo  Sesso  Nazionalità  Età  Domicilio  Comorbilità  \\\n",
       "2                 BS01      1            0   72        0.0            1   \n",
       "3               BS-004      1            0   53        0.0            1   \n",
       "4               BS-005      0            1   58        0.0            0   \n",
       "5              RM01-27      1            0   60        0.0            1   \n",
       "7                 B001      1            0   72        0.0            1   \n",
       "\n",
       "   Diabete  HIV  Cirrosi  IRC  ...  Trasfusione  Unitàtrasfuse  \\\n",
       "2        0    0        0    0  ...          0.0            NaN   \n",
       "3        1    0        0    0  ...          0.0            NaN   \n",
       "4        0    0        0    0  ...          0.0            NaN   \n",
       "5        0    0        0    0  ...          1.0            3.0   \n",
       "7        0    0        0    0  ...          0.0            NaN   \n",
       "\n",
       "   Altrieventiavversi  Diarreaedisidratazione  Ipertransaminasemiatardiva  \\\n",
       "2                 0.0                     0.0                         0.0   \n",
       "3                 0.0                     0.0                         0.0   \n",
       "4                 0.0                     0.0                         0.0   \n",
       "5                 0.0                     0.0                         0.0   \n",
       "7                 0.0                     0.0                         0.0   \n",
       "\n",
       "   Polmonite  IVUnosocomiale  Esofagite  Dispepsia  \\\n",
       "2        0.0             0.0        0.0        0.0   \n",
       "3        0.0             0.0        0.0        0.0   \n",
       "4        0.0             0.0        0.0        0.0   \n",
       "5        0.0             0.0        0.0        0.0   \n",
       "7        0.0             0.0        0.0        0.0   \n",
       "\n",
       "   Tachiaritmiasopraventricolare  \n",
       "2                            0.0  \n",
       "3                            0.0  \n",
       "4                            0.0  \n",
       "5                            0.0  \n",
       "7                            0.0  \n",
       "\n",
       "[5 rows x 131 columns]"
      ]
     },
     "execution_count": 11,
     "metadata": {},
     "output_type": "execute_result"
    }
   ],
   "source": [
    "artsnt_df.head(5)"
   ]
  },
  {
   "cell_type": "code",
   "execution_count": 12,
   "metadata": {},
   "outputs": [
    {
     "name": "stderr",
     "output_type": "stream",
     "text": [
      "C:\\Users\\balth\\AppData\\Local\\Temp/ipykernel_16780/2274167390.py:20: DeprecationWarning: `np.object` is a deprecated alias for the builtin `object`. To silence this warning, use `object` by itself. Doing this will not modify any behavior and is safe. \n",
      "Deprecated in NumPy 1.20; for more details and guidance: https://numpy.org/devdocs/release/1.20.0-notes.html#deprecations\n",
      "  if artsnt_df[feature].dtype != np.object:  # Check if the feature is not a string\n",
      "C:\\Users\\balth\\AppData\\Local\\Temp/ipykernel_16780/2274167390.py:40: UserWarning: FixedFormatter should only be used together with FixedLocator\n",
      "  plt.gca().set_xticklabels([label[:10] for label in features])  # Display only the first 10 characters of the labels\n"
     ]
    },
    {
     "data": {
      "image/png": "[encoded data removed]",
      "text/plain": [
       "<Figure size 720x432 with 1 Axes>"
      ]
     },
     "metadata": {
      "needs_background": "light"
     },
     "output_type": "display_data"
    },
    {
     "data": {
      "image/png": "[encoded data removed]",
      "text/plain": [
       "<Figure size 720x432 with 1 Axes>"
      ]
     },
     "metadata": {
      "needs_background": "light"
     },
     "output_type": "display_data"
    },
    {
     "data": {
      "image/png": "[encoded data removed]",
      "text/plain": [
       "<Figure size 720x432 with 1 Axes>"
      ]
     },
     "metadata": {
      "needs_background": "light"
     },
     "output_type": "display_data"
    },
    {
     "data": {
      "image/png": "[encoded data removed]",
      "text/plain": [
       "<Figure size 720x432 with 1 Axes>"
      ]
     },
     "metadata": {
      "needs_background": "light"
     },
     "output_type": "display_data"
    },
    {
     "data": {
      "image/png": "[encoded data removed]",
      "text/plain": [
       "<Figure size 720x432 with 1 Axes>"
      ]
     },
     "metadata": {
      "needs_background": "light"
     },
     "output_type": "display_data"
    },
    {
     "data": {
      "image/png": "[encoded data removed]",
      "text/plain": [
       "<Figure size 720x432 with 1 Axes>"
      ]
     },
     "metadata": {
      "needs_background": "light"
     },
     "output_type": "display_data"
    },
    {
     "data": {
      "image/png": "[encoded data removed]",
      "text/plain": [
       "<Figure size 720x432 with 1 Axes>"
      ]
     },
     "metadata": {
      "needs_background": "light"
     },
     "output_type": "display_data"
    },
    {
     "data": {
      "image/png": "[encoded data removed]",
      "text/plain": [
       "<Figure size 720x432 with 1 Axes>"
      ]
     },
     "metadata": {
      "needs_background": "light"
     },
     "output_type": "display_data"
    },
    {
     "data": {
      "image/png": "[encoded data removed]",
      "text/plain": [
       "<Figure size 720x432 with 1 Axes>"
      ]
     },
     "metadata": {
      "needs_background": "light"
     },
     "output_type": "display_data"
    },
    {
     "data": {
      "image/png": "[encoded data removed]",
      "text/plain": [
       "<Figure size 720x432 with 1 Axes>"
      ]
     },
     "metadata": {
      "needs_background": "light"
     },
     "output_type": "display_data"
    },
    {
     "data": {
      "image/png": "[encoded data removed]",
      "text/plain": [
       "<Figure size 720x432 with 1 Axes>"
      ]
     },
     "metadata": {
      "needs_background": "light"
     },
     "output_type": "display_data"
    },
    {
     "data": {
      "image/png": "[encoded data removed]",
      "text/plain": [
       "<Figure size 720x432 with 1 Axes>"
      ]
     },
     "metadata": {
      "needs_background": "light"
     },
     "output_type": "display_data"
    },
    {
     "data": {
      "image/png": "[encoded data removed]",
      "text/plain": [
       "<Figure size 720x432 with 1 Axes>"
      ]
     },
     "metadata": {
      "needs_background": "light"
     },
     "output_type": "display_data"
    },
    {
     "data": {
      "image/png": "[encoded data removed]",
      "text/plain": [
       "<Figure size 720x432 with 1 Axes>"
      ]
     },
     "metadata": {
      "needs_background": "light"
     },
     "output_type": "display_data"
    },
    {
     "data": {
      "image/png": "[encoded data removed]",
      "text/plain": [
       "<Figure size 720x432 with 1 Axes>"
      ]
     },
     "metadata": {
      "needs_background": "light"
     },
     "output_type": "display_data"
    },
    {
     "data": {
      "image/png": "[encoded data removed]",
      "text/plain": [
       "<Figure size 720x432 with 1 Axes>"
      ]
     },
     "metadata": {
      "needs_background": "light"
     },
     "output_type": "display_data"
    }
   ],
   "source": [
    "import matplotlib.pyplot as plt\n",
    "import numpy as np\n",
    "from matplotlib import colors\n",
    "\n",
    "# Define the category lists\n",
    "categories = [patient_general, comorbidities, patient_state_arrival, diagnosis_type, diagnosis_result, baseline_other, QTc, T0, T1, T2, T3, T7, treatment, outcome, PADH_info, follow_up]\n",
    "category_names = ['Patient General', 'Comorbidities', 'Patient State Arrival', 'Diagnosis Type', 'Diagnosis Result', 'Baseline Other', 'QTc', 'T0', 'T1', 'T2', 'T3', 'T7', 'Treatment', 'Outcome', 'PADH Info', 'Follow-up']\n",
    "\n",
    "# Get the 'PADH' column from artsnt_df\n",
    "target_column = artsnt_df['PADH']\n",
    "\n",
    "# Iterate over each category\n",
    "for category, category_name in zip(categories, category_names):\n",
    "    # Filter the features based on the current category\n",
    "    features = [feature for feature in artsnt_df.columns if feature in category]\n",
    "\n",
    "    # Calculate the correlation between each feature and PADH\n",
    "    correlations = []\n",
    "    for feature in features:\n",
    "        if artsnt_df[feature].dtype != np.object:  # Check if the feature is not a string\n",
    "            correlation = artsnt_df[feature].corr(target_column)\n",
    "            correlations.append((feature, correlation))\n",
    "\n",
    "    # Sort the correlation values in ascending order\n",
    "    correlations.sort(key=lambda x: x[1])\n",
    "\n",
    "    # Prepare colors for the bars based on correlation values\n",
    "    cmap = colors.LinearSegmentedColormap.from_list('correlation_cmap', ['green', 'white', 'red'])\n",
    "    norm = colors.Normalize(vmin=-1, vmax=1)\n",
    "\n",
    "    # Plot the correlation values on a bar chart with colored bars\n",
    "    plt.figure(figsize=(10, 6))\n",
    "    features, correlation_values = zip(*correlations)\n",
    "    bar_colors = cmap(norm(correlation_values))\n",
    "    plt.bar(features, correlation_values, color=bar_colors)\n",
    "    plt.xlabel('Features')\n",
    "    plt.ylabel('Correlation with PADH')\n",
    "    plt.title(f'Correlation between Features in {category_name} and PADH')\n",
    "    plt.xticks(rotation=90)\n",
    "    plt.gca().set_xticklabels([label[:10] for label in features])  # Display only the first 10 characters of the labels\n",
    "    plt.tight_layout()\n",
    "    plt.show()\n"
   ]
  },
  {
   "cell_type": "code",
   "execution_count": 13,
   "metadata": {},
   "outputs": [],
   "source": [
    "patient_general_noID = ['Sesso', 'Nazionalità', 'Età', 'Domicilio','Altezza','Peso', 'Sub-Saharan Africa', 'Pregressa malaria', 'Profilassi']\n",
    "\n",
    "# And we will only keep the features that do not introduce \"bias\" in our graphe\n",
    "predictive_categories = [patient_general_noID, comorbidities, patient_state_arrival, diagnosis_result, baseline_other, T0, treatment]"
   ]
  },
  {
   "cell_type": "code",
   "execution_count": 14,
   "metadata": {},
   "outputs": [],
   "source": [
    "# Create an empty list to store selected feature names\n",
    "selected_features = []\n",
    "\n",
    "# Iterate over predictive_categories\n",
    "for category in predictive_categories:\n",
    "    # Check if any column in artsnt_df is present in the current category\n",
    "    selected_features.extend([feature for feature in artsnt_df.columns if feature in category])\n",
    "\n",
    "# Create predictive_artsnt_df DataFrame with selected features\n",
    "predictive_artsnt_df = artsnt_df[selected_features]\n"
   ]
  },
  {
   "cell_type": "code",
   "execution_count": 15,
   "metadata": {},
   "outputs": [
    {
     "name": "stdout",
     "output_type": "stream",
     "text": [
      "Feature: Parassitemiavaloreassoluto, Correlation with PADH: 0.5869520969550349\n",
      "Feature: Hyperparasitaemia, Correlation with PADH: 0.41461399144838584\n",
      "Feature: T0ALTinUL, Correlation with PADH: 0.388758553540965\n",
      "Feature: Numerocriteri, Correlation with PADH: 0.371641455952791\n",
      "Feature: Percentualeparassitemia, Correlation with PADH: 0.3676513119451234\n",
      "Feature: T0PLTincellul, Correlation with PADH: -0.32886876022963524\n",
      "Feature: T0Creatininainmgdl, Correlation with PADH: 0.30028592430050893\n",
      "Feature: PAdiastolica, Correlation with PADH: -0.2965999096425687\n",
      "Feature: Creatinina, Correlation with PADH: 0.2762874885599711\n",
      "Feature: Sesso, Correlation with PADH: -0.25498210332467075\n",
      "Feature: T0ASTinUL, Correlation with PADH: 0.24781927556062455\n",
      "Feature: Altezza, Correlation with PADH: -0.21986629534318436\n",
      "Feature: Bilirubina, Correlation with PADH: 0.20865621238292037\n",
      "Feature: HIV, Correlation with PADH: 0.18970080273373413\n",
      "Feature: ARDS, Correlation with PADH: 0.18970080273373413\n",
      "Feature: Acidosi, Correlation with PADH: 0.18970080273373408\n",
      "Feature: Nazionalità, Correlation with PADH: -0.13552618543578776\n",
      "Feature: IRC, Correlation with PADH: -0.11547005383792527\n",
      "Feature: FR, Correlation with PADH: -0.11093382364421725\n",
      "Feature: PAsistolica, Correlation with PADH: -0.11058869245890175\n",
      "Feature: Anemia, Correlation with PADH: 0.10932267489210516\n",
      "Feature: Profilassi, Correlation with PADH: -0.08050764858994156\n",
      "Feature: Bleeding, Correlation with PADH: -0.08050764858994153\n",
      "Feature: Domicilio, Correlation with PADH: -0.08050764858994149\n",
      "Feature: GCS, Correlation with PADH: -0.08050764858994147\n",
      "Feature: Glicemia, Correlation with PADH: -0.08050764858994143\n",
      "Feature: Ovale, Correlation with PADH: -0.08050764858994143\n",
      "Feature: Falciparum, Correlation with PADH: 0.08050764858994139\n",
      "Feature: Peso, Correlation with PADH: 0.07088016227707153\n",
      "Feature: Età, Correlation with PADH: 0.07082605565882656\n",
      "Feature: Ritardoterapeutico, Correlation with PADH: -0.0640013694167322\n",
      "Feature: Diabete, Correlation with PADH: -0.057142857142857106\n",
      "Feature: Comorbilità, Correlation with PADH: 0.055971707854955664\n",
      "Feature: Prostrazione, Correlation with PADH: -0.01679842102263228\n",
      "Feature: FC, Correlation with PADH: -0.01578801959147303\n",
      "Feature: Shock, Correlation with PADH: 0.010910894511799612\n",
      "Feature: Artesunate, Correlation with PADH: nan\n",
      "Feature: ArtemetherLumefantrinaSomministrazione1Datainizioeora, Correlation with PADH: nan\n",
      "Feature: DurataArtesunato, Correlation with PADH: 0.36592434460977147\n",
      "Feature: T0Azotemiainmgdl, Correlation with PADH: 0.30737036191628575\n",
      "Feature: DiidroartemisininaPiperachinaSomministrazione1Datainizioeora, Correlation with PADH: -0.21758445525607326\n",
      "Feature: ACT, Correlation with PADH: -0.21758445525607326\n",
      "Feature: ArtesunatoACT, Correlation with PADH: -0.21758445525607326\n",
      "Feature: T0LDHinUL, Correlation with PADH: 0.17179625548404728\n",
      "Feature: T0Cainmgdl, Correlation with PADH: 0.16607769692938404\n",
      "Feature: Doxiciclinaperos, Correlation with PADH: 0.16334349292548103\n",
      "Feature: T0GBincellul, Correlation with PADH: 0.14922110516417228\n",
      "Feature: Primachina, Correlation with PADH: -0.13363062095621217\n",
      "Feature: T0fibrinogenoinmgdl, Correlation with PADH: -0.12884667489319251\n",
      "Feature: T0SodioinmEql, Correlation with PADH: -0.12611333222388627\n",
      "Feature: T0pH, Correlation with PADH: 0.12515243532911538\n",
      "Feature: Temperatura, Correlation with PADH: 0.12493602891480056\n",
      "Feature: Chinino, Correlation with PADH: -0.11547005383792541\n",
      "Feature: Antibiotici, Correlation with PADH: -0.10852977234194246\n",
      "Feature: T0Bilirubinatotinmgdl, Correlation with PADH: -0.08585814618331218\n",
      "Feature: T0PotassioinmEql, Correlation with PADH: -0.08573793480831546\n",
      "Feature: AtovaquoneProguanile, Correlation with PADH: -0.08050764858994149\n",
      "Feature: T0GRincellul, Correlation with PADH: -0.08046489522187601\n",
      "Feature: T0Lattatiinmmoll, Correlation with PADH: -0.06502160865422216\n",
      "Feature: Clindamicina, Correlation with PADH: 0.035921060405354935\n",
      "Feature: T0bicarbonatiinmmoll, Correlation with PADH: -0.033722505201626306\n",
      "Feature: T0Bilirubinadirettainmgdl, Correlation with PADH: -0.03352021369084645\n",
      "Feature: T0INR, Correlation with PADH: 0.02948774523284534\n",
      "Feature: T0Glicemiainmgdl, Correlation with PADH: -0.003165054492097281\n",
      "Feature: T0Hbingdl, Correlation with PADH: -0.0014887801503933762\n"
     ]
    }
   ],
   "source": [
    "correlations = []\n",
    "\n",
    "# Iterate over selected features\n",
    "for feature in selected_features:\n",
    "    # Calculate correlation between the selected feature and \"PADH\"\n",
    "    correlation = artsnt_df[feature].corr(artsnt_df[\"PADH\"])\n",
    "    correlations.append((feature, correlation))\n",
    "\n",
    "# Sort the correlations in descending order based on absolute values\n",
    "correlations.sort(key=lambda x: abs(x[1]), reverse=True)\n",
    "\n",
    "# Print the feature/correlation pairs\n",
    "for feature, correlation in correlations:\n",
    "    print(f\"Feature: {feature}, Correlation with PADH: {correlation}\")\n"
   ]
  },
  {
   "cell_type": "code",
   "execution_count": 16,
   "metadata": {},
   "outputs": [
    {
     "data": {
      "image/png": "[encoded data removed]",
      "text/plain": [
       "<Figure size 432x432 with 1 Axes>"
      ]
     },
     "metadata": {
      "needs_background": "light"
     },
     "output_type": "display_data"
    }
   ],
   "source": [
    "import pandas as pd\n",
    "import numpy as np\n",
    "import matplotlib.pyplot as plt\n",
    "\n",
    "# Step 1: Extract the two features from predictive_artsnt_df for male and female dataframes\n",
    "feature1 = predictive_artsnt_df['Parassitemiavaloreassoluto']\n",
    "feature2 = predictive_artsnt_df['T0ALTinUL']\n",
    "\n",
    "# Step 2: Extract the PADH labels from artsnt_df for male and female dataframes\n",
    "PADH_labels = artsnt_df['PADH']\n",
    "\n",
    "# Step 3: Map the PADH labels to colors for male and female dataframes\n",
    "colors = ['red' if label == 1 else 'blue' for label in PADH_labels]\n",
    "\n",
    "# Step 4: Create the scatter plots for male and female dataframes\n",
    "plt.figure(figsize=(6, 6))\n",
    "\n",
    "plt.scatter(feature1, feature2, c=colors)\n",
    "plt.xlabel('Parassitemiavaloreassoluto')\n",
    "plt.ylabel('T0ALTinUL')\n",
    "\n",
    "# Step 5: Adjust spacing between subplots\n",
    "plt.tight_layout()\n",
    "\n",
    "# Step 6: Show the plot\n",
    "plt.show()\n"
   ]
  },
  {
   "attachments": {},
   "cell_type": "markdown",
   "metadata": {},
   "source": [
    "***For now it seems that parassitemia is the only relevant value. When this value is very close to zero there are few chances of PADH***"
   ]
  },
  {
   "attachments": {},
   "cell_type": "markdown",
   "metadata": {},
   "source": [
    "***Let's see if we can extract other interesting features with a Tree***"
   ]
  },
  {
   "attachments": {},
   "cell_type": "markdown",
   "metadata": {},
   "source": [
    "We need to build predictive df for the tree"
   ]
  },
  {
   "cell_type": "code",
   "execution_count": 17,
   "metadata": {},
   "outputs": [],
   "source": [
    "# Load the CSV file into a DataFrame\n",
    "predictive_df = pd.read_csv('../data\\predictive_df.csv')\n",
    "filtered_df = pd.read_csv('../data\\\\filtered_df.csv')\n"
   ]
  },
  {
   "cell_type": "code",
   "execution_count": 18,
   "metadata": {},
   "outputs": [],
   "source": [
    "# Rename the feature 'Column1' to 'NewColumn' (modifying in place)\n",
    "predictive_df.rename(columns={'ArtesunatoevSomministrazione1Datainizioeora': 'Artesunate'}, inplace=True)\n",
    "predictive_df.rename(columns={'PADHpostartesunatedelayedhaemoly1s': 'PADH'}, inplace=True)\n",
    "predictive_df = predictive_df[predictive_df['Artesunate'] == 1]\n",
    "\n",
    "filtered_df.rename(columns={'ArtesunatoevSomministrazione1Datainizioeora': 'Artesunate'}, inplace=True)\n",
    "filtered_df.rename(columns={'PADHpostartesunatedelayedhaemoly1s': 'PADH'}, inplace=True)\n",
    "filtered_df = filtered_df[filtered_df['Artesunate'] == 1]\n"
   ]
  },
  {
   "cell_type": "code",
   "execution_count": 19,
   "metadata": {},
   "outputs": [],
   "source": [
    "from sklearn.tree import DecisionTreeClassifier\n",
    "from sklearn import tree\n"
   ]
  },
  {
   "cell_type": "code",
   "execution_count": 20,
   "metadata": {},
   "outputs": [
    {
     "data": {
      "text/plain": [
       "[Text(0.625, 0.875, 'T0bicarbonatiinmmoll <= 26.701\\ngini = 0.249\\nsamples = 55\\nvalue = [47, 8]'),\n",
       " Text(0.5, 0.625, 'T0ALTinUL <= 66.5\\ngini = 0.454\\nsamples = 23\\nvalue = [15, 8]'),\n",
       " Text(0.25, 0.375, 'Sesso <= 0.5\\ngini = 0.231\\nsamples = 15\\nvalue = [13, 2]'),\n",
       " Text(0.125, 0.125, 'gini = 0.48\\nsamples = 5\\nvalue = [3, 2]'),\n",
       " Text(0.375, 0.125, 'gini = 0.0\\nsamples = 10\\nvalue = [10, 0]'),\n",
       " Text(0.75, 0.375, 'Glicemia <= 0.5\\ngini = 0.375\\nsamples = 8\\nvalue = [2, 6]'),\n",
       " Text(0.625, 0.125, 'gini = 0.0\\nsamples = 6\\nvalue = [0, 6]'),\n",
       " Text(0.875, 0.125, 'gini = 0.0\\nsamples = 2\\nvalue = [2, 0]'),\n",
       " Text(0.75, 0.625, 'gini = 0.0\\nsamples = 32\\nvalue = [32, 0]')]"
      ]
     },
     "execution_count": 20,
     "metadata": {},
     "output_type": "execute_result"
    },
    {
     "data": {
      "image/png": "[encoded data removed]",
      "text/plain": [
       "<Figure size 1152x864 with 1 Axes>"
      ]
     },
     "metadata": {
      "needs_background": "light"
     },
     "output_type": "display_data"
    }
   ],
   "source": [
    "# Step 1: Get all the features from predictive_artsnt_df\n",
    "features = predictive_df[predictive_df['Artesunate'] == 1]\n",
    "\n",
    "# Step 2: Get the target variable from filtered_df\n",
    "target = filtered_df['PADH']\n",
    "\n",
    "# Step 3: Create a decision tree classifier with max depth of 8\n",
    "clf = DecisionTreeClassifier(min_samples_leaf=2, max_depth=3)\n",
    "# clf = DecisionTreeClassifier(max_depth=5)\n",
    "clf.fit(features, target)\n",
    "\n",
    "# Step 4: Set a larger figure size \n",
    "plt.figure(figsize=(16, 12))\n",
    "\n",
    "# Step 5: Print the decision tree\n",
    "tree.plot_tree(clf, feature_names=features.columns, filled=True, rounded=True, fontsize=10)\n"
   ]
  },
  {
   "cell_type": "code",
   "execution_count": 21,
   "metadata": {},
   "outputs": [
    {
     "data": {
      "image/png": "[encoded data removed]",
      "text/plain": [
       "<Figure size 432x432 with 1 Axes>"
      ]
     },
     "metadata": {
      "needs_background": "light"
     },
     "output_type": "display_data"
    }
   ],
   "source": [
    "import pandas as pd\n",
    "import numpy as np\n",
    "import matplotlib.pyplot as plt\n",
    "\n",
    "# Step 1: Extract the two features from predictive_artsnt_df for male and female dataframes\n",
    "feature1 = predictive_artsnt_df['Parassitemiavaloreassoluto']\n",
    "feature2 = predictive_artsnt_df['T0bicarbonatiinmmoll']\n",
    "\n",
    "# Step 2: Extract the PADH labels from artsnt_df for male and female dataframes\n",
    "PADH_labels = artsnt_df['PADH']\n",
    "\n",
    "# Step 3: Map the PADH labels to colors for male and female dataframes\n",
    "colors = ['red' if label == 1 else 'blue' for label in PADH_labels]\n",
    "\n",
    "# Step 4: Create the scatter plots for male and female dataframes\n",
    "plt.figure(figsize=(6, 6))\n",
    "\n",
    "plt.scatter(feature1, feature2, c=colors)\n",
    "plt.xlabel('Parassitemiavaloreassoluto')\n",
    "plt.ylabel('T0bicarbonatiinmmoll')\n",
    "\n",
    "# Step 5: Adjust spacing between subplots\n",
    "plt.tight_layout()\n",
    "\n",
    "# Step 6: Show the plot\n",
    "plt.show()\n"
   ]
  },
  {
   "cell_type": "code",
   "execution_count": 22,
   "metadata": {},
   "outputs": [
    {
     "data": {
      "image/png": "[encoded data removed]",
      "text/plain": [
       "<Figure size 432x432 with 1 Axes>"
      ]
     },
     "metadata": {
      "needs_background": "light"
     },
     "output_type": "display_data"
    }
   ],
   "source": [
    "import pandas as pd\n",
    "import numpy as np\n",
    "import matplotlib.pyplot as plt\n",
    "\n",
    "# Step 1: Extract the two features from predictive_artsnt_df for male and female dataframes\n",
    "feature1 = predictive_df['Parassitemiavaloreassoluto']\n",
    "feature2 = predictive_df['T0bicarbonatiinmmoll']\n",
    "\n",
    "# Step 2: Extract the PADH labels from artsnt_df for male and female dataframes\n",
    "PADH_labels = artsnt_df['PADH']\n",
    "\n",
    "# Step 3: Map the PADH labels to colors for male and female dataframes\n",
    "colors = ['red' if label == 1 else 'blue' for label in PADH_labels]\n",
    "\n",
    "# Step 4: Create the scatter plots for male and female dataframes\n",
    "plt.figure(figsize=(6, 6))\n",
    "plt.title('Filled data')\n",
    "plt.scatter(feature1, feature2, c=colors)\n",
    "plt.xlabel('Parassitemiavaloreassoluto')\n",
    "plt.ylabel('T0bicarbonatiinmmoll')\n",
    "\n",
    "# Step 5: Adjust spacing between subplots\n",
    "plt.tight_layout()\n",
    "\n",
    "# Step 6: Show the plot\n",
    "plt.show()\n"
   ]
  },
  {
   "cell_type": "code",
   "execution_count": 23,
   "metadata": {},
   "outputs": [
    {
     "data": {
      "image/png": "[encoded data removed]",
      "text/plain": [
       "<Figure size 432x432 with 1 Axes>"
      ]
     },
     "metadata": {
      "needs_background": "light"
     },
     "output_type": "display_data"
    }
   ],
   "source": [
    "import pandas as pd\n",
    "import numpy as np\n",
    "import matplotlib.pyplot as plt\n",
    "\n",
    "# Step 1: Extract the two features from predictive_artsnt_df for male and female dataframes\n",
    "feature1 = predictive_df['T0ALTinUL']\n",
    "feature2 = predictive_df['T0bicarbonatiinmmoll']\n",
    "\n",
    "# Step 2: Extract the PADH labels from artsnt_df for male and female dataframes\n",
    "PADH_labels = artsnt_df['PADH']\n",
    "\n",
    "# Step 3: Map the PADH labels to colors for male and female dataframes\n",
    "colors = ['red' if label == 1 else 'blue' for label in PADH_labels]\n",
    "\n",
    "# Step 4: Create the scatter plots for male and female dataframes\n",
    "plt.figure(figsize=(6, 6))\n",
    "plt.title('Filled data')\n",
    "plt.scatter(feature1, feature2, c=colors)\n",
    "plt.xlabel('T0ALTinUL')\n",
    "plt.ylabel('T0bicarbonatiinmmoll')\n",
    "\n",
    "# Step 5: Adjust spacing between subplots\n",
    "plt.tight_layout()\n",
    "\n",
    "# Step 6: Show the plot\n",
    "plt.show()\n"
   ]
  },
  {
   "cell_type": "code",
   "execution_count": 24,
   "metadata": {},
   "outputs": [
    {
     "data": {
      "image/png": "[encoded data removed]",
      "text/plain": [
       "<Figure size 432x432 with 1 Axes>"
      ]
     },
     "metadata": {
      "needs_background": "light"
     },
     "output_type": "display_data"
    }
   ],
   "source": [
    "import pandas as pd\n",
    "import numpy as np\n",
    "import matplotlib.pyplot as plt\n",
    "\n",
    "# Step 1: Extract the two features from predictive_artsnt_df for male and female dataframes\n",
    "feature1 = predictive_artsnt_df['T0ALTinUL']\n",
    "feature2 = predictive_artsnt_df['T0bicarbonatiinmmoll']\n",
    "\n",
    "# Step 2: Extract the PADH labels from artsnt_df for male and female dataframes\n",
    "PADH_labels = artsnt_df['PADH']\n",
    "\n",
    "# Step 3: Map the PADH labels to colors for male and female dataframes\n",
    "colors = ['red' if label == 1 else 'blue' for label in PADH_labels]\n",
    "\n",
    "# Step 4: Create the scatter plots for male and female dataframes\n",
    "plt.figure(figsize=(6, 6))\n",
    "\n",
    "plt.scatter(feature1, feature2, c=colors)\n",
    "plt.xlabel('T0ALTinUL')\n",
    "plt.ylabel('T0bicarbonatiinmmoll')\n",
    "\n",
    "# Step 5: Adjust spacing between subplots\n",
    "plt.tight_layout()\n",
    "\n",
    "# Step 6: Show the plot\n",
    "plt.show()\n"
   ]
  },
  {
   "cell_type": "code",
   "execution_count": 25,
   "metadata": {},
   "outputs": [
    {
     "data": {
      "image/png": "[encoded data removed]",
      "text/plain": [
       "<Figure size 432x432 with 1 Axes>"
      ]
     },
     "metadata": {
      "needs_background": "light"
     },
     "output_type": "display_data"
    }
   ],
   "source": [
    "import pandas as pd\n",
    "import numpy as np\n",
    "import matplotlib.pyplot as plt\n",
    "\n",
    "# Step 1: Extract the two features from predictive_artsnt_df for male and female dataframes\n",
    "feature1 = predictive_artsnt_df['Parassitemiavaloreassoluto']\n",
    "feature2 = predictive_artsnt_df['DurataArtesunato']\n",
    "\n",
    "# Step 2: Extract the PADH labels from artsnt_df for male and female dataframes\n",
    "PADH_labels = artsnt_df['PADH']\n",
    "\n",
    "# Step 3: Map the PADH labels to colors for male and female dataframes\n",
    "colors = ['red' if label == 1 else 'blue' for label in PADH_labels]\n",
    "\n",
    "# Step 4: Create the scatter plots for male and female dataframes\n",
    "plt.figure(figsize=(6, 6))\n",
    "\n",
    "plt.scatter(feature1, feature2, c=colors)\n",
    "plt.xlabel('Parassitemiavaloreassoluto')\n",
    "plt.ylabel('DurataArtesunato')\n",
    "\n",
    "# Step 5: Adjust spacing between subplots\n",
    "plt.tight_layout()\n",
    "\n",
    "# Step 6: Show the plot\n",
    "plt.show()\n"
   ]
  },
  {
   "cell_type": "code",
   "execution_count": 26,
   "metadata": {},
   "outputs": [
    {
     "data": {
      "image/png": "[encoded data removed]",
      "text/plain": [
       "<Figure size 432x432 with 1 Axes>"
      ]
     },
     "metadata": {
      "needs_background": "light"
     },
     "output_type": "display_data"
    }
   ],
   "source": [
    "import pandas as pd\n",
    "import numpy as np\n",
    "import matplotlib.pyplot as plt\n",
    "\n",
    "# Step 1: Extract the two features from predictive_artsnt_df for male and female dataframes\n",
    "feature1 = predictive_df['Parassitemiavaloreassoluto']\n",
    "feature2 = predictive_df['T0ALTinUL']\n",
    "\n",
    "# Step 2: Extract the PADH labels from artsnt_df for male and female dataframes\n",
    "PADH_labels = artsnt_df['PADH']\n",
    "\n",
    "# Step 3: Map the PADH labels to colors for male and female dataframes\n",
    "colors = ['red' if label == 1 else 'blue' for label in PADH_labels]\n",
    "\n",
    "# Step 4: Create the scatter plots for male and female dataframes\n",
    "plt.figure(figsize=(6, 6))\n",
    "plt.title('Filled data')\n",
    "plt.scatter(feature1, feature2, c=colors)\n",
    "plt.xlabel('Parassitemiavaloreassoluto')\n",
    "plt.ylabel('T0ALTinUL')\n",
    "\n",
    "# Step 5: Adjust spacing between subplots\n",
    "plt.tight_layout()\n",
    "\n",
    "# Step 6: Show the plot\n",
    "plt.show()\n"
   ]
  },
  {
   "cell_type": "code",
   "execution_count": 27,
   "metadata": {},
   "outputs": [
    {
     "data": {
      "image/png": "[encoded data removed]",
      "text/plain": [
       "<Figure size 720x576 with 1 Axes>"
      ]
     },
     "metadata": {
      "needs_background": "light"
     },
     "output_type": "display_data"
    }
   ],
   "source": [
    "import pandas as pd\n",
    "import matplotlib.pyplot as plt\n",
    "from mpl_toolkits.mplot3d import Axes3D\n",
    "\n",
    "# Assuming your data is stored in the 'features' DataFrame\n",
    "# Assuming the 'filtered_df' DataFrame contains the PADH values\n",
    "\n",
    "# Create a larger 3D figure\n",
    "fig = plt.figure(figsize=(10, 8))\n",
    "ax = fig.add_subplot(111, projection='3d')\n",
    "\n",
    "features = predictive_artsnt_df[['Parassitemiavaloreassoluto', 'T0ALTinUL', 'T0bicarbonatiinmmoll']]\n",
    "# Extract the coordinates from the 'features' DataFrame\n",
    "x = features['Parassitemiavaloreassoluto']\n",
    "z = features['T0ALTinUL']\n",
    "y = features['T0bicarbonatiinmmoll']\n",
    "\n",
    "\n",
    "# Color mapping based on PADH values\n",
    "PADH_values = filtered_df['PADH']\n",
    "colors = ['red' if padh == 1 else 'blue' for padh in PADH_values]\n",
    "\n",
    "# Plot the points in 3D with color mapping\n",
    "ax.scatter(x, y, z, c=colors, marker='o', alpha=0.8)\n",
    "\n",
    "\n",
    "# Set labels for each axis\n",
    "ax.set_zlabel('T0ALTinUL')\n",
    "ax.set_xlabel('Parassitemiavaloreassoluto')\n",
    "ax.set_ylabel('T0bicarbonatiinmmoll')\n",
    "\n",
    "# Show the 3D graph\n",
    "plt.show()\n"
   ]
  },
  {
   "cell_type": "code",
   "execution_count": 28,
   "metadata": {},
   "outputs": [],
   "source": [
    "import plotly.graph_objects as go"
   ]
  },
  {
   "cell_type": "code",
   "execution_count": 29,
   "metadata": {},
   "outputs": [
    {
     "data": {
      "application/vnd.plotly.v1+json": {
       "config": {
        "plotlyServerURL": "https://plot.ly"
       },
       "data": [
        {
         "marker": {
          "color": [
           "blue",
           "red",
           "red",
           "red",
           "blue",
           "blue",
           "blue",
           "red",
           "blue",
           "blue",
           "blue",
           "blue",
           "blue",
           "blue",
           "blue",
           "blue",
           "red",
           "red",
           "blue",
           "blue",
           "blue",
           "blue",
           "blue",
           "red",
           "blue",
           "blue",
           "blue",
           "blue",
           "blue",
           "blue",
           "blue",
           "blue",
           "blue",
           "blue",
           "blue",
           "blue",
           "red",
           "blue",
           "blue",
           "blue",
           "blue",
           "blue",
           "blue",
           "blue",
           "blue",
           "blue",
           "blue",
           "blue",
           "blue",
           "blue",
           "blue",
           "blue",
           "blue",
           "blue",
           "blue"
          ],
          "opacity": 0.8,
          "size": 2
         },
         "mode": "markers",
         "type": "scatter3d",
         "x": [
          7,
          572000,
          602100,
          110000,
          67000,
          115940,
          3315,
          150000,
          null,
          1635,
          null,
          null,
          134480,
          null,
          120249,
          null,
          50288,
          228750,
          null,
          4260,
          2200,
          476550,
          null,
          null,
          45700,
          575,
          14370,
          6800,
          54,
          120000,
          null,
          null,
          null,
          null,
          null,
          null,
          640000,
          11686,
          351,
          3000,
          17765,
          1125000,
          4040,
          167383,
          1462,
          5050,
          6126,
          null,
          null,
          null,
          279660,
          null,
          159544,
          118800,
          null
         ],
         "y": [
          30.4,
          null,
          null,
          23.9,
          30.4,
          null,
          null,
          26.3,
          27,
          null,
          null,
          null,
          null,
          30.4,
          null,
          28,
          23.4,
          25,
          27,
          null,
          25.3,
          17.7,
          null,
          23.4,
          16,
          25.8,
          null,
          null,
          null,
          14.8,
          null,
          null,
          null,
          null,
          21,
          null,
          null,
          null,
          22.8,
          null,
          23.2,
          null,
          null,
          null,
          27.4,
          null,
          null,
          null,
          null,
          22.7,
          null,
          null,
          null,
          null,
          null
         ],
         "z": [
          18,
          80,
          37,
          78,
          18,
          94,
          24,
          88,
          20,
          117,
          40,
          null,
          83,
          18,
          25,
          31,
          125,
          43,
          70,
          null,
          43,
          16,
          45,
          180,
          98,
          29,
          32,
          36,
          123,
          44,
          20,
          67,
          42,
          66,
          45,
          150,
          96,
          26,
          23,
          65,
          31,
          45,
          24,
          202,
          40,
          22,
          20,
          16,
          31,
          27,
          55,
          17,
          74,
          null,
          40
         ]
        }
       ],
       "layout": {
        "scene": {
         "xaxis": {
          "title": {
           "text": "Parassitemiavaloreassoluto"
          }
         },
         "yaxis": {
          "title": {
           "text": "T0bicarbonatiinmmoll"
          }
         },
         "zaxis": {
          "title": {
           "text": "T0ALTinUL"
          }
         }
        },
        "template": {
         "data": {
          "bar": [
           {
            "error_x": {
             "color": "#2a3f5f"
            },
            "error_y": {
             "color": "#2a3f5f"
            },
            "marker": {
             "line": {
              "color": "#E5ECF6",
              "width": 0.5
             },
             "pattern": {
              "fillmode": "overlay",
              "size": 10,
              "solidity": 0.2
             }
            },
            "type": "bar"
           }
          ],
          "barpolar": [
           {
            "marker": {
             "line": {
              "color": "#E5ECF6",
              "width": 0.5
             },
             "pattern": {
              "fillmode": "overlay",
              "size": 10,
              "solidity": 0.2
             }
            },
            "type": "barpolar"
           }
          ],
          "carpet": [
           {
            "aaxis": {
             "endlinecolor": "#2a3f5f",
             "gridcolor": "white",
             "linecolor": "white",
             "minorgridcolor": "white",
             "startlinecolor": "#2a3f5f"
            },
            "baxis": {
             "endlinecolor": "#2a3f5f",
             "gridcolor": "white",
             "linecolor": "white",
             "minorgridcolor": "white",
             "startlinecolor": "#2a3f5f"
            },
            "type": "carpet"
           }
          ],
          "choropleth": [
           {
            "colorbar": {
             "outlinewidth": 0,
             "ticks": ""
            },
            "type": "choropleth"
           }
          ],
          "contour": [
           {
            "colorbar": {
             "outlinewidth": 0,
             "ticks": ""
            },
            "colorscale": [
             [
              0,
              "#0d0887"
             ],
             [
              0.1111111111111111,
              "#46039f"
             ],
             [
              0.2222222222222222,
              "#7201a8"
             ],
             [
              0.3333333333333333,
              "#9c179e"
             ],
             [
              0.4444444444444444,
              "#bd3786"
             ],
             [
              0.5555555555555556,
              "#d8576b"
             ],
             [
              0.6666666666666666,
              "#ed7953"
             ],
             [
              0.7777777777777778,
              "#fb9f3a"
             ],
             [
              0.8888888888888888,
              "#fdca26"
             ],
             [
              1,
              "#f0f921"
             ]
            ],
            "type": "contour"
           }
          ],
          "contourcarpet": [
           {
            "colorbar": {
             "outlinewidth": 0,
             "ticks": ""
            },
            "type": "contourcarpet"
           }
          ],
          "heatmap": [
           {
            "colorbar": {
             "outlinewidth": 0,
             "ticks": ""
            },
            "colorscale": [
             [
              0,
              "#0d0887"
             ],
             [
              0.1111111111111111,
              "#46039f"
             ],
             [
              0.2222222222222222,
              "#7201a8"
             ],
             [
              0.3333333333333333,
              "#9c179e"
             ],
             [
              0.4444444444444444,
              "#bd3786"
             ],
             [
              0.5555555555555556,
              "#d8576b"
             ],
             [
              0.6666666666666666,
              "#ed7953"
             ],
             [
              0.7777777777777778,
              "#fb9f3a"
             ],
             [
              0.8888888888888888,
              "#fdca26"
             ],
             [
              1,
              "#f0f921"
             ]
            ],
            "type": "heatmap"
           }
          ],
          "heatmapgl": [
           {
            "colorbar": {
             "outlinewidth": 0,
             "ticks": ""
            },
            "colorscale": [
             [
              0,
              "#0d0887"
             ],
             [
              0.1111111111111111,
              "#46039f"
             ],
             [
              0.2222222222222222,
              "#7201a8"
             ],
             [
              0.3333333333333333,
              "#9c179e"
             ],
             [
              0.4444444444444444,
              "#bd3786"
             ],
             [
              0.5555555555555556,
              "#d8576b"
             ],
             [
              0.6666666666666666,
              "#ed7953"
             ],
             [
              0.7777777777777778,
              "#fb9f3a"
             ],
             [
              0.8888888888888888,
              "#fdca26"
             ],
             [
              1,
              "#f0f921"
             ]
            ],
            "type": "heatmapgl"
           }
          ],
          "histogram": [
           {
            "marker": {
             "pattern": {
              "fillmode": "overlay",
              "size": 10,
              "solidity": 0.2
             }
            },
            "type": "histogram"
           }
          ],
          "histogram2d": [
           {
            "colorbar": {
             "outlinewidth": 0,
             "ticks": ""
            },
            "colorscale": [
             [
              0,
              "#0d0887"
             ],
             [
              0.1111111111111111,
              "#46039f"
             ],
             [
              0.2222222222222222,
              "#7201a8"
             ],
             [
              0.3333333333333333,
              "#9c179e"
             ],
             [
              0.4444444444444444,
              "#bd3786"
             ],
             [
              0.5555555555555556,
              "#d8576b"
             ],
             [
              0.6666666666666666,
              "#ed7953"
             ],
             [
              0.7777777777777778,
              "#fb9f3a"
             ],
             [
              0.8888888888888888,
              "#fdca26"
             ],
             [
              1,
              "#f0f921"
             ]
            ],
            "type": "histogram2d"
           }
          ],
          "histogram2dcontour": [
           {
            "colorbar": {
             "outlinewidth": 0,
             "ticks": ""
            },
            "colorscale": [
             [
              0,
              "#0d0887"
             ],
             [
              0.1111111111111111,
              "#46039f"
             ],
             [
              0.2222222222222222,
              "#7201a8"
             ],
             [
              0.3333333333333333,
              "#9c179e"
             ],
             [
              0.4444444444444444,
              "#bd3786"
             ],
             [
              0.5555555555555556,
              "#d8576b"
             ],
             [
              0.6666666666666666,
              "#ed7953"
             ],
             [
              0.7777777777777778,
              "#fb9f3a"
             ],
             [
              0.8888888888888888,
              "#fdca26"
             ],
             [
              1,
              "#f0f921"
             ]
            ],
            "type": "histogram2dcontour"
           }
          ],
          "mesh3d": [
           {
            "colorbar": {
             "outlinewidth": 0,
             "ticks": ""
            },
            "type": "mesh3d"
           }
          ],
          "parcoords": [
           {
            "line": {
             "colorbar": {
              "outlinewidth": 0,
              "ticks": ""
             }
            },
            "type": "parcoords"
           }
          ],
          "pie": [
           {
            "automargin": true,
            "type": "pie"
           }
          ],
          "scatter": [
           {
            "fillpattern": {
             "fillmode": "overlay",
             "size": 10,
             "solidity": 0.2
            },
            "type": "scatter"
           }
          ],
          "scatter3d": [
           {
            "line": {
             "colorbar": {
              "outlinewidth": 0,
              "ticks": ""
             }
            },
            "marker": {
             "colorbar": {
              "outlinewidth": 0,
              "ticks": ""
             }
            },
            "type": "scatter3d"
           }
          ],
          "scattercarpet": [
           {
            "marker": {
             "colorbar": {
              "outlinewidth": 0,
              "ticks": ""
             }
            },
            "type": "scattercarpet"
           }
          ],
          "scattergeo": [
           {
            "marker": {
             "colorbar": {
              "outlinewidth": 0,
              "ticks": ""
             }
            },
            "type": "scattergeo"
           }
          ],
          "scattergl": [
           {
            "marker": {
             "colorbar": {
              "outlinewidth": 0,
              "ticks": ""
             }
            },
            "type": "scattergl"
           }
          ],
          "scattermapbox": [
           {
            "marker": {
             "colorbar": {
              "outlinewidth": 0,
              "ticks": ""
             }
            },
            "type": "scattermapbox"
           }
          ],
          "scatterpolar": [
           {
            "marker": {
             "colorbar": {
              "outlinewidth": 0,
              "ticks": ""
             }
            },
            "type": "scatterpolar"
           }
          ],
          "scatterpolargl": [
           {
            "marker": {
             "colorbar": {
              "outlinewidth": 0,
              "ticks": ""
             }
            },
            "type": "scatterpolargl"
           }
          ],
          "scatterternary": [
           {
            "marker": {
             "colorbar": {
              "outlinewidth": 0,
              "ticks": ""
             }
            },
            "type": "scatterternary"
           }
          ],
          "surface": [
           {
            "colorbar": {
             "outlinewidth": 0,
             "ticks": ""
            },
            "colorscale": [
             [
              0,
              "#0d0887"
             ],
             [
              0.1111111111111111,
              "#46039f"
             ],
             [
              0.2222222222222222,
              "#7201a8"
             ],
             [
              0.3333333333333333,
              "#9c179e"
             ],
             [
              0.4444444444444444,
              "#bd3786"
             ],
             [
              0.5555555555555556,
              "#d8576b"
             ],
             [
              0.6666666666666666,
              "#ed7953"
             ],
             [
              0.7777777777777778,
              "#fb9f3a"
             ],
             [
              0.8888888888888888,
              "#fdca26"
             ],
             [
              1,
              "#f0f921"
             ]
            ],
            "type": "surface"
           }
          ],
          "table": [
           {
            "cells": {
             "fill": {
              "color": "#EBF0F8"
             },
             "line": {
              "color": "white"
             }
            },
            "header": {
             "fill": {
              "color": "#C8D4E3"
             },
             "line": {
              "color": "white"
             }
            },
            "type": "table"
           }
          ]
         },
         "layout": {
          "annotationdefaults": {
           "arrowcolor": "#2a3f5f",
           "arrowhead": 0,
           "arrowwidth": 1
          },
          "autotypenumbers": "strict",
          "coloraxis": {
           "colorbar": {
            "outlinewidth": 0,
            "ticks": ""
           }
          },
          "colorscale": {
           "diverging": [
            [
             0,
             "#8e0152"
            ],
            [
             0.1,
             "#c51b7d"
            ],
            [
             0.2,
             "#de77ae"
            ],
            [
             0.3,
             "#f1b6da"
            ],
            [
             0.4,
             "#fde0ef"
            ],
            [
             0.5,
             "#f7f7f7"
            ],
            [
             0.6,
             "#e6f5d0"
            ],
            [
             0.7,
             "#b8e186"
            ],
            [
             0.8,
             "#7fbc41"
            ],
            [
             0.9,
             "#4d9221"
            ],
            [
             1,
             "#276419"
            ]
           ],
           "sequential": [
            [
             0,
             "#0d0887"
            ],
            [
             0.1111111111111111,
             "#46039f"
            ],
            [
             0.2222222222222222,
             "#7201a8"
            ],
            [
             0.3333333333333333,
             "#9c179e"
            ],
            [
             0.4444444444444444,
             "#bd3786"
            ],
            [
             0.5555555555555556,
             "#d8576b"
            ],
            [
             0.6666666666666666,
             "#ed7953"
            ],
            [
             0.7777777777777778,
             "#fb9f3a"
            ],
            [
             0.8888888888888888,
             "#fdca26"
            ],
            [
             1,
             "#f0f921"
            ]
           ],
           "sequentialminus": [
            [
             0,
             "#0d0887"
            ],
            [
             0.1111111111111111,
             "#46039f"
            ],
            [
             0.2222222222222222,
             "#7201a8"
            ],
            [
             0.3333333333333333,
             "#9c179e"
            ],
            [
             0.4444444444444444,
             "#bd3786"
            ],
            [
             0.5555555555555556,
             "#d8576b"
            ],
            [
             0.6666666666666666,
             "#ed7953"
            ],
            [
             0.7777777777777778,
             "#fb9f3a"
            ],
            [
             0.8888888888888888,
             "#fdca26"
            ],
            [
             1,
             "#f0f921"
            ]
           ]
          },
          "colorway": [
           "#636efa",
           "#EF553B",
           "#00cc96",
           "#ab63fa",
           "#FFA15A",
           "#19d3f3",
           "#FF6692",
           "#B6E880",
           "#FF97FF",
           "#FECB52"
          ],
          "font": {
           "color": "#2a3f5f"
          },
          "geo": {
           "bgcolor": "white",
           "lakecolor": "white",
           "landcolor": "#E5ECF6",
           "showlakes": true,
           "showland": true,
           "subunitcolor": "white"
          },
          "hoverlabel": {
           "align": "left"
          },
          "hovermode": "closest",
          "mapbox": {
           "style": "light"
          },
          "paper_bgcolor": "white",
          "plot_bgcolor": "#E5ECF6",
          "polar": {
           "angularaxis": {
            "gridcolor": "white",
            "linecolor": "white",
            "ticks": ""
           },
           "bgcolor": "#E5ECF6",
           "radialaxis": {
            "gridcolor": "white",
            "linecolor": "white",
            "ticks": ""
           }
          },
          "scene": {
           "xaxis": {
            "backgroundcolor": "#E5ECF6",
            "gridcolor": "white",
            "gridwidth": 2,
            "linecolor": "white",
            "showbackground": true,
            "ticks": "",
            "zerolinecolor": "white"
           },
           "yaxis": {
            "backgroundcolor": "#E5ECF6",
            "gridcolor": "white",
            "gridwidth": 2,
            "linecolor": "white",
            "showbackground": true,
            "ticks": "",
            "zerolinecolor": "white"
           },
           "zaxis": {
            "backgroundcolor": "#E5ECF6",
            "gridcolor": "white",
            "gridwidth": 2,
            "linecolor": "white",
            "showbackground": true,
            "ticks": "",
            "zerolinecolor": "white"
           }
          },
          "shapedefaults": {
           "line": {
            "color": "#2a3f5f"
           }
          },
          "ternary": {
           "aaxis": {
            "gridcolor": "white",
            "linecolor": "white",
            "ticks": ""
           },
           "baxis": {
            "gridcolor": "white",
            "linecolor": "white",
            "ticks": ""
           },
           "bgcolor": "#E5ECF6",
           "caxis": {
            "gridcolor": "white",
            "linecolor": "white",
            "ticks": ""
           }
          },
          "title": {
           "x": 0.05
          },
          "xaxis": {
           "automargin": true,
           "gridcolor": "white",
           "linecolor": "white",
           "ticks": "",
           "title": {
            "standoff": 15
           },
           "zerolinecolor": "white",
           "zerolinewidth": 2
          },
          "yaxis": {
           "automargin": true,
           "gridcolor": "white",
           "linecolor": "white",
           "ticks": "",
           "title": {
            "standoff": 15
           },
           "zerolinecolor": "white",
           "zerolinewidth": 2
          }
         }
        },
        "title": {
         "text": "Latent Space Visualization"
        }
       }
      }
     },
     "metadata": {},
     "output_type": "display_data"
    }
   ],
   "source": [
    "# Step 2: Create a 3D scatter plot using Plotly\n",
    "features = predictive_artsnt_df[['Parassitemiavaloreassoluto', 'T0ALTinUL', 'T0bicarbonatiinmmoll']]\n",
    "\n",
    "fig = go.Figure(data=[go.Scatter3d(\n",
    "    x = features['Parassitemiavaloreassoluto'],\n",
    "    z = features['T0ALTinUL'],\n",
    "    y = features['T0bicarbonatiinmmoll'],\n",
    "    mode='markers',\n",
    "    marker=dict(\n",
    "        size=2,\n",
    "        color=colors,\n",
    "        opacity=0.8\n",
    "    )\n",
    ")])\n",
    "\n",
    "# Set the layout for the plot\n",
    "fig.update_layout(\n",
    "    scene=dict(\n",
    "        xaxis=dict(title='Parassitemiavaloreassoluto'),\n",
    "        yaxis=dict(title='T0bicarbonatiinmmoll'),\n",
    "        zaxis=dict(title='T0ALTinUL')\n",
    "    ),\n",
    "    title='Latent Space Visualization'\n",
    ")\n",
    "\n",
    "# Display the plot\n",
    "fig.show()\n",
    "\n",
    "# Save the plot as an HTML file\n",
    "fig.write_html('visualizationPADHraw.html')"
   ]
  },
  {
   "cell_type": "code",
   "execution_count": 30,
   "metadata": {},
   "outputs": [
    {
     "data": {
      "image/png": "[encoded data removed]",
      "text/plain": [
       "<Figure size 720x576 with 1 Axes>"
      ]
     },
     "metadata": {
      "needs_background": "light"
     },
     "output_type": "display_data"
    }
   ],
   "source": [
    "import pandas as pd\n",
    "import matplotlib.pyplot as plt\n",
    "from mpl_toolkits.mplot3d import Axes3D\n",
    "\n",
    "# Assuming your data is stored in the 'features' DataFrame\n",
    "# Assuming the 'filtered_df' DataFrame contains the PADH values\n",
    "\n",
    "# Create a larger 3D figure\n",
    "fig = plt.figure(figsize=(10, 8))\n",
    "ax = fig.add_subplot(111, projection='3d')\n",
    "\n",
    "features = predictive_df[['Parassitemiavaloreassoluto', 'T0ALTinUL', 'T0bicarbonatiinmmoll']]\n",
    "# Extract the coordinates from the 'features' DataFrame\n",
    "x = features['Parassitemiavaloreassoluto']\n",
    "z = features['T0ALTinUL']\n",
    "y = features['T0bicarbonatiinmmoll']\n",
    "\n",
    "\n",
    "# Color mapping based on PADH values\n",
    "PADH_values = filtered_df['PADH']\n",
    "colors = ['red' if padh == 1 else 'blue' for padh in PADH_values]\n",
    "\n",
    "# Plot the points in 3D with color mapping\n",
    "ax.scatter(x, y, z, c=colors, marker='o', alpha=0.8)\n",
    "\n",
    "\n",
    "# Set labels for each axis\n",
    "ax.set_zlabel('T0ALTinUL')\n",
    "ax.set_xlabel('Parassitemiavaloreassoluto')\n",
    "ax.set_ylabel('T0bicarbonatiinmmoll')\n",
    "\n",
    "# Show the 3D graph\n",
    "plt.show()\n"
   ]
  },
  {
   "cell_type": "code",
   "execution_count": 31,
   "metadata": {},
   "outputs": [
    {
     "data": {
      "application/vnd.plotly.v1+json": {
       "config": {
        "plotlyServerURL": "https://plot.ly"
       },
       "data": [
        {
         "marker": {
          "color": [
           "blue",
           "red",
           "red",
           "red",
           "blue",
           "blue",
           "blue",
           "red",
           "blue",
           "blue",
           "blue",
           "blue",
           "blue",
           "blue",
           "blue",
           "blue",
           "red",
           "red",
           "blue",
           "blue",
           "blue",
           "blue",
           "blue",
           "red",
           "blue",
           "blue",
           "blue",
           "blue",
           "blue",
           "blue",
           "blue",
           "blue",
           "blue",
           "blue",
           "blue",
           "blue",
           "red",
           "blue",
           "blue",
           "blue",
           "blue",
           "blue",
           "blue",
           "blue",
           "blue",
           "blue",
           "blue",
           "blue",
           "blue",
           "blue",
           "blue",
           "blue",
           "blue",
           "blue",
           "blue"
          ],
          "opacity": 0.8,
          "size": 2
         },
         "mode": "markers",
         "type": "scatter3d",
         "x": [
          7,
          572000,
          602100,
          110000,
          67000,
          115940,
          3315,
          150000,
          234771,
          1635,
          233157,
          361620,
          134480,
          7,
          120249,
          576431,
          50288,
          228750,
          531605,
          4260,
          2200,
          476550,
          96185,
          67038,
          45700,
          575,
          14370,
          6800,
          54,
          120000,
          522488,
          34568,
          113930,
          140530,
          129130,
          109203,
          640000,
          11686,
          351,
          3000,
          17765,
          1125000,
          4040,
          167383,
          1462,
          5050,
          6126,
          110218,
          116317,
          48780,
          279660,
          141861,
          159544,
          118800,
          97951
         ],
         "y": [
          30.4,
          25.0579692661197,
          26.638636531065767,
          23.9,
          30.4,
          26.763077641611098,
          28.981884361738693,
          26.3,
          27,
          28.91391772604694,
          28.754437169248323,
          24.283825792236417,
          27.53451034534136,
          30.4,
          28.533804655889902,
          28,
          23.4,
          25,
          27,
          29.139781269130747,
          25.3,
          17.7,
          28.652232646215825,
          23.4,
          16,
          25.8,
          29.46755459748022,
          28.24167261847311,
          29.0398671098235,
          14.8,
          24.77132888655976,
          27.681192991402053,
          29.854811563190623,
          27.883817252101224,
          21,
          19.31167878623325,
          26.48046550637066,
          29.75204124185177,
          22.8,
          29.795018074969768,
          23.2,
          22.88633972517843,
          28.753487520058712,
          27.586251651074186,
          27.4,
          28.890720349110957,
          28.437674790787263,
          27.634537442882444,
          23.814372953182804,
          22.7,
          25.991000656240388,
          29.30473614309936,
          28.17138795118831,
          28.288821180051716,
          28.98853084913484
         ],
         "z": [
          18,
          80,
          37,
          78,
          18,
          94,
          24,
          88,
          20,
          117,
          40,
          28,
          83,
          18,
          25,
          31,
          125,
          43,
          70,
          48,
          43,
          16,
          45,
          180,
          98,
          29,
          32,
          36,
          123,
          44,
          20,
          67,
          42,
          66,
          45,
          150,
          96,
          26,
          23,
          65,
          31,
          45,
          24,
          202,
          40,
          22,
          20,
          16,
          31,
          27,
          55,
          17,
          74,
          121,
          40
         ]
        }
       ],
       "layout": {
        "scene": {
         "xaxis": {
          "title": {
           "text": "Parassitemiavaloreassoluto"
          }
         },
         "yaxis": {
          "title": {
           "text": "T0bicarbonatiinmmoll"
          }
         },
         "zaxis": {
          "title": {
           "text": "T0ALTinUL"
          }
         }
        },
        "template": {
         "data": {
          "bar": [
           {
            "error_x": {
             "color": "#2a3f5f"
            },
            "error_y": {
             "color": "#2a3f5f"
            },
            "marker": {
             "line": {
              "color": "#E5ECF6",
              "width": 0.5
             },
             "pattern": {
              "fillmode": "overlay",
              "size": 10,
              "solidity": 0.2
             }
            },
            "type": "bar"
           }
          ],
          "barpolar": [
           {
            "marker": {
             "line": {
              "color": "#E5ECF6",
              "width": 0.5
             },
             "pattern": {
              "fillmode": "overlay",
              "size": 10,
              "solidity": 0.2
             }
            },
            "type": "barpolar"
           }
          ],
          "carpet": [
           {
            "aaxis": {
             "endlinecolor": "#2a3f5f",
             "gridcolor": "white",
             "linecolor": "white",
             "minorgridcolor": "white",
             "startlinecolor": "#2a3f5f"
            },
            "baxis": {
             "endlinecolor": "#2a3f5f",
             "gridcolor": "white",
             "linecolor": "white",
             "minorgridcolor": "white",
             "startlinecolor": "#2a3f5f"
            },
            "type": "carpet"
           }
          ],
          "choropleth": [
           {
            "colorbar": {
             "outlinewidth": 0,
             "ticks": ""
            },
            "type": "choropleth"
           }
          ],
          "contour": [
           {
            "colorbar": {
             "outlinewidth": 0,
             "ticks": ""
            },
            "colorscale": [
             [
              0,
              "#0d0887"
             ],
             [
              0.1111111111111111,
              "#46039f"
             ],
             [
              0.2222222222222222,
              "#7201a8"
             ],
             [
              0.3333333333333333,
              "#9c179e"
             ],
             [
              0.4444444444444444,
              "#bd3786"
             ],
             [
              0.5555555555555556,
              "#d8576b"
             ],
             [
              0.6666666666666666,
              "#ed7953"
             ],
             [
              0.7777777777777778,
              "#fb9f3a"
             ],
             [
              0.8888888888888888,
              "#fdca26"
             ],
             [
              1,
              "#f0f921"
             ]
            ],
            "type": "contour"
           }
          ],
          "contourcarpet": [
           {
            "colorbar": {
             "outlinewidth": 0,
             "ticks": ""
            },
            "type": "contourcarpet"
           }
          ],
          "heatmap": [
           {
            "colorbar": {
             "outlinewidth": 0,
             "ticks": ""
            },
            "colorscale": [
             [
              0,
              "#0d0887"
             ],
             [
              0.1111111111111111,
              "#46039f"
             ],
             [
              0.2222222222222222,
              "#7201a8"
             ],
             [
              0.3333333333333333,
              "#9c179e"
             ],
             [
              0.4444444444444444,
              "#bd3786"
             ],
             [
              0.5555555555555556,
              "#d8576b"
             ],
             [
              0.6666666666666666,
              "#ed7953"
             ],
             [
              0.7777777777777778,
              "#fb9f3a"
             ],
             [
              0.8888888888888888,
              "#fdca26"
             ],
             [
              1,
              "#f0f921"
             ]
            ],
            "type": "heatmap"
           }
          ],
          "heatmapgl": [
           {
            "colorbar": {
             "outlinewidth": 0,
             "ticks": ""
            },
            "colorscale": [
             [
              0,
              "#0d0887"
             ],
             [
              0.1111111111111111,
              "#46039f"
             ],
             [
              0.2222222222222222,
              "#7201a8"
             ],
             [
              0.3333333333333333,
              "#9c179e"
             ],
             [
              0.4444444444444444,
              "#bd3786"
             ],
             [
              0.5555555555555556,
              "#d8576b"
             ],
             [
              0.6666666666666666,
              "#ed7953"
             ],
             [
              0.7777777777777778,
              "#fb9f3a"
             ],
             [
              0.8888888888888888,
              "#fdca26"
             ],
             [
              1,
              "#f0f921"
             ]
            ],
            "type": "heatmapgl"
           }
          ],
          "histogram": [
           {
            "marker": {
             "pattern": {
              "fillmode": "overlay",
              "size": 10,
              "solidity": 0.2
             }
            },
            "type": "histogram"
           }
          ],
          "histogram2d": [
           {
            "colorbar": {
             "outlinewidth": 0,
             "ticks": ""
            },
            "colorscale": [
             [
              0,
              "#0d0887"
             ],
             [
              0.1111111111111111,
              "#46039f"
             ],
             [
              0.2222222222222222,
              "#7201a8"
             ],
             [
              0.3333333333333333,
              "#9c179e"
             ],
             [
              0.4444444444444444,
              "#bd3786"
             ],
             [
              0.5555555555555556,
              "#d8576b"
             ],
             [
              0.6666666666666666,
              "#ed7953"
             ],
             [
              0.7777777777777778,
              "#fb9f3a"
             ],
             [
              0.8888888888888888,
              "#fdca26"
             ],
             [
              1,
              "#f0f921"
             ]
            ],
            "type": "histogram2d"
           }
          ],
          "histogram2dcontour": [
           {
            "colorbar": {
             "outlinewidth": 0,
             "ticks": ""
            },
            "colorscale": [
             [
              0,
              "#0d0887"
             ],
             [
              0.1111111111111111,
              "#46039f"
             ],
             [
              0.2222222222222222,
              "#7201a8"
             ],
             [
              0.3333333333333333,
              "#9c179e"
             ],
             [
              0.4444444444444444,
              "#bd3786"
             ],
             [
              0.5555555555555556,
              "#d8576b"
             ],
             [
              0.6666666666666666,
              "#ed7953"
             ],
             [
              0.7777777777777778,
              "#fb9f3a"
             ],
             [
              0.8888888888888888,
              "#fdca26"
             ],
             [
              1,
              "#f0f921"
             ]
            ],
            "type": "histogram2dcontour"
           }
          ],
          "mesh3d": [
           {
            "colorbar": {
             "outlinewidth": 0,
             "ticks": ""
            },
            "type": "mesh3d"
           }
          ],
          "parcoords": [
           {
            "line": {
             "colorbar": {
              "outlinewidth": 0,
              "ticks": ""
             }
            },
            "type": "parcoords"
           }
          ],
          "pie": [
           {
            "automargin": true,
            "type": "pie"
           }
          ],
          "scatter": [
           {
            "fillpattern": {
             "fillmode": "overlay",
             "size": 10,
             "solidity": 0.2
            },
            "type": "scatter"
           }
          ],
          "scatter3d": [
           {
            "line": {
             "colorbar": {
              "outlinewidth": 0,
              "ticks": ""
             }
            },
            "marker": {
             "colorbar": {
              "outlinewidth": 0,
              "ticks": ""
             }
            },
            "type": "scatter3d"
           }
          ],
          "scattercarpet": [
           {
            "marker": {
             "colorbar": {
              "outlinewidth": 0,
              "ticks": ""
             }
            },
            "type": "scattercarpet"
           }
          ],
          "scattergeo": [
           {
            "marker": {
             "colorbar": {
              "outlinewidth": 0,
              "ticks": ""
             }
            },
            "type": "scattergeo"
           }
          ],
          "scattergl": [
           {
            "marker": {
             "colorbar": {
              "outlinewidth": 0,
              "ticks": ""
             }
            },
            "type": "scattergl"
           }
          ],
          "scattermapbox": [
           {
            "marker": {
             "colorbar": {
              "outlinewidth": 0,
              "ticks": ""
             }
            },
            "type": "scattermapbox"
           }
          ],
          "scatterpolar": [
           {
            "marker": {
             "colorbar": {
              "outlinewidth": 0,
              "ticks": ""
             }
            },
            "type": "scatterpolar"
           }
          ],
          "scatterpolargl": [
           {
            "marker": {
             "colorbar": {
              "outlinewidth": 0,
              "ticks": ""
             }
            },
            "type": "scatterpolargl"
           }
          ],
          "scatterternary": [
           {
            "marker": {
             "colorbar": {
              "outlinewidth": 0,
              "ticks": ""
             }
            },
            "type": "scatterternary"
           }
          ],
          "surface": [
           {
            "colorbar": {
             "outlinewidth": 0,
             "ticks": ""
            },
            "colorscale": [
             [
              0,
              "#0d0887"
             ],
             [
              0.1111111111111111,
              "#46039f"
             ],
             [
              0.2222222222222222,
              "#7201a8"
             ],
             [
              0.3333333333333333,
              "#9c179e"
             ],
             [
              0.4444444444444444,
              "#bd3786"
             ],
             [
              0.5555555555555556,
              "#d8576b"
             ],
             [
              0.6666666666666666,
              "#ed7953"
             ],
             [
              0.7777777777777778,
              "#fb9f3a"
             ],
             [
              0.8888888888888888,
              "#fdca26"
             ],
             [
              1,
              "#f0f921"
             ]
            ],
            "type": "surface"
           }
          ],
          "table": [
           {
            "cells": {
             "fill": {
              "color": "#EBF0F8"
             },
             "line": {
              "color": "white"
             }
            },
            "header": {
             "fill": {
              "color": "#C8D4E3"
             },
             "line": {
              "color": "white"
             }
            },
            "type": "table"
           }
          ]
         },
         "layout": {
          "annotationdefaults": {
           "arrowcolor": "#2a3f5f",
           "arrowhead": 0,
           "arrowwidth": 1
          },
          "autotypenumbers": "strict",
          "coloraxis": {
           "colorbar": {
            "outlinewidth": 0,
            "ticks": ""
           }
          },
          "colorscale": {
           "diverging": [
            [
             0,
             "#8e0152"
            ],
            [
             0.1,
             "#c51b7d"
            ],
            [
             0.2,
             "#de77ae"
            ],
            [
             0.3,
             "#f1b6da"
            ],
            [
             0.4,
             "#fde0ef"
            ],
            [
             0.5,
             "#f7f7f7"
            ],
            [
             0.6,
             "#e6f5d0"
            ],
            [
             0.7,
             "#b8e186"
            ],
            [
             0.8,
             "#7fbc41"
            ],
            [
             0.9,
             "#4d9221"
            ],
            [
             1,
             "#276419"
            ]
           ],
           "sequential": [
            [
             0,
             "#0d0887"
            ],
            [
             0.1111111111111111,
             "#46039f"
            ],
            [
             0.2222222222222222,
             "#7201a8"
            ],
            [
             0.3333333333333333,
             "#9c179e"
            ],
            [
             0.4444444444444444,
             "#bd3786"
            ],
            [
             0.5555555555555556,
             "#d8576b"
            ],
            [
             0.6666666666666666,
             "#ed7953"
            ],
            [
             0.7777777777777778,
             "#fb9f3a"
            ],
            [
             0.8888888888888888,
             "#fdca26"
            ],
            [
             1,
             "#f0f921"
            ]
           ],
           "sequentialminus": [
            [
             0,
             "#0d0887"
            ],
            [
             0.1111111111111111,
             "#46039f"
            ],
            [
             0.2222222222222222,
             "#7201a8"
            ],
            [
             0.3333333333333333,
             "#9c179e"
            ],
            [
             0.4444444444444444,
             "#bd3786"
            ],
            [
             0.5555555555555556,
             "#d8576b"
            ],
            [
             0.6666666666666666,
             "#ed7953"
            ],
            [
             0.7777777777777778,
             "#fb9f3a"
            ],
            [
             0.8888888888888888,
             "#fdca26"
            ],
            [
             1,
             "#f0f921"
            ]
           ]
          },
          "colorway": [
           "#636efa",
           "#EF553B",
           "#00cc96",
           "#ab63fa",
           "#FFA15A",
           "#19d3f3",
           "#FF6692",
           "#B6E880",
           "#FF97FF",
           "#FECB52"
          ],
          "font": {
           "color": "#2a3f5f"
          },
          "geo": {
           "bgcolor": "white",
           "lakecolor": "white",
           "landcolor": "#E5ECF6",
           "showlakes": true,
           "showland": true,
           "subunitcolor": "white"
          },
          "hoverlabel": {
           "align": "left"
          },
          "hovermode": "closest",
          "mapbox": {
           "style": "light"
          },
          "paper_bgcolor": "white",
          "plot_bgcolor": "#E5ECF6",
          "polar": {
           "angularaxis": {
            "gridcolor": "white",
            "linecolor": "white",
            "ticks": ""
           },
           "bgcolor": "#E5ECF6",
           "radialaxis": {
            "gridcolor": "white",
            "linecolor": "white",
            "ticks": ""
           }
          },
          "scene": {
           "xaxis": {
            "backgroundcolor": "#E5ECF6",
            "gridcolor": "white",
            "gridwidth": 2,
            "linecolor": "white",
            "showbackground": true,
            "ticks": "",
            "zerolinecolor": "white"
           },
           "yaxis": {
            "backgroundcolor": "#E5ECF6",
            "gridcolor": "white",
            "gridwidth": 2,
            "linecolor": "white",
            "showbackground": true,
            "ticks": "",
            "zerolinecolor": "white"
           },
           "zaxis": {
            "backgroundcolor": "#E5ECF6",
            "gridcolor": "white",
            "gridwidth": 2,
            "linecolor": "white",
            "showbackground": true,
            "ticks": "",
            "zerolinecolor": "white"
           }
          },
          "shapedefaults": {
           "line": {
            "color": "#2a3f5f"
           }
          },
          "ternary": {
           "aaxis": {
            "gridcolor": "white",
            "linecolor": "white",
            "ticks": ""
           },
           "baxis": {
            "gridcolor": "white",
            "linecolor": "white",
            "ticks": ""
           },
           "bgcolor": "#E5ECF6",
           "caxis": {
            "gridcolor": "white",
            "linecolor": "white",
            "ticks": ""
           }
          },
          "title": {
           "x": 0.05
          },
          "xaxis": {
           "automargin": true,
           "gridcolor": "white",
           "linecolor": "white",
           "ticks": "",
           "title": {
            "standoff": 15
           },
           "zerolinecolor": "white",
           "zerolinewidth": 2
          },
          "yaxis": {
           "automargin": true,
           "gridcolor": "white",
           "linecolor": "white",
           "ticks": "",
           "title": {
            "standoff": 15
           },
           "zerolinecolor": "white",
           "zerolinewidth": 2
          }
         }
        },
        "title": {
         "text": "Latent Space Visualization"
        }
       }
      }
     },
     "metadata": {},
     "output_type": "display_data"
    }
   ],
   "source": [
    "# Step 2: Create a 3D scatter plot using Plotly\n",
    "features = predictive_df[['Parassitemiavaloreassoluto', 'T0ALTinUL', 'T0bicarbonatiinmmoll']]\n",
    "\n",
    "fig = go.Figure(data=[go.Scatter3d(\n",
    "    x = features['Parassitemiavaloreassoluto'],\n",
    "    z = features['T0ALTinUL'],\n",
    "    y = features['T0bicarbonatiinmmoll'],\n",
    "    mode='markers',\n",
    "    marker=dict(\n",
    "        size=2,\n",
    "        color=colors,\n",
    "        opacity=0.8\n",
    "    )\n",
    ")])\n",
    "\n",
    "# Set the layout for the plot\n",
    "fig.update_layout(\n",
    "    scene=dict(\n",
    "        xaxis=dict(title='Parassitemiavaloreassoluto'),\n",
    "        yaxis=dict(title='T0bicarbonatiinmmoll'),\n",
    "        zaxis=dict(title='T0ALTinUL')\n",
    "    ),\n",
    "    title='Latent Space Visualization'\n",
    ")\n",
    "\n",
    "# Display the plot\n",
    "fig.show()\n",
    "\n",
    "# Save the plot as an HTML file\n",
    "fig.write_html('visualizationPADHfilled.html')"
   ]
  },
  {
   "cell_type": "code",
   "execution_count": null,
   "metadata": {},
   "outputs": [],
   "source": []
  }
 ],
 "metadata": {
  "kernelspec": {
   "display_name": "base",
   "language": "python",
   "name": "python3"
  },
  "language_info": {
   "codemirror_mode": {
    "name": "ipython",
    "version": 3
   },
   "file_extension": ".py",
   "mimetype": "text/x-python",
   "name": "python",
   "nbconvert_exporter": "python",
   "pygments_lexer": "ipython3",
   "version": "3.9.7"
  },
  "orig_nbformat": 4
 },
 "nbformat": 4,
 "nbformat_minor": 2
}
