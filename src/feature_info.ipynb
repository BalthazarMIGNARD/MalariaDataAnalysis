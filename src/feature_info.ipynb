{
 "cells": [
  {
   "cell_type": "code",
   "execution_count": 13,
   "metadata": {},
   "outputs": [],
   "source": [
    "import pandas as pd\n",
    "import numpy as np\n",
    "import networkx as nx\n",
    "from matplotlib import pyplot as plt\n",
    "import csv"
   ]
  },
  {
   "cell_type": "code",
   "execution_count": 14,
   "metadata": {},
   "outputs": [],
   "source": [
    "path_data = \"..\\\\data\\\\NOMAL.xlsx\"\n",
    "raw_df = pd.read_excel(path_data)"
   ]
  },
  {
   "cell_type": "code",
   "execution_count": 15,
   "metadata": {},
   "outputs": [],
   "source": [
    "# Remove features with constant values\n",
    "noInfo_columns = raw_df.columns[raw_df.nunique() <= 1] # columns with no values or with only the same value\n",
    "\n",
    "filtered_df = raw_df.loc[:, raw_df.nunique() > 1] # this operation also removes the empty columns\n"
   ]
  },
  {
   "cell_type": "code",
   "execution_count": 16,
   "metadata": {},
   "outputs": [
    {
     "name": "stderr",
     "output_type": "stream",
     "text": [
      "c:\\Users\\balth\\anaconda3\\lib\\site-packages\\pandas\\core\\frame.py:5039: SettingWithCopyWarning: \n",
      "A value is trying to be set on a copy of a slice from a DataFrame\n",
      "\n",
      "See the caveats in the documentation: https://pandas.pydata.org/pandas-docs/stable/user_guide/indexing.html#returning-a-view-versus-a-copy\n",
      "  return super().rename(\n"
     ]
    }
   ],
   "source": [
    "import re\n",
    "\n",
    "# Function to remove special characters from a string\n",
    "def remove_special_characters(string):\n",
    "    return re.sub(r'\\W+', '', string)\n",
    "\n",
    "# Rename the features in filtered_df\n",
    "filtered_df.rename(columns=lambda x: remove_special_characters(x), inplace=True)\n"
   ]
  },
  {
   "cell_type": "code",
   "execution_count": 17,
   "metadata": {},
   "outputs": [],
   "source": [
    "# Defining the categories for data\n",
    "\n",
    "patient_general = [\"Codice identificativo:\", 'Sesso', 'Nazionalità', 'Età', 'Domicilio','Altezza','Peso', 'Sub-Saharan Africa', 'Pregressa malaria', 'Profilassi']\n",
    "comorbidities = ['Comorbilità', 'Diabete', 'HIV', 'Cirrosi', 'IRC']\n",
    "patient_state_arrival = ['GCS', 'Seizures', 'Prostrazione', 'Shock', 'Bleeding', 'ARDS', 'Anemia', 'Creatinina', 'Glicemia', 'Acidosi', 'Bilirubina', 'Hyperparasitaemia', 'Numero criteri']\n",
    "diagnosis_type = ['RDT', 'Emoscopia', 'NAAT']\n",
    "diagnosis_result = ['Falciparum', 'Ovale', 'Parassitemia valore assoluto', 'Percentuale parassitemia']\n",
    "baseline_other = ['PA sistolica', 'PA diastolica', 'FC', 'FR', 'Temperatura', 'Ritardo terapeutico']\n",
    "QTc = ['QTc ingresso', 'QTc dopo ACT', 'QTC dopo ultima somministrazione artesunato *']\n",
    "T0 =  [\"T0. [GB (in cell/ul):]\", \"T0. [GR (in cell/ul):]\", \"T0. [Hb (in g/dl):]\", \"T0. [PLT (in cell/ul):]\", \"T0. [Glicemia (in mg/dl):]\", \"T0. [Azotemia (in mg/dl):]\", \"T0. [Creatinina (in mg/dl):]\", \"T0. [LDH (in U/L):]\", \"T0. [AST (in U/L):]\", \"T0. [ALT (in U/L):]\", \"T0. [Bilirubina tot (in mg/dl):]\", \"T0. [Bilirubina diretta (in mg/dl):]\", \"T0. [Sodio (in mEq/l):]\", \"T0. [Potassio (in mEq/l):]\", \"T0. [Ca (in mg/dl):]\", \"T0. [INR:]\", \"T0. [fibrinogeno (in mg/dl):]\", \"T0. [pH:]\", \"T0. [bicarbonati (in mmol/l):]\", \"T0. [Lattati # (in mmol/l):\"]\n",
    "T1 = [\"T1. [Goccia spessa e striscio periferico:]\", \"T1. [TC (temperatura corporea) in °C:]\"]\n",
    "T2 = [\"T2. [Goccia spessa e striscio periferico:]\", \"T2. [TC (temperatura corporea) in °C:]\"]\n",
    "T3 = [\"T3. [Goccia spessa e striscio periferico:]\", \"T3. [TC (temperatura corporea) in °C:]\"]\n",
    "T7 = [ \"T7. [Goccia spessa e striscio periferico:]\",\"T7. [TC (temperatura corporea) in °C:]\"]\n",
    "treatment = [\"Artesunato ev: Somministrazione [1][Data inizio e ora]\", \"Artemether/ Lumefantrina: Somministrazione [1][Data inizio e ora]\", \"Diidroartemisinina/Piperachina: Somministrazione [1][Data inizio e ora]\", \"ACT\", \"Artesunato + ACT\", \"Atovaquone/Proguanile\", \"Doxiciclina per os\", \"Clindamicina\", \"Antibiotici\", \"Chinino\", \"Primachina\", \"Durata Artesunato\"]\n",
    "outcome = [\"Durata ricovero\", \"Decesso.\", \"ICU\", \"Eventuali sequele:\", \"PADH, post-artesunate delayed haemoly1s\", \"Insorgenza PADH\", \"Permanenza in Terapia Intensiva (giorni):\", \"Trasferimento in Rianimazione (anche in altro centro)?\", \"Guarigione\"]\n",
    "PADH_info = [\"Insorgenza PADH\", \"Si prega di fornire tutti i parameri vitali. [GB (in cell/ul):]\", \"Si prega di fornire tutti i parameri vitali. [Hb (in g/dl):]\", \"Si prega di fornire tutti i parameri vitali. [PLT (in cell/ul):]\", \"Si prega di fornire tutti i parameri vitali. [reticoliti (in cell/ul):]\", \"Si prega di fornire tutti i parameri vitali. [LDH (in U/l)lcio:]\", \"Si prega di fornire tutti i parameri vitali. [AST (U/L):]\", \"Si prega di fornire tutti i parameri vitali. [ALT (U/L):]\", \"Si prega di fornire tutti i parameri vitali. [Bilirubina tot (mg/dl):]\", \"Si prega di fornire tutti i parameri vitali. [Bilirubina diretta (mg/dl):]\", \"Si prega di fornire tutti i parameri vitali. [aptoglobina (in mg/dl):]\", \"Si prega di fornire tutti i parameri vitali. [test di Coombs diretto:]\", \"Si prega di fornire tutti i parameri vitali. [test di coombs indiretto:]\", \"Vuole riportare ulteriori informazioni relative ai prelievi effettuati durante le visite intermedie fino alla risoluzione dell’emolisi?\", \"Nadir Hb\", \"Trasfusione:\", \"Unità trasfuse\"]\n",
    "follow_up = [\"Altri eventi avversi\", \"Diarrea e disidratazione\", \"Ipertransaminasemia tardiva\", \"Polmonite\", \"IVU nosocomiale\", \"Esofagite\", \"Dispepsia\", \"Tachiaritmia sopraventricolare\"]"
   ]
  },
  {
   "cell_type": "code",
   "execution_count": 18,
   "metadata": {},
   "outputs": [],
   "source": [
    "# Removing special caracters from the category description\n",
    "\n",
    "import re\n",
    "\n",
    "# Function to remove special characters from a string\n",
    "def remove_special_characters(string):\n",
    "    return re.sub(r'\\W+', '', string)\n",
    "\n",
    "# Update the list of features for each category\n",
    "patient_general = [remove_special_characters(feature) for feature in patient_general]\n",
    "comorbidities = [remove_special_characters(feature) for feature in comorbidities]\n",
    "patient_state_arrival = [remove_special_characters(feature) for feature in patient_state_arrival]\n",
    "diagnosis_type = [remove_special_characters(feature) for feature in diagnosis_type]\n",
    "diagnosis_result = [remove_special_characters(feature) for feature in diagnosis_result]\n",
    "baseline_other = [remove_special_characters(feature) for feature in baseline_other]\n",
    "QTc = [remove_special_characters(feature) for feature in QTc]\n",
    "T0 = [remove_special_characters(feature) for feature in T0]\n",
    "T1 = [remove_special_characters(feature) for feature in T1]\n",
    "T2 = [remove_special_characters(feature) for feature in T2]\n",
    "T3 = [remove_special_characters(feature) for feature in T3]\n",
    "T7 = [remove_special_characters(feature) for feature in T7]\n",
    "treatment = [remove_special_characters(feature) for feature in treatment]\n",
    "outcome = [remove_special_characters(feature) for feature in outcome]\n",
    "PADH_info = [remove_special_characters(feature) for feature in PADH_info]\n",
    "follow_up = [remove_special_characters(feature) for feature in follow_up]"
   ]
  },
  {
   "cell_type": "code",
   "execution_count": 19,
   "metadata": {},
   "outputs": [
    {
     "name": "stdout",
     "output_type": "stream",
     "text": [
      "All features belong to a category.\n"
     ]
    }
   ],
   "source": [
    "import re\n",
    "\n",
    "# Define the categories\n",
    "categories = [patient_general, comorbidities, patient_state_arrival, diagnosis_type, diagnosis_result, baseline_other, QTc, T0, T1, T2, T3, T7, treatment, outcome, PADH_info, follow_up]\n",
    "\n",
    "# Check if features belong to a category (partial match)\n",
    "missing_features = []\n",
    "for column in filtered_df.columns:\n",
    "    matched = False\n",
    "    for category in categories:\n",
    "        for feature in category:\n",
    "            if re.search(re.escape(feature), column, re.IGNORECASE):\n",
    "                matched = True\n",
    "                break\n",
    "        if matched:\n",
    "            break\n",
    "    if not matched:\n",
    "        missing_features.append(column)\n",
    "\n",
    "# Print the missing features\n",
    "if missing_features:\n",
    "    print(\"Features not belonging to any category:\")\n",
    "    for feature in missing_features:\n",
    "        print(feature)\n",
    "else:\n",
    "    print(\"All features belong to a category.\")\n"
   ]
  },
  {
   "cell_type": "code",
   "execution_count": 20,
   "metadata": {},
   "outputs": [
    {
     "name": "stdout",
     "output_type": "stream",
     "text": [
      "Removed features from categories:\n",
      "Cirrosi\n",
      "Seizures\n",
      "RDT\n"
     ]
    }
   ],
   "source": [
    "\n",
    "# Check if noInfo_columns are present in categories and remove them\n",
    "removed_features = []\n",
    "for column in noInfo_columns:\n",
    "    for i, category in enumerate(categories):\n",
    "        if column in category:\n",
    "            categories[i].remove(column)\n",
    "            removed_features.append(column)\n",
    "            break\n",
    "\n",
    "# Print the removed features\n",
    "if removed_features:\n",
    "    print(\"Removed features from categories:\")\n",
    "    for feature in removed_features:\n",
    "        print(feature)\n",
    "else:\n",
    "    print(\"No features were removed from categories.\")\n"
   ]
  },
  {
   "cell_type": "code",
   "execution_count": 21,
   "metadata": {},
   "outputs": [
    {
     "name": "stderr",
     "output_type": "stream",
     "text": [
      "C:\\Users\\balth\\AppData\\Local\\Temp/ipykernel_14800/2938341224.py:20: DeprecationWarning: `np.object` is a deprecated alias for the builtin `object`. To silence this warning, use `object` by itself. Doing this will not modify any behavior and is safe. \n",
      "Deprecated in NumPy 1.20; for more details and guidance: https://numpy.org/devdocs/release/1.20.0-notes.html#deprecations\n",
      "  if filtered_df[feature].dtype != np.object:  # Check if the feature is not a string\n"
     ]
    }
   ],
   "source": [
    "import matplotlib.pyplot as plt\n",
    "import numpy as np\n",
    "from matplotlib import colors\n",
    "\n",
    "# Define the category lists\n",
    "categories = [patient_general, comorbidities, patient_state_arrival, diagnosis_type, diagnosis_result, baseline_other, QTc, T0, T1, T2, T3, T7, treatment, outcome, PADH_info, follow_up]\n",
    "category_names = ['Patient General', 'Comorbidities', 'Patient State Arrival', 'Diagnosis Type', 'Diagnosis Result', 'Baseline Other', 'QTc', 'T0', 'T1', 'T2', 'T3', 'T7', 'Treatment', 'Outcome', 'PADH Info', 'Follow-up']\n",
    "\n",
    "# Get the 'ICU' column from filtered_df\n",
    "target_column = filtered_df['ICU']\n",
    "\n",
    "# Iterate over each category\n",
    "for category, category_name in zip(categories, category_names):\n",
    "    # Filter the features based on the current category\n",
    "    features = [feature for feature in filtered_df.columns if feature in category]\n",
    "\n",
    "    # Calculate the correlation between each feature and ICU\n",
    "    correlations = []\n",
    "    for feature in features:\n",
    "        if filtered_df[feature].dtype != np.object:  # Check if the feature is not a string\n",
    "            correlation = filtered_df[feature].corr(target_column)\n",
    "            correlations.append((feature, correlation))\n",
    "\n",
    "    # Sort the correlation values in ascending order\n",
    "    correlations.sort(key=lambda x: x[1])\n",
    "\n",
    "    # # Prepare colors for the bars based on correlation values\n",
    "    # cmap = colors.LinearSegmentedColormap.from_list('correlation_cmap', ['green', 'white', 'red'])\n",
    "    # norm = colors.Normalize(vmin=-1, vmax=1)\n",
    "\n",
    "    # # Plot the correlation values on a bar chart with colored bars\n",
    "    # plt.figure(figsize=(10, 6))\n",
    "    # features, correlation_values = zip(*correlations)\n",
    "    # bar_colors = cmap(norm(correlation_values))\n",
    "    # plt.bar(features, correlation_values, color=bar_colors)\n",
    "    # plt.xlabel('Features')\n",
    "    # plt.ylabel('Correlation with ICU')\n",
    "    # plt.title(f'Correlation between Features in {category_name} and ICU')\n",
    "    # plt.xticks(rotation=90)\n",
    "    # plt.gca().set_xticklabels([label[:10] for label in features])  # Display only the first 10 characters of the labels\n",
    "    # plt.tight_layout()\n",
    "    # plt.show()\n"
   ]
  },
  {
   "cell_type": "code",
   "execution_count": 22,
   "metadata": {},
   "outputs": [
    {
     "name": "stdout",
     "output_type": "stream",
     "text": [
      "                           feature         type       mean    variance\n",
      "0             Codiceidentificativo       string                       \n",
      "1                            Sesso  categorical   0.652778            \n",
      "2                      Nazionalità  categorical   0.569444            \n",
      "3                              Età          int  50.819444  231.530321\n",
      "4                        Domicilio  categorical   0.045455            \n",
      "..                             ...          ...        ...         ...\n",
      "106                      Polmonite  categorical   0.051724            \n",
      "107                 IVUnosocomiale  categorical   0.034483            \n",
      "108                      Esofagite  categorical   0.017241            \n",
      "109                      Dispepsia  categorical   0.017241            \n",
      "110  Tachiaritmiasopraventricolare  categorical   0.034483            \n",
      "\n",
      "[111 rows x 4 columns]\n"
     ]
    }
   ],
   "source": [
    "import numpy as np\n",
    "\n",
    "# Create a new dataframe to store the results\n",
    "feature_info = pd.DataFrame(columns=['feature', 'type', 'mean', 'variance'])\n",
    "\n",
    "# Iterate over the columns in the filtered dataframe\n",
    "for column in filtered_df.columns:\n",
    "    col_data = filtered_df[column]\n",
    "    col_type = ''\n",
    "    col_mean = ''\n",
    "    col_var_entropy = ''\n",
    "    \n",
    "    # Check if the column has string values\n",
    "    if col_data.dtype == object:\n",
    "        col_type = 'string'\n",
    "    elif set(col_data.dropna().unique()) == {0, 1}:\n",
    "        col_type = 'categorical'\n",
    "        col_mean = col_data.mean()\n",
    "        # col_var_entropy = np.nans\n",
    "    elif col_data.dtype == np.int64 or all(pd.isnull(val) or val.is_integer() for val in col_data.dropna().unique()):\n",
    "        col_type = 'int'\n",
    "        col_mean = col_data.mean()\n",
    "        col_var_entropy = col_data.var()\n",
    "    elif col_data.dtype == np.float64 or any('.' in str(val) for val in col_data.dropna().unique()):\n",
    "        col_type = 'float'\n",
    "        col_mean = col_data.mean()\n",
    "        col_var_entropy = col_data.var()\n",
    "    else:\n",
    "        col_type = 'unknown'\n",
    "\n",
    "    # Add the results to the new dataframe\n",
    "    feature_info = feature_info.append({'feature': column, 'type': col_type, 'mean': col_mean, 'variance': col_var_entropy},\n",
    "                                       ignore_index=True)\n",
    "\n",
    "# Print the resulting dataframe\n",
    "print(feature_info)\n"
   ]
  },
  {
   "cell_type": "code",
   "execution_count": 23,
   "metadata": {},
   "outputs": [
    {
     "data": {
      "text/html": [
       "<div>\n",
       "<style scoped>\n",
       "    .dataframe tbody tr th:only-of-type {\n",
       "        vertical-align: middle;\n",
       "    }\n",
       "\n",
       "    .dataframe tbody tr th {\n",
       "        vertical-align: top;\n",
       "    }\n",
       "\n",
       "    .dataframe thead th {\n",
       "        text-align: right;\n",
       "    }\n",
       "</style>\n",
       "<table border=\"1\" class=\"dataframe\">\n",
       "  <thead>\n",
       "    <tr style=\"text-align: right;\">\n",
       "      <th></th>\n",
       "      <th>feature</th>\n",
       "      <th>type</th>\n",
       "      <th>mean</th>\n",
       "      <th>variance</th>\n",
       "    </tr>\n",
       "  </thead>\n",
       "  <tbody>\n",
       "    <tr>\n",
       "      <th>0</th>\n",
       "      <td>Codiceidentificativo</td>\n",
       "      <td>string</td>\n",
       "      <td></td>\n",
       "      <td></td>\n",
       "    </tr>\n",
       "    <tr>\n",
       "      <th>1</th>\n",
       "      <td>Sesso</td>\n",
       "      <td>categorical</td>\n",
       "      <td>0.652778</td>\n",
       "      <td></td>\n",
       "    </tr>\n",
       "    <tr>\n",
       "      <th>2</th>\n",
       "      <td>Nazionalità</td>\n",
       "      <td>categorical</td>\n",
       "      <td>0.569444</td>\n",
       "      <td></td>\n",
       "    </tr>\n",
       "    <tr>\n",
       "      <th>3</th>\n",
       "      <td>Età</td>\n",
       "      <td>int</td>\n",
       "      <td>50.819444</td>\n",
       "      <td>231.530321</td>\n",
       "    </tr>\n",
       "    <tr>\n",
       "      <th>4</th>\n",
       "      <td>Domicilio</td>\n",
       "      <td>categorical</td>\n",
       "      <td>0.045455</td>\n",
       "      <td></td>\n",
       "    </tr>\n",
       "  </tbody>\n",
       "</table>\n",
       "</div>"
      ],
      "text/plain": [
       "                feature         type       mean    variance\n",
       "0  Codiceidentificativo       string                       \n",
       "1                 Sesso  categorical   0.652778            \n",
       "2           Nazionalità  categorical   0.569444            \n",
       "3                   Età          int  50.819444  231.530321\n",
       "4             Domicilio  categorical   0.045455            "
      ]
     },
     "execution_count": 23,
     "metadata": {},
     "output_type": "execute_result"
    }
   ],
   "source": [
    "feature_info.head(5)"
   ]
  },
  {
   "cell_type": "code",
   "execution_count": 24,
   "metadata": {},
   "outputs": [],
   "source": [
    "# Step 1: Export the DataFrame to a CSV file\n",
    "file_name = \"../data/feature_info.csv\"\n",
    "feature_info.to_csv(file_name, index=False)  # Set index=False to exclude the index column in the CSV file"
   ]
  }
 ],
 "metadata": {
  "kernelspec": {
   "display_name": "base",
   "language": "python",
   "name": "python3"
  },
  "language_info": {
   "codemirror_mode": {
    "name": "ipython",
    "version": 3
   },
   "file_extension": ".py",
   "mimetype": "text/x-python",
   "name": "python",
   "nbconvert_exporter": "python",
   "pygments_lexer": "ipython3",
   "version": "3.9.7"
  },
  "orig_nbformat": 4
 },
 "nbformat": 4,
 "nbformat_minor": 2
}
