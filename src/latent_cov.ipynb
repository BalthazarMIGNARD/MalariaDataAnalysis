{
 "cells": [
  {
   "cell_type": "code",
   "execution_count": 1,
   "metadata": {},
   "outputs": [],
   "source": [
    "import pandas as pd\n",
    "import pickle "
   ]
  },
  {
   "cell_type": "code",
   "execution_count": 2,
   "metadata": {
    "scrolled": true
   },
   "outputs": [],
   "source": [
    "# Load the CSV file into a DataFrame\n",
    "predictive_df = pd.read_csv('../data\\predictive_df.csv')\n",
    "filtered_df = pd.read_csv('../data\\\\filtered_df.csv')\n",
    "target_column = filtered_df['ICU']\n",
    "\n",
    "# Loading the correlations dictionary from the file\n",
    "with open('../data//correlations.pkl', 'rb') as file:\n",
    "    correlations = pickle.load(file)"
   ]
  },
  {
   "cell_type": "code",
   "execution_count": 3,
   "metadata": {},
   "outputs": [
    {
     "data": {
      "text/plain": [
       "0    0\n",
       "1    0\n",
       "2    0\n",
       "3    0\n",
       "4    0\n",
       "Name: ICU, dtype: int64"
      ]
     },
     "execution_count": 3,
     "metadata": {},
     "output_type": "execute_result"
    }
   ],
   "source": [
    "target_column.head(5)"
   ]
  },
  {
   "cell_type": "code",
   "execution_count": 4,
   "metadata": {},
   "outputs": [],
   "source": [
    "import numpy as np\n",
    "import pandas as pd\n",
    "\n",
    "# Create an empty DataFrame to store columns with nominal values\n",
    "predictive_cat_df = pd.DataFrame()\n",
    "\n",
    "# Iterate over the columns in the filtered dataframe\n",
    "for column in predictive_df.columns:\n",
    "    col_data = predictive_df[column]\n",
    "    \n",
    "    if set(col_data.dropna().unique()) == {0, 1}:\n",
    "        predictive_cat_df[column] = col_data  # Add the column to the new DataFrame"
   ]
  },
  {
   "cell_type": "code",
   "execution_count": 5,
   "metadata": {},
   "outputs": [
    {
     "data": {
      "text/html": [
       "<div>\n",
       "<style scoped>\n",
       "    .dataframe tbody tr th:only-of-type {\n",
       "        vertical-align: middle;\n",
       "    }\n",
       "\n",
       "    .dataframe tbody tr th {\n",
       "        vertical-align: top;\n",
       "    }\n",
       "\n",
       "    .dataframe thead th {\n",
       "        text-align: right;\n",
       "    }\n",
       "</style>\n",
       "<table border=\"1\" class=\"dataframe\">\n",
       "  <thead>\n",
       "    <tr style=\"text-align: right;\">\n",
       "      <th></th>\n",
       "      <th>Sesso</th>\n",
       "      <th>Nazionalità</th>\n",
       "      <th>Domicilio</th>\n",
       "      <th>Profilassi</th>\n",
       "      <th>Comorbilità</th>\n",
       "      <th>Diabete</th>\n",
       "      <th>HIV</th>\n",
       "      <th>IRC</th>\n",
       "      <th>GCS</th>\n",
       "      <th>Prostrazione</th>\n",
       "      <th>...</th>\n",
       "      <th>ArtemetherLumefantrinaSomministrazione1Datainizioeora</th>\n",
       "      <th>DiidroartemisininaPiperachinaSomministrazione1Datainizioeora</th>\n",
       "      <th>ACT</th>\n",
       "      <th>ArtesunatoACT</th>\n",
       "      <th>AtovaquoneProguanile</th>\n",
       "      <th>Doxiciclinaperos</th>\n",
       "      <th>Clindamicina</th>\n",
       "      <th>Antibiotici</th>\n",
       "      <th>Chinino</th>\n",
       "      <th>Primachina</th>\n",
       "    </tr>\n",
       "  </thead>\n",
       "  <tbody>\n",
       "    <tr>\n",
       "      <th>0</th>\n",
       "      <td>1</td>\n",
       "      <td>1</td>\n",
       "      <td>0</td>\n",
       "      <td>0</td>\n",
       "      <td>0</td>\n",
       "      <td>0</td>\n",
       "      <td>0</td>\n",
       "      <td>0</td>\n",
       "      <td>0</td>\n",
       "      <td>1</td>\n",
       "      <td>...</td>\n",
       "      <td>0</td>\n",
       "      <td>0</td>\n",
       "      <td>0</td>\n",
       "      <td>0</td>\n",
       "      <td>1</td>\n",
       "      <td>0</td>\n",
       "      <td>0</td>\n",
       "      <td>0</td>\n",
       "      <td>0</td>\n",
       "      <td>0</td>\n",
       "    </tr>\n",
       "    <tr>\n",
       "      <th>1</th>\n",
       "      <td>0</td>\n",
       "      <td>0</td>\n",
       "      <td>0</td>\n",
       "      <td>0</td>\n",
       "      <td>0</td>\n",
       "      <td>0</td>\n",
       "      <td>0</td>\n",
       "      <td>0</td>\n",
       "      <td>0</td>\n",
       "      <td>1</td>\n",
       "      <td>...</td>\n",
       "      <td>0</td>\n",
       "      <td>0</td>\n",
       "      <td>0</td>\n",
       "      <td>0</td>\n",
       "      <td>1</td>\n",
       "      <td>0</td>\n",
       "      <td>0</td>\n",
       "      <td>0</td>\n",
       "      <td>0</td>\n",
       "      <td>0</td>\n",
       "    </tr>\n",
       "    <tr>\n",
       "      <th>2</th>\n",
       "      <td>1</td>\n",
       "      <td>0</td>\n",
       "      <td>0</td>\n",
       "      <td>0</td>\n",
       "      <td>1</td>\n",
       "      <td>0</td>\n",
       "      <td>0</td>\n",
       "      <td>0</td>\n",
       "      <td>0</td>\n",
       "      <td>0</td>\n",
       "      <td>...</td>\n",
       "      <td>0</td>\n",
       "      <td>1</td>\n",
       "      <td>1</td>\n",
       "      <td>1</td>\n",
       "      <td>0</td>\n",
       "      <td>0</td>\n",
       "      <td>0</td>\n",
       "      <td>0</td>\n",
       "      <td>0</td>\n",
       "      <td>0</td>\n",
       "    </tr>\n",
       "    <tr>\n",
       "      <th>3</th>\n",
       "      <td>1</td>\n",
       "      <td>0</td>\n",
       "      <td>0</td>\n",
       "      <td>0</td>\n",
       "      <td>1</td>\n",
       "      <td>1</td>\n",
       "      <td>0</td>\n",
       "      <td>0</td>\n",
       "      <td>0</td>\n",
       "      <td>0</td>\n",
       "      <td>...</td>\n",
       "      <td>0</td>\n",
       "      <td>1</td>\n",
       "      <td>1</td>\n",
       "      <td>1</td>\n",
       "      <td>0</td>\n",
       "      <td>0</td>\n",
       "      <td>0</td>\n",
       "      <td>0</td>\n",
       "      <td>0</td>\n",
       "      <td>0</td>\n",
       "    </tr>\n",
       "    <tr>\n",
       "      <th>4</th>\n",
       "      <td>0</td>\n",
       "      <td>1</td>\n",
       "      <td>0</td>\n",
       "      <td>0</td>\n",
       "      <td>0</td>\n",
       "      <td>0</td>\n",
       "      <td>0</td>\n",
       "      <td>0</td>\n",
       "      <td>0</td>\n",
       "      <td>0</td>\n",
       "      <td>...</td>\n",
       "      <td>0</td>\n",
       "      <td>1</td>\n",
       "      <td>1</td>\n",
       "      <td>1</td>\n",
       "      <td>0</td>\n",
       "      <td>0</td>\n",
       "      <td>0</td>\n",
       "      <td>0</td>\n",
       "      <td>0</td>\n",
       "      <td>0</td>\n",
       "    </tr>\n",
       "  </tbody>\n",
       "</table>\n",
       "<p>5 rows × 32 columns</p>\n",
       "</div>"
      ],
      "text/plain": [
       "   Sesso  Nazionalità  Domicilio  Profilassi  Comorbilità  Diabete  HIV  IRC  \\\n",
       "0      1            1          0           0            0        0    0    0   \n",
       "1      0            0          0           0            0        0    0    0   \n",
       "2      1            0          0           0            1        0    0    0   \n",
       "3      1            0          0           0            1        1    0    0   \n",
       "4      0            1          0           0            0        0    0    0   \n",
       "\n",
       "   GCS  Prostrazione  ...  \\\n",
       "0    0             1  ...   \n",
       "1    0             1  ...   \n",
       "2    0             0  ...   \n",
       "3    0             0  ...   \n",
       "4    0             0  ...   \n",
       "\n",
       "   ArtemetherLumefantrinaSomministrazione1Datainizioeora  \\\n",
       "0                                                  0       \n",
       "1                                                  0       \n",
       "2                                                  0       \n",
       "3                                                  0       \n",
       "4                                                  0       \n",
       "\n",
       "   DiidroartemisininaPiperachinaSomministrazione1Datainizioeora  ACT  \\\n",
       "0                                                  0               0   \n",
       "1                                                  0               0   \n",
       "2                                                  1               1   \n",
       "3                                                  1               1   \n",
       "4                                                  1               1   \n",
       "\n",
       "   ArtesunatoACT  AtovaquoneProguanile  Doxiciclinaperos  Clindamicina  \\\n",
       "0              0                     1                 0             0   \n",
       "1              0                     1                 0             0   \n",
       "2              1                     0                 0             0   \n",
       "3              1                     0                 0             0   \n",
       "4              1                     0                 0             0   \n",
       "\n",
       "   Antibiotici  Chinino  Primachina  \n",
       "0            0        0           0  \n",
       "1            0        0           0  \n",
       "2            0        0           0  \n",
       "3            0        0           0  \n",
       "4            0        0           0  \n",
       "\n",
       "[5 rows x 32 columns]"
      ]
     },
     "execution_count": 5,
     "metadata": {},
     "output_type": "execute_result"
    }
   ],
   "source": [
    "predictive_cat_df.head(5)"
   ]
  },
  {
   "cell_type": "code",
   "execution_count": 6,
   "metadata": {},
   "outputs": [],
   "source": [
    "import numpy as np\n",
    "import pandas as pd\n",
    "from sklearn.decomposition import TruncatedSVD"
   ]
  },
  {
   "cell_type": "code",
   "execution_count": 7,
   "metadata": {},
   "outputs": [],
   "source": [
    "# Step 1: Compute Covariance Matrix\n",
    "XCov = predictive_cat_df.cov()"
   ]
  },
  {
   "cell_type": "code",
   "execution_count": 8,
   "metadata": {},
   "outputs": [],
   "source": [
    "# Step 2: Perform Singular Value Decomposition (SVD)\n",
    "svd = TruncatedSVD(n_components=3)  # Set the desired latent dimension to 3\n",
    "svd.fit(XCov)\n",
    "V = svd.components_  # Latent vectors\n",
    "sigma_squared = svd.singular_values_**2  # Squared singular values"
   ]
  },
  {
   "cell_type": "code",
   "execution_count": 9,
   "metadata": {},
   "outputs": [
    {
     "data": {
      "text/html": [
       "<div>\n",
       "<style scoped>\n",
       "    .dataframe tbody tr th:only-of-type {\n",
       "        vertical-align: middle;\n",
       "    }\n",
       "\n",
       "    .dataframe tbody tr th {\n",
       "        vertical-align: top;\n",
       "    }\n",
       "\n",
       "    .dataframe thead th {\n",
       "        text-align: right;\n",
       "    }\n",
       "</style>\n",
       "<table border=\"1\" class=\"dataframe\">\n",
       "  <thead>\n",
       "    <tr style=\"text-align: right;\">\n",
       "      <th></th>\n",
       "      <th>Sesso</th>\n",
       "      <th>Nazionalità</th>\n",
       "      <th>Domicilio</th>\n",
       "      <th>Profilassi</th>\n",
       "      <th>Comorbilità</th>\n",
       "      <th>Diabete</th>\n",
       "      <th>HIV</th>\n",
       "      <th>IRC</th>\n",
       "      <th>GCS</th>\n",
       "      <th>Prostrazione</th>\n",
       "      <th>...</th>\n",
       "      <th>ArtemetherLumefantrinaSomministrazione1Datainizioeora</th>\n",
       "      <th>DiidroartemisininaPiperachinaSomministrazione1Datainizioeora</th>\n",
       "      <th>ACT</th>\n",
       "      <th>ArtesunatoACT</th>\n",
       "      <th>AtovaquoneProguanile</th>\n",
       "      <th>Doxiciclinaperos</th>\n",
       "      <th>Clindamicina</th>\n",
       "      <th>Antibiotici</th>\n",
       "      <th>Chinino</th>\n",
       "      <th>Primachina</th>\n",
       "    </tr>\n",
       "  </thead>\n",
       "  <tbody>\n",
       "    <tr>\n",
       "      <th>Sesso</th>\n",
       "      <td>0.229851</td>\n",
       "      <td>-0.010759</td>\n",
       "      <td>0.000587</td>\n",
       "      <td>0.009781</td>\n",
       "      <td>0.016236</td>\n",
       "      <td>-0.006847</td>\n",
       "      <td>-0.022692</td>\n",
       "      <td>5.477308e-03</td>\n",
       "      <td>-0.003717</td>\n",
       "      <td>-3.169014e-02</td>\n",
       "      <td>...</td>\n",
       "      <td>0.014671</td>\n",
       "      <td>0.017997</td>\n",
       "      <td>0.032668</td>\n",
       "      <td>2.112676e-02</td>\n",
       "      <td>0.001174</td>\n",
       "      <td>0.026800</td>\n",
       "      <td>-0.017801</td>\n",
       "      <td>0.023083</td>\n",
       "      <td>-0.012911</td>\n",
       "      <td>0.004890</td>\n",
       "    </tr>\n",
       "    <tr>\n",
       "      <th>Nazionalità</th>\n",
       "      <td>-0.010759</td>\n",
       "      <td>0.248631</td>\n",
       "      <td>0.018192</td>\n",
       "      <td>-0.016041</td>\n",
       "      <td>0.043232</td>\n",
       "      <td>0.022496</td>\n",
       "      <td>0.024257</td>\n",
       "      <td>1.017214e-02</td>\n",
       "      <td>-0.011933</td>\n",
       "      <td>3.169014e-02</td>\n",
       "      <td>...</td>\n",
       "      <td>0.004108</td>\n",
       "      <td>-0.000782</td>\n",
       "      <td>0.003326</td>\n",
       "      <td>-2.112676e-02</td>\n",
       "      <td>-0.005869</td>\n",
       "      <td>0.018584</td>\n",
       "      <td>0.016236</td>\n",
       "      <td>0.020736</td>\n",
       "      <td>0.008216</td>\n",
       "      <td>0.006064</td>\n",
       "    </tr>\n",
       "    <tr>\n",
       "      <th>Domicilio</th>\n",
       "      <td>0.000587</td>\n",
       "      <td>0.018192</td>\n",
       "      <td>0.040493</td>\n",
       "      <td>-0.001174</td>\n",
       "      <td>0.007629</td>\n",
       "      <td>-0.007629</td>\n",
       "      <td>-0.002347</td>\n",
       "      <td>-2.347418e-03</td>\n",
       "      <td>-0.002934</td>\n",
       "      <td>-3.521127e-03</td>\n",
       "      <td>...</td>\n",
       "      <td>-0.001761</td>\n",
       "      <td>-0.025822</td>\n",
       "      <td>-0.027582</td>\n",
       "      <td>-2.112676e-02</td>\n",
       "      <td>-0.003521</td>\n",
       "      <td>0.004108</td>\n",
       "      <td>-0.002934</td>\n",
       "      <td>-0.012911</td>\n",
       "      <td>-0.003521</td>\n",
       "      <td>-0.000587</td>\n",
       "    </tr>\n",
       "    <tr>\n",
       "      <th>Profilassi</th>\n",
       "      <td>0.009781</td>\n",
       "      <td>-0.016041</td>\n",
       "      <td>-0.001174</td>\n",
       "      <td>0.027387</td>\n",
       "      <td>-0.013693</td>\n",
       "      <td>-0.005086</td>\n",
       "      <td>-0.001565</td>\n",
       "      <td>-1.564945e-03</td>\n",
       "      <td>-0.001956</td>\n",
       "      <td>-7.042254e-03</td>\n",
       "      <td>...</td>\n",
       "      <td>-0.001174</td>\n",
       "      <td>-0.003130</td>\n",
       "      <td>-0.004304</td>\n",
       "      <td>-6.841163e-19</td>\n",
       "      <td>-0.002347</td>\n",
       "      <td>0.007433</td>\n",
       "      <td>-0.001956</td>\n",
       "      <td>0.005477</td>\n",
       "      <td>-0.002347</td>\n",
       "      <td>-0.000391</td>\n",
       "    </tr>\n",
       "    <tr>\n",
       "      <th>Comorbilità</th>\n",
       "      <td>0.016236</td>\n",
       "      <td>0.043232</td>\n",
       "      <td>0.007629</td>\n",
       "      <td>-0.013693</td>\n",
       "      <td>0.253326</td>\n",
       "      <td>0.094092</td>\n",
       "      <td>0.028951</td>\n",
       "      <td>2.895149e-02</td>\n",
       "      <td>-0.006064</td>\n",
       "      <td>1.056338e-02</td>\n",
       "      <td>...</td>\n",
       "      <td>-0.020540</td>\n",
       "      <td>0.036776</td>\n",
       "      <td>0.016236</td>\n",
       "      <td>7.042254e-03</td>\n",
       "      <td>0.001174</td>\n",
       "      <td>0.052621</td>\n",
       "      <td>0.008020</td>\n",
       "      <td>0.018388</td>\n",
       "      <td>0.043427</td>\n",
       "      <td>0.007238</td>\n",
       "    </tr>\n",
       "    <tr>\n",
       "      <th>Diabete</th>\n",
       "      <td>-0.006847</td>\n",
       "      <td>0.022496</td>\n",
       "      <td>-0.007629</td>\n",
       "      <td>-0.005086</td>\n",
       "      <td>0.094092</td>\n",
       "      <td>0.150039</td>\n",
       "      <td>-0.010172</td>\n",
       "      <td>1.799687e-02</td>\n",
       "      <td>0.001369</td>\n",
       "      <td>1.760563e-02</td>\n",
       "      <td>...</td>\n",
       "      <td>-0.007629</td>\n",
       "      <td>0.014867</td>\n",
       "      <td>0.007238</td>\n",
       "      <td>2.112676e-02</td>\n",
       "      <td>-0.001174</td>\n",
       "      <td>-0.000978</td>\n",
       "      <td>-0.012715</td>\n",
       "      <td>0.014476</td>\n",
       "      <td>0.012911</td>\n",
       "      <td>0.011541</td>\n",
       "    </tr>\n",
       "    <tr>\n",
       "      <th>HIV</th>\n",
       "      <td>-0.022692</td>\n",
       "      <td>0.024257</td>\n",
       "      <td>-0.002347</td>\n",
       "      <td>-0.001565</td>\n",
       "      <td>0.028951</td>\n",
       "      <td>-0.010172</td>\n",
       "      <td>0.053208</td>\n",
       "      <td>1.095462e-02</td>\n",
       "      <td>-0.003912</td>\n",
       "      <td>1.408451e-02</td>\n",
       "      <td>...</td>\n",
       "      <td>-0.002347</td>\n",
       "      <td>-0.006260</td>\n",
       "      <td>-0.008607</td>\n",
       "      <td>-1.408451e-02</td>\n",
       "      <td>0.009390</td>\n",
       "      <td>0.000782</td>\n",
       "      <td>0.010172</td>\n",
       "      <td>-0.003130</td>\n",
       "      <td>-0.004695</td>\n",
       "      <td>-0.000782</td>\n",
       "    </tr>\n",
       "    <tr>\n",
       "      <th>IRC</th>\n",
       "      <td>0.005477</td>\n",
       "      <td>0.010172</td>\n",
       "      <td>-0.002347</td>\n",
       "      <td>-0.001565</td>\n",
       "      <td>0.028951</td>\n",
       "      <td>0.017997</td>\n",
       "      <td>0.010955</td>\n",
       "      <td>5.320814e-02</td>\n",
       "      <td>-0.003912</td>\n",
       "      <td>-3.029658e-18</td>\n",
       "      <td>...</td>\n",
       "      <td>-0.002347</td>\n",
       "      <td>-0.006260</td>\n",
       "      <td>-0.008607</td>\n",
       "      <td>9.773090e-19</td>\n",
       "      <td>-0.004695</td>\n",
       "      <td>0.000782</td>\n",
       "      <td>0.010172</td>\n",
       "      <td>0.010955</td>\n",
       "      <td>-0.004695</td>\n",
       "      <td>-0.000782</td>\n",
       "    </tr>\n",
       "    <tr>\n",
       "      <th>GCS</th>\n",
       "      <td>-0.003717</td>\n",
       "      <td>-0.011933</td>\n",
       "      <td>-0.002934</td>\n",
       "      <td>-0.001956</td>\n",
       "      <td>-0.006064</td>\n",
       "      <td>0.001369</td>\n",
       "      <td>-0.003912</td>\n",
       "      <td>-3.912363e-03</td>\n",
       "      <td>0.065532</td>\n",
       "      <td>-3.873239e-02</td>\n",
       "      <td>...</td>\n",
       "      <td>-0.002934</td>\n",
       "      <td>-0.000782</td>\n",
       "      <td>-0.003717</td>\n",
       "      <td>-7.042254e-03</td>\n",
       "      <td>-0.005869</td>\n",
       "      <td>-0.016628</td>\n",
       "      <td>-0.004890</td>\n",
       "      <td>-0.007433</td>\n",
       "      <td>0.008216</td>\n",
       "      <td>-0.000978</td>\n",
       "    </tr>\n",
       "    <tr>\n",
       "      <th>Prostrazione</th>\n",
       "      <td>-0.031690</td>\n",
       "      <td>0.031690</td>\n",
       "      <td>-0.003521</td>\n",
       "      <td>-0.007042</td>\n",
       "      <td>0.010563</td>\n",
       "      <td>0.017606</td>\n",
       "      <td>0.014085</td>\n",
       "      <td>-3.029658e-18</td>\n",
       "      <td>-0.038732</td>\n",
       "      <td>1.901408e-01</td>\n",
       "      <td>...</td>\n",
       "      <td>0.010563</td>\n",
       "      <td>-0.014085</td>\n",
       "      <td>-0.003521</td>\n",
       "      <td>-1.408451e-02</td>\n",
       "      <td>0.021127</td>\n",
       "      <td>0.031690</td>\n",
       "      <td>-0.010563</td>\n",
       "      <td>0.021127</td>\n",
       "      <td>-0.007042</td>\n",
       "      <td>0.003521</td>\n",
       "    </tr>\n",
       "  </tbody>\n",
       "</table>\n",
       "<p>10 rows × 32 columns</p>\n",
       "</div>"
      ],
      "text/plain": [
       "                 Sesso  Nazionalità  Domicilio  Profilassi  Comorbilità  \\\n",
       "Sesso         0.229851    -0.010759   0.000587    0.009781     0.016236   \n",
       "Nazionalità  -0.010759     0.248631   0.018192   -0.016041     0.043232   \n",
       "Domicilio     0.000587     0.018192   0.040493   -0.001174     0.007629   \n",
       "Profilassi    0.009781    -0.016041  -0.001174    0.027387    -0.013693   \n",
       "Comorbilità   0.016236     0.043232   0.007629   -0.013693     0.253326   \n",
       "Diabete      -0.006847     0.022496  -0.007629   -0.005086     0.094092   \n",
       "HIV          -0.022692     0.024257  -0.002347   -0.001565     0.028951   \n",
       "IRC           0.005477     0.010172  -0.002347   -0.001565     0.028951   \n",
       "GCS          -0.003717    -0.011933  -0.002934   -0.001956    -0.006064   \n",
       "Prostrazione -0.031690     0.031690  -0.003521   -0.007042     0.010563   \n",
       "\n",
       "               Diabete       HIV           IRC       GCS  Prostrazione  ...  \\\n",
       "Sesso        -0.006847 -0.022692  5.477308e-03 -0.003717 -3.169014e-02  ...   \n",
       "Nazionalità   0.022496  0.024257  1.017214e-02 -0.011933  3.169014e-02  ...   \n",
       "Domicilio    -0.007629 -0.002347 -2.347418e-03 -0.002934 -3.521127e-03  ...   \n",
       "Profilassi   -0.005086 -0.001565 -1.564945e-03 -0.001956 -7.042254e-03  ...   \n",
       "Comorbilità   0.094092  0.028951  2.895149e-02 -0.006064  1.056338e-02  ...   \n",
       "Diabete       0.150039 -0.010172  1.799687e-02  0.001369  1.760563e-02  ...   \n",
       "HIV          -0.010172  0.053208  1.095462e-02 -0.003912  1.408451e-02  ...   \n",
       "IRC           0.017997  0.010955  5.320814e-02 -0.003912 -3.029658e-18  ...   \n",
       "GCS           0.001369 -0.003912 -3.912363e-03  0.065532 -3.873239e-02  ...   \n",
       "Prostrazione  0.017606  0.014085 -3.029658e-18 -0.038732  1.901408e-01  ...   \n",
       "\n",
       "              ArtemetherLumefantrinaSomministrazione1Datainizioeora  \\\n",
       "Sesso                                                  0.014671       \n",
       "Nazionalità                                            0.004108       \n",
       "Domicilio                                             -0.001761       \n",
       "Profilassi                                            -0.001174       \n",
       "Comorbilità                                           -0.020540       \n",
       "Diabete                                               -0.007629       \n",
       "HIV                                                   -0.002347       \n",
       "IRC                                                   -0.002347       \n",
       "GCS                                                   -0.002934       \n",
       "Prostrazione                                           0.010563       \n",
       "\n",
       "              DiidroartemisininaPiperachinaSomministrazione1Datainizioeora  \\\n",
       "Sesso                                                  0.017997              \n",
       "Nazionalità                                           -0.000782              \n",
       "Domicilio                                             -0.025822              \n",
       "Profilassi                                            -0.003130              \n",
       "Comorbilità                                            0.036776              \n",
       "Diabete                                                0.014867              \n",
       "HIV                                                   -0.006260              \n",
       "IRC                                                   -0.006260              \n",
       "GCS                                                   -0.000782              \n",
       "Prostrazione                                          -0.014085              \n",
       "\n",
       "                   ACT  ArtesunatoACT  AtovaquoneProguanile  Doxiciclinaperos  \\\n",
       "Sesso         0.032668   2.112676e-02              0.001174          0.026800   \n",
       "Nazionalità   0.003326  -2.112676e-02             -0.005869          0.018584   \n",
       "Domicilio    -0.027582  -2.112676e-02             -0.003521          0.004108   \n",
       "Profilassi   -0.004304  -6.841163e-19             -0.002347          0.007433   \n",
       "Comorbilità   0.016236   7.042254e-03              0.001174          0.052621   \n",
       "Diabete       0.007238   2.112676e-02             -0.001174         -0.000978   \n",
       "HIV          -0.008607  -1.408451e-02              0.009390          0.000782   \n",
       "IRC          -0.008607   9.773090e-19             -0.004695          0.000782   \n",
       "GCS          -0.003717  -7.042254e-03             -0.005869         -0.016628   \n",
       "Prostrazione -0.003521  -1.408451e-02              0.021127          0.031690   \n",
       "\n",
       "              Clindamicina  Antibiotici   Chinino  Primachina  \n",
       "Sesso            -0.017801     0.023083 -0.012911    0.004890  \n",
       "Nazionalità       0.016236     0.020736  0.008216    0.006064  \n",
       "Domicilio        -0.002934    -0.012911 -0.003521   -0.000587  \n",
       "Profilassi       -0.001956     0.005477 -0.002347   -0.000391  \n",
       "Comorbilità       0.008020     0.018388  0.043427    0.007238  \n",
       "Diabete          -0.012715     0.014476  0.012911    0.011541  \n",
       "HIV               0.010172    -0.003130 -0.004695   -0.000782  \n",
       "IRC               0.010172     0.010955 -0.004695   -0.000782  \n",
       "GCS              -0.004890    -0.007433  0.008216   -0.000978  \n",
       "Prostrazione     -0.010563     0.021127 -0.007042    0.003521  \n",
       "\n",
       "[10 rows x 32 columns]"
      ]
     },
     "execution_count": 9,
     "metadata": {},
     "output_type": "execute_result"
    }
   ],
   "source": [
    "XCov.head(10)"
   ]
  },
  {
   "cell_type": "code",
   "execution_count": 10,
   "metadata": {},
   "outputs": [
    {
     "data": {
      "text/plain": [
       "array([0.55129576, 0.17679891, 0.10986679])"
      ]
     },
     "execution_count": 10,
     "metadata": {},
     "output_type": "execute_result"
    }
   ],
   "source": [
    "sigma_squared"
   ]
  },
  {
   "cell_type": "code",
   "execution_count": 11,
   "metadata": {},
   "outputs": [
    {
     "data": {
      "text/plain": [
       "array([[ 0.10843845, -0.01696565, -0.05838416, -0.00217126,  0.12424391,\n",
       "         0.07382602, -0.0306956 ,  0.00812936, -0.01192349, -0.03084579,\n",
       "         0.08241435,  0.00860716,  0.05555562, -0.14690129,  0.05339414,\n",
       "        -0.00542955,  0.03950507, -0.12758454,  0.01348487, -0.02035011,\n",
       "         0.02035011,  0.15753339, -0.03847533,  0.53268831,  0.49421297,\n",
       "         0.51507218, -0.1426052 ,  0.15142018, -0.02400627,  0.20573068,\n",
       "         0.04593318,  0.02035011],\n",
       "       [-0.05233108,  0.48674644,  0.04151872, -0.04920957,  0.48954158,\n",
       "         0.25130254,  0.09830978,  0.04382672, -0.09315895,  0.32967013,\n",
       "        -0.19357196,  0.02426032, -0.01978462, -0.06918793, -0.10722805,\n",
       "        -0.07006155, -0.071231  , -0.16868092, -0.25583443, -0.03390293,\n",
       "         0.03390293, -0.17398101,  0.00509956, -0.03157829, -0.02647874,\n",
       "        -0.14309749,  0.04671801,  0.22670553,  0.04482662,  0.21067125,\n",
       "         0.09966428,  0.03390293],\n",
       "       [ 0.09847905, -0.06578081,  0.01407081,  0.04117326,  0.06025592,\n",
       "         0.02035679,  0.00728291,  0.10113846, -0.04094967,  0.01379574,\n",
       "         0.09931728, -0.06420477, -0.00294745,  0.11266578,  0.20658845,\n",
       "         0.02729507,  0.13075666,  0.35965775, -0.02657899,  0.00057111,\n",
       "        -0.00057111,  0.46660093, -0.10673183, -0.1729626 , -0.27969443,\n",
       "         0.03261886, -0.04919845,  0.40613487,  0.12272058,  0.46200895,\n",
       "        -0.1281433 , -0.00057111]])"
      ]
     },
     "execution_count": 11,
     "metadata": {},
     "output_type": "execute_result"
    }
   ],
   "source": [
    "V"
   ]
  },
  {
   "cell_type": "code",
   "execution_count": 12,
   "metadata": {},
   "outputs": [
    {
     "name": "stdout",
     "output_type": "stream",
     "text": [
      "Encoded Latent Vectors:\n",
      "[ 1.67567596 -0.17812644 -0.04522591]\n"
     ]
    }
   ],
   "source": [
    "# Step 3: Encode the First Sample\n",
    "first_sample = predictive_cat_df.iloc[4]  # Assuming the first sample is at index 0\n",
    "\n",
    "# Multiply the transformed sample by the matrix V to obtain latent vectors\n",
    "latent_vectors = np.dot(first_sample, V.T)\n",
    "\n",
    "# Print the encoded latent vectors\n",
    "print(\"Encoded Latent Vectors:\")\n",
    "print(latent_vectors)\n"
   ]
  },
  {
   "cell_type": "code",
   "execution_count": 13,
   "metadata": {},
   "outputs": [
    {
     "data": {
      "image/png": "[encoded data removed]",
      "text/plain": [
       "<Figure size 432x288 with 1 Axes>"
      ]
     },
     "metadata": {
      "needs_background": "light"
     },
     "output_type": "display_data"
    }
   ],
   "source": [
    "import numpy as np\n",
    "import matplotlib.pyplot as plt\n",
    "from mpl_toolkits.mplot3d import Axes3D\n",
    "\n",
    "# Step 1: Loop through the DataFrame and calculate latent vectors\n",
    "latent_vectors_list = []\n",
    "colors = []  # To store the colors for the scatter plot\n",
    "\n",
    "for i in range(len(predictive_cat_df)):\n",
    "    sample = predictive_cat_df.iloc[i]\n",
    "    latent_vector = np.dot(sample, V.T)\n",
    "    latent_vectors_list.append(latent_vector)\n",
    "    \n",
    "    if i in filtered_df.index and filtered_df.loc[i, 'ICU'] == 1:\n",
    "        colors.append('red')  # Corresponding sample in filtered_df has 'ICU' value set to 1\n",
    "    else:\n",
    "        colors.append('blue')  # Corresponding sample in filtered_df does not have 'ICU' value set to 1\n",
    "\n",
    "# Convert the list of latent vectors into a NumPy array\n",
    "latent_vectors = np.array(latent_vectors_list)\n",
    "\n",
    "# Plot the latent vectors in a 3D scatter plot\n",
    "fig = plt.figure()\n",
    "ax = fig.add_subplot(111, projection='3d')\n",
    "\n",
    "if len(latent_vectors[0]) != 3 : \n",
    "    print(\"This 3D reprensentation is incorrect, vector size != 3\")\n",
    "# Plot all latent vectors\n",
    "ax.scatter(latent_vectors[:, 0], latent_vectors[:, 1], latent_vectors[:, 2], color=colors)\n",
    "\n",
    "# Set labels and title for the plot\n",
    "ax.set_xlabel('Latent 1')\n",
    "ax.set_ylabel('Latent 2')\n",
    "ax.set_zlabel('Latent 3')\n",
    "ax.set_title('Latent Space Visualization')\n",
    "\n",
    "# Show the plot\n",
    "plt.show()\n"
   ]
  },
  {
   "attachments": {},
   "cell_type": "markdown",
   "metadata": {},
   "source": [
    "***Then we should merge this with the numerical datas***"
   ]
  },
  {
   "cell_type": "code",
   "execution_count": 14,
   "metadata": {},
   "outputs": [],
   "source": [
    "import pandas as pd\n",
    "\n",
    "# Create a new DataFrame with latent vectors\n",
    "latent_df = pd.DataFrame(latent_vectors, columns=[f'latent_{i+1}' for i in range(latent_vectors.shape[1])])\n",
    "\n",
    "# Get the remaining features from predictive_df\n",
    "remaining_features_df = predictive_df.drop(predictive_cat_df.columns, axis=1)\n",
    "\n",
    "# Merge latent_df with the remaining features\n",
    "merged_df = pd.concat([latent_df, remaining_features_df], axis=1)"
   ]
  },
  {
   "cell_type": "code",
   "execution_count": 15,
   "metadata": {},
   "outputs": [
    {
     "data": {
      "text/html": [
       "<div>\n",
       "<style scoped>\n",
       "    .dataframe tbody tr th:only-of-type {\n",
       "        vertical-align: middle;\n",
       "    }\n",
       "\n",
       "    .dataframe tbody tr th {\n",
       "        vertical-align: top;\n",
       "    }\n",
       "\n",
       "    .dataframe thead th {\n",
       "        text-align: right;\n",
       "    }\n",
       "</style>\n",
       "<table border=\"1\" class=\"dataframe\">\n",
       "  <thead>\n",
       "    <tr style=\"text-align: right;\">\n",
       "      <th></th>\n",
       "      <th>latent_1</th>\n",
       "      <th>latent_2</th>\n",
       "      <th>latent_3</th>\n",
       "      <th>Età</th>\n",
       "      <th>Altezza</th>\n",
       "      <th>Peso</th>\n",
       "      <th>Numerocriteri</th>\n",
       "      <th>Parassitemiavaloreassoluto</th>\n",
       "      <th>Percentualeparassitemia</th>\n",
       "      <th>Ritardoterapeutico</th>\n",
       "      <th>...</th>\n",
       "      <th>T0Bilirubinadirettainmgdl</th>\n",
       "      <th>T0SodioinmEql</th>\n",
       "      <th>T0PotassioinmEql</th>\n",
       "      <th>T0Cainmgdl</th>\n",
       "      <th>T0INR</th>\n",
       "      <th>T0fibrinogenoinmgdl</th>\n",
       "      <th>T0pH</th>\n",
       "      <th>T0bicarbonatiinmmoll</th>\n",
       "      <th>T0Lattatiinmmoll</th>\n",
       "      <th>DurataArtesunato</th>\n",
       "    </tr>\n",
       "  </thead>\n",
       "  <tbody>\n",
       "    <tr>\n",
       "      <th>0</th>\n",
       "      <td>-0.102328</td>\n",
       "      <td>0.776901</td>\n",
       "      <td>-0.002133</td>\n",
       "      <td>57</td>\n",
       "      <td>160</td>\n",
       "      <td>55.0</td>\n",
       "      <td>1</td>\n",
       "      <td>117137</td>\n",
       "      <td>1.0</td>\n",
       "      <td>7</td>\n",
       "      <td>...</td>\n",
       "      <td>0.475355</td>\n",
       "      <td>136</td>\n",
       "      <td>3.4</td>\n",
       "      <td>8.400000</td>\n",
       "      <td>1.15</td>\n",
       "      <td>498</td>\n",
       "      <td>7.488156</td>\n",
       "      <td>29.354149</td>\n",
       "      <td>1.961553</td>\n",
       "      <td>2</td>\n",
       "    </tr>\n",
       "    <tr>\n",
       "      <th>1</th>\n",
       "      <td>-0.193801</td>\n",
       "      <td>0.342485</td>\n",
       "      <td>-0.034832</td>\n",
       "      <td>62</td>\n",
       "      <td>159</td>\n",
       "      <td>70.0</td>\n",
       "      <td>1</td>\n",
       "      <td>37694</td>\n",
       "      <td>1.0</td>\n",
       "      <td>7</td>\n",
       "      <td>...</td>\n",
       "      <td>0.779619</td>\n",
       "      <td>140</td>\n",
       "      <td>3.9</td>\n",
       "      <td>9.400000</td>\n",
       "      <td>1.19</td>\n",
       "      <td>469</td>\n",
       "      <td>7.471427</td>\n",
       "      <td>29.661985</td>\n",
       "      <td>2.386043</td>\n",
       "      <td>4</td>\n",
       "    </tr>\n",
       "    <tr>\n",
       "      <th>2</th>\n",
       "      <td>1.994253</td>\n",
       "      <td>-0.165400</td>\n",
       "      <td>0.305186</td>\n",
       "      <td>72</td>\n",
       "      <td>175</td>\n",
       "      <td>83.0</td>\n",
       "      <td>1</td>\n",
       "      <td>7</td>\n",
       "      <td>0.2</td>\n",
       "      <td>2</td>\n",
       "      <td>...</td>\n",
       "      <td>0.360000</td>\n",
       "      <td>139</td>\n",
       "      <td>4.0</td>\n",
       "      <td>8.130000</td>\n",
       "      <td>1.10</td>\n",
       "      <td>369</td>\n",
       "      <td>7.410000</td>\n",
       "      <td>30.400000</td>\n",
       "      <td>2.600000</td>\n",
       "      <td>1</td>\n",
       "    </tr>\n",
       "    <tr>\n",
       "      <th>3</th>\n",
       "      <td>2.052544</td>\n",
       "      <td>-0.083588</td>\n",
       "      <td>0.406235</td>\n",
       "      <td>53</td>\n",
       "      <td>177</td>\n",
       "      <td>96.0</td>\n",
       "      <td>2</td>\n",
       "      <td>572000</td>\n",
       "      <td>12.0</td>\n",
       "      <td>7</td>\n",
       "      <td>...</td>\n",
       "      <td>1.020000</td>\n",
       "      <td>122</td>\n",
       "      <td>3.5</td>\n",
       "      <td>8.520905</td>\n",
       "      <td>1.10</td>\n",
       "      <td>407</td>\n",
       "      <td>7.459404</td>\n",
       "      <td>25.057969</td>\n",
       "      <td>2.728105</td>\n",
       "      <td>4</td>\n",
       "    </tr>\n",
       "    <tr>\n",
       "      <th>4</th>\n",
       "      <td>1.675676</td>\n",
       "      <td>-0.178126</td>\n",
       "      <td>-0.045226</td>\n",
       "      <td>58</td>\n",
       "      <td>160</td>\n",
       "      <td>64.3</td>\n",
       "      <td>1</td>\n",
       "      <td>602100</td>\n",
       "      <td>13.5</td>\n",
       "      <td>7</td>\n",
       "      <td>...</td>\n",
       "      <td>1.428358</td>\n",
       "      <td>135</td>\n",
       "      <td>3.9</td>\n",
       "      <td>8.849885</td>\n",
       "      <td>1.10</td>\n",
       "      <td>455</td>\n",
       "      <td>7.460937</td>\n",
       "      <td>26.638637</td>\n",
       "      <td>2.363897</td>\n",
       "      <td>1</td>\n",
       "    </tr>\n",
       "  </tbody>\n",
       "</table>\n",
       "<p>5 rows × 36 columns</p>\n",
       "</div>"
      ],
      "text/plain": [
       "   latent_1  latent_2  latent_3  Età  Altezza  Peso  Numerocriteri  \\\n",
       "0 -0.102328  0.776901 -0.002133   57      160  55.0              1   \n",
       "1 -0.193801  0.342485 -0.034832   62      159  70.0              1   \n",
       "2  1.994253 -0.165400  0.305186   72      175  83.0              1   \n",
       "3  2.052544 -0.083588  0.406235   53      177  96.0              2   \n",
       "4  1.675676 -0.178126 -0.045226   58      160  64.3              1   \n",
       "\n",
       "   Parassitemiavaloreassoluto  Percentualeparassitemia  Ritardoterapeutico  \\\n",
       "0                      117137                      1.0                   7   \n",
       "1                       37694                      1.0                   7   \n",
       "2                           7                      0.2                   2   \n",
       "3                      572000                     12.0                   7   \n",
       "4                      602100                     13.5                   7   \n",
       "\n",
       "   ...  T0Bilirubinadirettainmgdl  T0SodioinmEql  T0PotassioinmEql  \\\n",
       "0  ...                   0.475355            136               3.4   \n",
       "1  ...                   0.779619            140               3.9   \n",
       "2  ...                   0.360000            139               4.0   \n",
       "3  ...                   1.020000            122               3.5   \n",
       "4  ...                   1.428358            135               3.9   \n",
       "\n",
       "   T0Cainmgdl  T0INR  T0fibrinogenoinmgdl      T0pH  T0bicarbonatiinmmoll  \\\n",
       "0    8.400000   1.15                  498  7.488156             29.354149   \n",
       "1    9.400000   1.19                  469  7.471427             29.661985   \n",
       "2    8.130000   1.10                  369  7.410000             30.400000   \n",
       "3    8.520905   1.10                  407  7.459404             25.057969   \n",
       "4    8.849885   1.10                  455  7.460937             26.638637   \n",
       "\n",
       "   T0Lattatiinmmoll  DurataArtesunato  \n",
       "0          1.961553                 2  \n",
       "1          2.386043                 4  \n",
       "2          2.600000                 1  \n",
       "3          2.728105                 4  \n",
       "4          2.363897                 1  \n",
       "\n",
       "[5 rows x 36 columns]"
      ]
     },
     "execution_count": 15,
     "metadata": {},
     "output_type": "execute_result"
    }
   ],
   "source": [
    "merged_df.head(5)"
   ]
  },
  {
   "cell_type": "code",
   "execution_count": 16,
   "metadata": {},
   "outputs": [],
   "source": [
    "from sklearn.preprocessing import MinMaxScaler\n",
    "\n",
    "# Create a MinMaxScaler object\n",
    "scaler = MinMaxScaler()\n",
    "\n",
    "# Normalize the features in merged_df\n",
    "normalized_df = pd.DataFrame(scaler.fit_transform(merged_df), columns=merged_df.columns)"
   ]
  },
  {
   "cell_type": "code",
   "execution_count": 17,
   "metadata": {},
   "outputs": [
    {
     "data": {
      "text/html": [
       "<div>\n",
       "<style scoped>\n",
       "    .dataframe tbody tr th:only-of-type {\n",
       "        vertical-align: middle;\n",
       "    }\n",
       "\n",
       "    .dataframe tbody tr th {\n",
       "        vertical-align: top;\n",
       "    }\n",
       "\n",
       "    .dataframe thead th {\n",
       "        text-align: right;\n",
       "    }\n",
       "</style>\n",
       "<table border=\"1\" class=\"dataframe\">\n",
       "  <thead>\n",
       "    <tr style=\"text-align: right;\">\n",
       "      <th></th>\n",
       "      <th>latent_1</th>\n",
       "      <th>latent_2</th>\n",
       "      <th>latent_3</th>\n",
       "      <th>Età</th>\n",
       "      <th>Altezza</th>\n",
       "      <th>Peso</th>\n",
       "      <th>Numerocriteri</th>\n",
       "      <th>Parassitemiavaloreassoluto</th>\n",
       "      <th>Percentualeparassitemia</th>\n",
       "      <th>Ritardoterapeutico</th>\n",
       "      <th>...</th>\n",
       "      <th>T0Bilirubinadirettainmgdl</th>\n",
       "      <th>T0SodioinmEql</th>\n",
       "      <th>T0PotassioinmEql</th>\n",
       "      <th>T0Cainmgdl</th>\n",
       "      <th>T0INR</th>\n",
       "      <th>T0fibrinogenoinmgdl</th>\n",
       "      <th>T0pH</th>\n",
       "      <th>T0bicarbonatiinmmoll</th>\n",
       "      <th>T0Lattatiinmmoll</th>\n",
       "      <th>DurataArtesunato</th>\n",
       "    </tr>\n",
       "  </thead>\n",
       "  <tbody>\n",
       "    <tr>\n",
       "      <th>0</th>\n",
       "      <td>0.033326</td>\n",
       "      <td>0.657854</td>\n",
       "      <td>0.228539</td>\n",
       "      <td>0.587302</td>\n",
       "      <td>0.250</td>\n",
       "      <td>0.190141</td>\n",
       "      <td>0.0</td>\n",
       "      <td>0.104116</td>\n",
       "      <td>0.045411</td>\n",
       "      <td>0.461538</td>\n",
       "      <td>...</td>\n",
       "      <td>0.023170</td>\n",
       "      <td>0.56</td>\n",
       "      <td>0.296296</td>\n",
       "      <td>0.404762</td>\n",
       "      <td>0.234234</td>\n",
       "      <td>0.505777</td>\n",
       "      <td>0.783983</td>\n",
       "      <td>0.932958</td>\n",
       "      <td>0.352311</td>\n",
       "      <td>0.166667</td>\n",
       "    </tr>\n",
       "    <tr>\n",
       "      <th>1</th>\n",
       "      <td>0.000000</td>\n",
       "      <td>0.461345</td>\n",
       "      <td>0.215166</td>\n",
       "      <td>0.666667</td>\n",
       "      <td>0.225</td>\n",
       "      <td>0.366197</td>\n",
       "      <td>0.0</td>\n",
       "      <td>0.033500</td>\n",
       "      <td>0.045411</td>\n",
       "      <td>0.461538</td>\n",
       "      <td>...</td>\n",
       "      <td>0.041952</td>\n",
       "      <td>0.72</td>\n",
       "      <td>0.481481</td>\n",
       "      <td>0.642857</td>\n",
       "      <td>0.270270</td>\n",
       "      <td>0.468549</td>\n",
       "      <td>0.714281</td>\n",
       "      <td>0.952691</td>\n",
       "      <td>0.437209</td>\n",
       "      <td>0.500000</td>\n",
       "    </tr>\n",
       "    <tr>\n",
       "      <th>2</th>\n",
       "      <td>0.797172</td>\n",
       "      <td>0.231601</td>\n",
       "      <td>0.354229</td>\n",
       "      <td>0.825397</td>\n",
       "      <td>0.625</td>\n",
       "      <td>0.518779</td>\n",
       "      <td>0.0</td>\n",
       "      <td>0.000000</td>\n",
       "      <td>0.009046</td>\n",
       "      <td>0.076923</td>\n",
       "      <td>...</td>\n",
       "      <td>0.016049</td>\n",
       "      <td>0.68</td>\n",
       "      <td>0.518519</td>\n",
       "      <td>0.340476</td>\n",
       "      <td>0.189189</td>\n",
       "      <td>0.340180</td>\n",
       "      <td>0.458333</td>\n",
       "      <td>1.000000</td>\n",
       "      <td>0.480000</td>\n",
       "      <td>0.000000</td>\n",
       "    </tr>\n",
       "    <tr>\n",
       "      <th>3</th>\n",
       "      <td>0.818409</td>\n",
       "      <td>0.268609</td>\n",
       "      <td>0.395557</td>\n",
       "      <td>0.523810</td>\n",
       "      <td>0.675</td>\n",
       "      <td>0.671362</td>\n",
       "      <td>0.2</td>\n",
       "      <td>0.508441</td>\n",
       "      <td>0.545434</td>\n",
       "      <td>0.461538</td>\n",
       "      <td>...</td>\n",
       "      <td>0.056790</td>\n",
       "      <td>0.00</td>\n",
       "      <td>0.333333</td>\n",
       "      <td>0.433549</td>\n",
       "      <td>0.189189</td>\n",
       "      <td>0.388960</td>\n",
       "      <td>0.664185</td>\n",
       "      <td>0.657562</td>\n",
       "      <td>0.505621</td>\n",
       "      <td>0.500000</td>\n",
       "    </tr>\n",
       "    <tr>\n",
       "      <th>4</th>\n",
       "      <td>0.681105</td>\n",
       "      <td>0.225845</td>\n",
       "      <td>0.210915</td>\n",
       "      <td>0.603175</td>\n",
       "      <td>0.250</td>\n",
       "      <td>0.299296</td>\n",
       "      <td>0.0</td>\n",
       "      <td>0.535197</td>\n",
       "      <td>0.613619</td>\n",
       "      <td>0.461538</td>\n",
       "      <td>...</td>\n",
       "      <td>0.081997</td>\n",
       "      <td>0.52</td>\n",
       "      <td>0.481481</td>\n",
       "      <td>0.511877</td>\n",
       "      <td>0.189189</td>\n",
       "      <td>0.450578</td>\n",
       "      <td>0.670569</td>\n",
       "      <td>0.758887</td>\n",
       "      <td>0.432779</td>\n",
       "      <td>0.000000</td>\n",
       "    </tr>\n",
       "  </tbody>\n",
       "</table>\n",
       "<p>5 rows × 36 columns</p>\n",
       "</div>"
      ],
      "text/plain": [
       "   latent_1  latent_2  latent_3       Età  Altezza      Peso  Numerocriteri  \\\n",
       "0  0.033326  0.657854  0.228539  0.587302    0.250  0.190141            0.0   \n",
       "1  0.000000  0.461345  0.215166  0.666667    0.225  0.366197            0.0   \n",
       "2  0.797172  0.231601  0.354229  0.825397    0.625  0.518779            0.0   \n",
       "3  0.818409  0.268609  0.395557  0.523810    0.675  0.671362            0.2   \n",
       "4  0.681105  0.225845  0.210915  0.603175    0.250  0.299296            0.0   \n",
       "\n",
       "   Parassitemiavaloreassoluto  Percentualeparassitemia  Ritardoterapeutico  \\\n",
       "0                    0.104116                 0.045411            0.461538   \n",
       "1                    0.033500                 0.045411            0.461538   \n",
       "2                    0.000000                 0.009046            0.076923   \n",
       "3                    0.508441                 0.545434            0.461538   \n",
       "4                    0.535197                 0.613619            0.461538   \n",
       "\n",
       "   ...  T0Bilirubinadirettainmgdl  T0SodioinmEql  T0PotassioinmEql  \\\n",
       "0  ...                   0.023170           0.56          0.296296   \n",
       "1  ...                   0.041952           0.72          0.481481   \n",
       "2  ...                   0.016049           0.68          0.518519   \n",
       "3  ...                   0.056790           0.00          0.333333   \n",
       "4  ...                   0.081997           0.52          0.481481   \n",
       "\n",
       "   T0Cainmgdl     T0INR  T0fibrinogenoinmgdl      T0pH  T0bicarbonatiinmmoll  \\\n",
       "0    0.404762  0.234234             0.505777  0.783983              0.932958   \n",
       "1    0.642857  0.270270             0.468549  0.714281              0.952691   \n",
       "2    0.340476  0.189189             0.340180  0.458333              1.000000   \n",
       "3    0.433549  0.189189             0.388960  0.664185              0.657562   \n",
       "4    0.511877  0.189189             0.450578  0.670569              0.758887   \n",
       "\n",
       "   T0Lattatiinmmoll  DurataArtesunato  \n",
       "0          0.352311          0.166667  \n",
       "1          0.437209          0.500000  \n",
       "2          0.480000          0.000000  \n",
       "3          0.505621          0.500000  \n",
       "4          0.432779          0.000000  \n",
       "\n",
       "[5 rows x 36 columns]"
      ]
     },
     "execution_count": 17,
     "metadata": {},
     "output_type": "execute_result"
    }
   ],
   "source": [
    "normalized_df.head(5)"
   ]
  },
  {
   "attachments": {},
   "cell_type": "markdown",
   "metadata": {},
   "source": [
    "***The problem is that the further we go from the original datas, the less informations for the doctors***"
   ]
  },
  {
   "cell_type": "code",
   "execution_count": 18,
   "metadata": {},
   "outputs": [],
   "source": [
    "import torch\n",
    "import torch.nn as nn\n",
    "import torch.nn.functional as F\n",
    "\n",
    "# Define the neural network architecture\n",
    "class Net(nn.Module):\n",
    "    def __init__(self, input_dim, embedded_dim):\n",
    "        super(Net, self).__init__()\n",
    "        self.fc1 = nn.Linear(input_dim, 64)\n",
    "        self.fc2 = nn.Linear(64, 32)\n",
    "        self.fc3 = nn.Linear(32, 16)\n",
    "        self.fc4 = nn.Linear(16, embedded_dim)\n",
    "        \n",
    "    def forward(self, x):\n",
    "        x = F.relu(self.fc1(x))\n",
    "        x = F.relu(self.fc2(x))\n",
    "        x = F.relu(self.fc3(x))\n",
    "        x = self.fc4(x)\n",
    "        return x\n",
    "    \n",
    "    def loss(self, distance_matrix, targets, lambda_reg = 10.0):\n",
    "\n",
    "        pospos_sum_dist = 0\n",
    "        pospos_sum_count = 0\n",
    "\n",
    "        posneg_sum_dist = 0\n",
    "        posneg_sum_count = 0\n",
    "        \n",
    "        negneg_sum_dist = 0\n",
    "        negneg_sum_count = 0\n",
    "\n",
    "        # print(distance_matrix)\n",
    "\n",
    "        max_dist = torch.max(distance_matrix)\n",
    "\n",
    "        for i in range(len(distance_matrix)) : \n",
    "            for j in range(i+1, len(distance_matrix)) : \n",
    "                if targets[i] == 1 or targets[j] == 1 : \n",
    "                    if targets[i] == 1 and targets[j] == 1 : #pos pos\n",
    "                        pospos_sum_dist += distance_matrix[i][j]\n",
    "                        pospos_sum_count += 1 \n",
    "                    else : # pos/neg ou neg/pos\n",
    "                        posneg_sum_dist += distance_matrix[i][j]\n",
    "                        posneg_sum_count += 1 \n",
    "                else :\n",
    "                    negneg_sum_dist += distance_matrix[i][j]  \n",
    "                    negneg_sum_count += 1  \n",
    "        \n",
    "        avg_pospos = pospos_sum_dist/pospos_sum_count\n",
    "        avg_negneg = negneg_sum_dist/negneg_sum_count\n",
    "        avg_posneg = posneg_sum_dist/posneg_sum_count\n",
    "\n",
    "        # avg pos pos + avg neg neg - avg pos neg + max dist (so it stays positive)\n",
    "        distance_loss = (avg_pospos + avg_negneg) / (2*avg_posneg)\n",
    "        \n",
    "        regularization_loss = 0\n",
    "        for param in self.parameters():\n",
    "            regularization_loss += torch.sum(torch.square(param))\n",
    "\n",
    "        # print('distance_loss ='+str(distance_loss))\n",
    "        # print('lambda_reg * regularization_loss ='+str(lambda_reg * regularization_loss))\n",
    "        return distance_loss + lambda_reg * regularization_loss\n",
    "\n",
    "# Set the input and embedded dimensions\n",
    "input_dim = normalized_df.shape[1]\n",
    "embedded_dim = 3\n",
    "\n",
    "# Create an instance of the network\n",
    "model = Net(input_dim, embedded_dim)\n"
   ]
  },
  {
   "cell_type": "code",
   "execution_count": 19,
   "metadata": {},
   "outputs": [],
   "source": [
    "import torch\n",
    "from torch.utils.data import Dataset, DataLoader\n",
    "\n",
    "# Custom dataset class\n",
    "class MyDataset(Dataset):\n",
    "    def __init__(self, dataframe, target_column):\n",
    "        self.data = torch.tensor(dataframe.values, dtype=torch.float32)\n",
    "        self.targets = torch.tensor(target_column.values, dtype=torch.float32)\n",
    "        \n",
    "    def __len__(self):\n",
    "        return len(self.data)\n",
    "    \n",
    "    def __getitem__(self, idx):\n",
    "        return self.data[idx], self.targets[idx]\n",
    "    \n",
    "\n",
    "# Create an instance of your custom dataset\n",
    "dataset = MyDataset(normalized_df, target_column)\n",
    "\n",
    "# Define the batch size\n",
    "batch_size = len(normalized_df)\n",
    "\n",
    "# Create the data loader\n",
    "dataloader = DataLoader(dataset, batch_size=batch_size, shuffle=False)\n"
   ]
  },
  {
   "cell_type": "code",
   "execution_count": 20,
   "metadata": {},
   "outputs": [],
   "source": [
    "import torch.optim.lr_scheduler as lr_scheduler\n",
    "import torch\n",
    "import torch.nn as nn\n",
    "import torch.optim as optim"
   ]
  },
  {
   "cell_type": "code",
   "execution_count": 21,
   "metadata": {},
   "outputs": [],
   "source": [
    "# Convert the normalized_df dataframe to a PyTorch tensor\n",
    "data = torch.tensor(normalized_df.values, dtype=torch.float32)\n",
    "\n",
    "targets = torch.tensor(target_column.values, dtype=torch.float32)\n"
   ]
  },
  {
   "cell_type": "code",
   "execution_count": 22,
   "metadata": {},
   "outputs": [],
   "source": [
    "# Convert the normalized_df dataframe to a PyTorch tensor\n",
    "data2 = torch.tensor(predictive_df.values, dtype=torch.float32)\n",
    "\n",
    "targets = torch.tensor(target_column.values, dtype=torch.float32)\n"
   ]
  },
  {
   "cell_type": "code",
   "execution_count": 23,
   "metadata": {},
   "outputs": [
    {
     "name": "stdout",
     "output_type": "stream",
     "text": [
      "epoch : 0 loss : 5.358489142523871\n",
      "epoch : 1 loss : 4.385529412163629\n",
      "epoch : 2 loss : 3.544623057047526\n",
      "epoch : 3 loss : 2.8297381930881076\n",
      "epoch : 4 loss : 2.2304130130343967\n",
      "epoch : 5 loss : 1.7350179884168837\n",
      "epoch : 6 loss : 1.3325634002685547\n",
      "epoch : 7 loss : 1.0125274658203125\n",
      "epoch : 8 loss : 0.7630389001634386\n",
      "epoch : 9 loss : 0.5722878774007162\n",
      "epoch : 10 loss : 0.4329656759897868\n",
      "epoch : 11 loss : 0.3337219821082221\n",
      "epoch : 12 loss : 0.2661481963263618\n",
      "epoch : 13 loss : 0.2251842286851671\n",
      "epoch : 14 loss : 0.20333295398288304\n",
      "epoch : 15 loss : 0.1921767791112264\n",
      "epoch : 16 loss : 0.1910071505440606\n",
      "epoch : 17 loss : 0.1935816076066759\n",
      "epoch : 18 loss : 0.1982285049226549\n",
      "epoch : 19 loss : 0.20211700598398843\n",
      "epoch : 20 loss : 0.2048277325100369\n",
      "epoch : 21 loss : 0.20297156439887154\n",
      "epoch : 22 loss : 0.19944564501444498\n",
      "epoch : 23 loss : 0.19275236129760742\n",
      "epoch : 24 loss : 0.18373416529761422\n",
      "epoch : 25 loss : 0.17192716068691677\n",
      "epoch : 26 loss : 0.1604580216937595\n",
      "epoch : 27 loss : 0.14694408575693765\n",
      "epoch : 28 loss : 0.13351452350616455\n",
      "epoch : 29 loss : 0.12078894509209527\n",
      "epoch : 30 loss : 0.10743094815148248\n",
      "epoch : 31 loss : 0.09621453285217285\n",
      "epoch : 32 loss : 0.08514808946185642\n",
      "epoch : 33 loss : 0.07472758822970921\n",
      "epoch : 34 loss : 0.06572471724616157\n",
      "epoch : 35 loss : 0.05827360020743476\n",
      "epoch : 36 loss : 0.05080699589517382\n",
      "epoch : 37 loss : 0.04597616857952542\n",
      "epoch : 38 loss : 0.043424136108822294\n",
      "epoch : 39 loss : 0.03798930843671163\n",
      "epoch : 40 loss : 0.034861465295155845\n",
      "epoch : 41 loss : 0.03165304329660204\n",
      "epoch : 42 loss : 0.030755887428919475\n",
      "epoch : 43 loss : 0.029506574074427288\n",
      "epoch : 44 loss : 0.028136928876241047\n",
      "epoch : 45 loss : 0.026932151781188116\n",
      "epoch : 46 loss : 0.02623050742679172\n",
      "epoch : 47 loss : 0.025139616595374212\n",
      "epoch : 48 loss : 0.02362449301613702\n",
      "epoch : 49 loss : 0.022836524579260085\n",
      "epoch : 50 loss : 0.021590477890438504\n",
      "epoch : 51 loss : 0.021112190352545843\n",
      "epoch : 52 loss : 0.019783602820502386\n",
      "epoch : 53 loss : 0.019477960136201646\n",
      "epoch : 54 loss : 0.0189951757589976\n",
      "epoch : 55 loss : 0.018265262246131897\n",
      "epoch : 56 loss : 0.017510842945840623\n",
      "epoch : 57 loss : 0.016526202360788982\n",
      "epoch : 58 loss : 0.01589216457472907\n",
      "epoch : 59 loss : 0.014692205521795485\n",
      "epoch : 60 loss : 0.014715123507711623\n",
      "epoch : 61 loss : 0.014235787921481662\n",
      "epoch : 62 loss : 0.012948191828197904\n",
      "epoch : 63 loss : 0.01232282237874137\n",
      "epoch : 64 loss : 0.013296665416823493\n",
      "epoch : 65 loss : 0.01249090913269255\n",
      "epoch : 66 loss : 0.012015888260470496\n",
      "epoch : 67 loss : 0.01176812251408895\n",
      "epoch : 68 loss : 0.010747758878601922\n",
      "epoch : 69 loss : 0.010059116615189446\n",
      "epoch : 70 loss : 0.009533235596285926\n",
      "epoch : 71 loss : 0.011237661043802897\n",
      "epoch : 72 loss : 0.011323169701629214\n",
      "epoch : 73 loss : 0.011349931359291077\n",
      "epoch : 74 loss : 0.011273076136906942\n",
      "epoch : 75 loss : 0.010610671506987678\n",
      "epoch : 76 loss : 0.010787333879205916\n",
      "epoch : 77 loss : 0.010178527898258634\n",
      "epoch : 78 loss : 0.011606681678030226\n",
      "epoch : 79 loss : 0.011049899790022109\n",
      "epoch : 80 loss : 0.010847037037213644\n",
      "Epoch 00082: reducing learning rate of group 0 to 1.0000e-03.\n",
      "epoch : 81 loss : 0.011712819337844849\n",
      "epoch : 82 loss : 0.011466218365563286\n",
      "epoch : 83 loss : 0.011231454710165659\n",
      "epoch : 84 loss : 0.010823869042926364\n",
      "epoch : 85 loss : 0.01150872806708018\n",
      "epoch : 86 loss : 0.010783124301168654\n",
      "epoch : 87 loss : 0.011028420594003465\n",
      "epoch : 88 loss : 0.010182354185316298\n",
      "epoch : 89 loss : 0.010229161216153039\n",
      "epoch : 90 loss : 0.010257494118478563\n",
      "epoch : 91 loss : 0.01007170064581765\n",
      "Epoch 00093: reducing learning rate of group 0 to 1.0000e-04.\n",
      "epoch : 92 loss : 0.01045065787103441\n",
      "epoch : 93 loss : 0.00946852895948622\n",
      "epoch : 94 loss : 0.010148737165662978\n",
      "epoch : 95 loss : 0.009683883852428861\n",
      "epoch : 96 loss : 0.009796405831972757\n",
      "epoch : 97 loss : 0.009670211209191216\n",
      "epoch : 98 loss : 0.009713755713568794\n",
      "epoch : 99 loss : 0.009392522275447845\n",
      "epoch : 100 loss : 0.009807911184098985\n",
      "epoch : 101 loss : 0.009969580504629347\n",
      "epoch : 102 loss : 0.009462692671351962\n",
      "epoch : 103 loss : 0.009809328450096978\n",
      "epoch : 104 loss : 0.009961826933754815\n",
      "epoch : 105 loss : 0.0098433428340488\n",
      "epoch : 106 loss : 0.009728011157777574\n",
      "epoch : 107 loss : 0.009408247139718797\n",
      "epoch : 108 loss : 0.009047718511687385\n",
      "epoch : 109 loss : 0.009317157997025384\n",
      "epoch : 110 loss : 0.009303699764940474\n",
      "epoch : 111 loss : 0.009337620602713691\n",
      "epoch : 112 loss : 0.009239546126789518\n",
      "epoch : 113 loss : 0.009722231162918938\n",
      "epoch : 114 loss : 0.009695894188351102\n",
      "epoch : 115 loss : 0.009883346656958262\n",
      "epoch : 116 loss : 0.01010974496603012\n",
      "epoch : 117 loss : 0.009802904393937852\n",
      "epoch : 118 loss : 0.009866360161039565\n",
      "Epoch 00120: reducing learning rate of group 0 to 1.0000e-05.\n",
      "epoch : 119 loss : 0.009736219214068519\n",
      "epoch : 120 loss : 0.009447015821933746\n",
      "epoch : 121 loss : 0.009157407614919875\n",
      "epoch : 122 loss : 0.009157011906305948\n",
      "epoch : 123 loss : 0.009479425019688077\n",
      "epoch : 124 loss : 0.009213634663157992\n",
      "epoch : 125 loss : 0.009504523542192247\n",
      "epoch : 126 loss : 0.009195103413528867\n",
      "epoch : 127 loss : 0.009034054146872627\n",
      "epoch : 128 loss : 0.00942088332441118\n",
      "epoch : 129 loss : 0.009557690057489607\n",
      "epoch : 130 loss : 0.009349619348843893\n",
      "epoch : 131 loss : 0.009292633997069465\n",
      "epoch : 132 loss : 0.009875122043821547\n",
      "epoch : 133 loss : 0.010033534632788764\n",
      "epoch : 134 loss : 0.009738078547848595\n",
      "epoch : 135 loss : 0.009662782152493795\n",
      "epoch : 136 loss : 0.009645732740561167\n",
      "epoch : 137 loss : 0.009178062280019125\n",
      "Epoch 00139: reducing learning rate of group 0 to 1.0000e-06.\n",
      "epoch : 138 loss : 0.009776039255989922\n",
      "epoch : 139 loss : 0.009554435809453329\n",
      "epoch : 140 loss : 0.009616163041856553\n",
      "epoch : 141 loss : 0.009849000308248732\n",
      "epoch : 142 loss : 0.00957832568221622\n",
      "epoch : 143 loss : 0.009631769524680244\n",
      "epoch : 144 loss : 0.00958335730764601\n",
      "epoch : 145 loss : 0.009391503201590644\n",
      "epoch : 146 loss : 0.009119958513312869\n",
      "epoch : 147 loss : 0.009918721185790168\n",
      "epoch : 148 loss : 0.009405263596110873\n",
      "Epoch 00150: reducing learning rate of group 0 to 1.0000e-07.\n",
      "epoch : 149 loss : 0.009893169005711874\n",
      "epoch : 150 loss : 0.00939771036307017\n",
      "epoch : 151 loss : 0.00996114644739363\n",
      "epoch : 152 loss : 0.00934739824798372\n",
      "epoch : 153 loss : 0.009854990575048659\n",
      "epoch : 154 loss : 0.00969537678692076\n",
      "epoch : 155 loss : 0.00947512686252594\n",
      "epoch : 156 loss : 0.009298844469918145\n",
      "epoch : 157 loss : 0.009576247798071967\n",
      "epoch : 158 loss : 0.008994253973166147\n",
      "epoch : 159 loss : 0.010100533564885458\n",
      "epoch : 160 loss : 0.009519209464391073\n",
      "epoch : 161 loss : 0.009278769294420878\n",
      "epoch : 162 loss : 0.00936110234922833\n",
      "epoch : 163 loss : 0.009297271569569906\n",
      "epoch : 164 loss : 0.009121882418791452\n",
      "epoch : 165 loss : 0.009883614050017463\n",
      "epoch : 166 loss : 0.00960347635878457\n",
      "epoch : 167 loss : 0.009846640957726372\n",
      "epoch : 168 loss : 0.009579993784427643\n",
      "Epoch 00170: reducing learning rate of group 0 to 1.0000e-08.\n",
      "epoch : 169 loss : 0.009539709322982363\n",
      "epoch : 170 loss : 0.009766820404264662\n",
      "epoch : 171 loss : 0.009111581577195061\n",
      "epoch : 172 loss : 0.009394516547520956\n",
      "epoch : 173 loss : 0.00926318433549669\n",
      "epoch : 174 loss : 0.009117355777157677\n",
      "epoch : 175 loss : 0.008992713358667161\n",
      "epoch : 176 loss : 0.009406549235184988\n",
      "epoch : 177 loss : 0.009719784061113993\n",
      "epoch : 178 loss : 0.009339103268252479\n",
      "epoch : 179 loss : 0.009586067663298713\n",
      "epoch : 180 loss : 0.009433958265516493\n",
      "epoch : 181 loss : 0.009180929097864363\n",
      "epoch : 182 loss : 0.009999588131904602\n",
      "epoch : 183 loss : 0.00962884806924396\n",
      "epoch : 184 loss : 0.009673342108726501\n",
      "epoch : 185 loss : 0.009659841656684875\n",
      "epoch : 186 loss : 0.009723782539367676\n",
      "epoch : 187 loss : 0.009138913618193733\n",
      "epoch : 188 loss : 0.00926512148645189\n",
      "epoch : 189 loss : 0.009762151373757256\n",
      "epoch : 190 loss : 0.009474332961771224\n",
      "epoch : 191 loss : 0.009457802606953515\n",
      "epoch : 192 loss : 0.008947397271792093\n",
      "epoch : 193 loss : 0.009063887927267287\n",
      "epoch : 194 loss : 0.009329673316743638\n",
      "epoch : 195 loss : 0.009039383795526292\n",
      "epoch : 196 loss : 0.008879759245448642\n",
      "epoch : 197 loss : 0.009131406744321188\n",
      "epoch : 198 loss : 0.009311353166898092\n",
      "epoch : 199 loss : 0.009313669469621446\n",
      "epoch : 200 loss : 0.009635342491997613\n",
      "epoch : 201 loss : 0.009714639849132962\n",
      "epoch : 202 loss : 0.009030481179555258\n",
      "epoch : 203 loss : 0.00924948685699039\n",
      "epoch : 204 loss : 0.008823783861266242\n",
      "epoch : 205 loss : 0.008926701214578416\n",
      "epoch : 206 loss : 0.009056676593091752\n",
      "epoch : 207 loss : 0.009252238604757521\n",
      "epoch : 208 loss : 0.009527384406990476\n",
      "epoch : 209 loss : 0.009305126137203641\n",
      "epoch : 210 loss : 0.009518627491262224\n",
      "epoch : 211 loss : 0.009336011277304756\n",
      "epoch : 212 loss : 0.009648177358839247\n",
      "epoch : 213 loss : 0.009799750314818488\n",
      "epoch : 214 loss : 0.009913314547803666\n",
      "epoch : 215 loss : 0.009759686059421964\n",
      "epoch : 216 loss : 0.009327645103136698\n",
      "epoch : 217 loss : 0.009168742431534661\n",
      "epoch : 218 loss : 0.009721900026003519\n",
      "epoch : 219 loss : 0.009378602107365927\n",
      "epoch : 220 loss : 0.009787725077735053\n",
      "epoch : 221 loss : 0.009084646072652604\n",
      "epoch : 222 loss : 0.009223083655039469\n",
      "epoch : 223 loss : 0.009255301621225145\n",
      "epoch : 224 loss : 0.009405304988225302\n",
      "epoch : 225 loss : 0.009771527515517341\n",
      "epoch : 226 loss : 0.009863317012786865\n",
      "epoch : 227 loss : 0.00934885193904241\n",
      "epoch : 228 loss : 0.009083916743596395\n",
      "epoch : 229 loss : 0.009461584190527597\n",
      "epoch : 230 loss : 0.009792647427982755\n",
      "epoch : 231 loss : 0.009850023521317376\n",
      "epoch : 232 loss : 0.009937074449327257\n",
      "epoch : 233 loss : 0.009516285525427924\n",
      "epoch : 234 loss : 0.008964497182104323\n",
      "epoch : 235 loss : 0.009387920300165812\n",
      "epoch : 236 loss : 0.009587068524625566\n",
      "epoch : 237 loss : 0.009393774800830416\n",
      "epoch : 238 loss : 0.009223052197032504\n",
      "epoch : 239 loss : 0.009507702456580268\n",
      "epoch : 240 loss : 0.008801784780290391\n",
      "epoch : 241 loss : 0.009368956916862063\n",
      "epoch : 242 loss : 0.009601126114527384\n",
      "epoch : 243 loss : 0.00949020352628496\n",
      "epoch : 244 loss : 0.009886701073911455\n",
      "epoch : 245 loss : 0.00928830107053121\n",
      "epoch : 246 loss : 0.009089079168107774\n",
      "epoch : 247 loss : 0.009496746791733636\n",
      "epoch : 248 loss : 0.009464195205105675\n",
      "epoch : 249 loss : 0.009599331352445815\n"
     ]
    }
   ],
   "source": [
    "# Define the optimizer\n",
    "optimizer = optim.Adam(model.parameters(), lr=0.01)\n",
    "\n",
    "# Define the learning rate scheduler\n",
    "scheduler = lr_scheduler.ReduceLROnPlateau(optimizer, mode='min', factor=0.1, patience=10, verbose=True)\n",
    "\n",
    "# Training loop\n",
    "epochs = 250\n",
    "for epoch in range(epochs):\n",
    "\n",
    "    # Compute les embeddings\n",
    "\n",
    "    # Create an empty tensor to store the embeddings\n",
    "    embeddings = torch.empty((data.shape[0], embedded_dim))\n",
    "\n",
    "    total_loss = 0\n",
    "\n",
    "    for i in range(data.shape[0]):\n",
    "        sample = data[i]\n",
    "        embedded_sample = model(sample)\n",
    "        embeddings[i] = embedded_sample\n",
    "\n",
    "    distance_matrix = torch.cdist(embeddings, embeddings, p=2)\n",
    "\n",
    "    optimizer.zero_grad()\n",
    "    \n",
    "    # Compute la matrice de distance \n",
    "\n",
    "    loss = model.loss(distance_matrix, targets) \n",
    "    loss.backward()\n",
    "    total_loss += loss.item()\n",
    "    optimizer.step()\n",
    "\n",
    "    # Update the learning rate based on the validation loss\n",
    "    val_loss = total_loss / data.shape[0]\n",
    "    scheduler.step(val_loss)\n",
    "    print('epoch : '+str(epoch)+' loss : '+str(val_loss))\n"
   ]
  },
  {
   "cell_type": "code",
   "execution_count": 24,
   "metadata": {},
   "outputs": [
    {
     "data": {
      "image/png": "[encoded data removed]",
      "text/plain": [
       "<Figure size 432x288 with 1 Axes>"
      ]
     },
     "metadata": {
      "needs_background": "light"
     },
     "output_type": "display_data"
    }
   ],
   "source": [
    "import numpy as np\n",
    "import matplotlib.pyplot as plt\n",
    "from mpl_toolkits.mplot3d import Axes3D\n",
    "\n",
    "# Step 1: Encode the data using the trained model\n",
    "model.eval()  # Set the model to evaluation mode\n",
    "with torch.no_grad():\n",
    "    # Create an empty tensor to store the embeddings\n",
    "    embeddings = torch.empty((data.shape[0], embedded_dim))\n",
    "\n",
    "    total_loss = 0\n",
    "\n",
    "    for i in range(data.shape[0]):\n",
    "        sample = data[i]\n",
    "        embedded_sample = model(sample)\n",
    "        embeddings[i] = embedded_sample\n",
    "\n",
    "colors = []\n",
    "for i in range(len(normalized_df)):\n",
    "    if target_column[i] == 1:\n",
    "        colors.append('red')  # Corresponding sample in filtered_df has 'ICU' value set to 1\n",
    "    else:\n",
    "        colors.append('blue')  # Corresponding sample in filtered_df does not have 'ICU' value set to 1\n",
    "\n",
    "# Convert the embeddings tensor to a NumPy array\n",
    "latent_vectors = embeddings.numpy()\n",
    "\n",
    "# print(latent_vectors)\n",
    "\n",
    "# Step 2: Plot the latent vectors in a 3D scatter plot\n",
    "fig = plt.figure()\n",
    "ax = fig.add_subplot(111, projection='3d')\n",
    "\n",
    "# Plot all latent vectors\n",
    "ax.scatter(latent_vectors[:, 0], latent_vectors[:, 1], latent_vectors[:, 2], color=colors)\n",
    "\n",
    "# Set labels and title for the plot\n",
    "ax.set_xlabel('Latent 1')\n",
    "ax.set_ylabel('Latent 2')\n",
    "ax.set_zlabel('Latent 3')\n",
    "ax.set_title('Latent Space Visualization')\n",
    "\n",
    "# Show the plot\n",
    "plt.show()\n"
   ]
  },
  {
   "cell_type": "code",
   "execution_count": 25,
   "metadata": {},
   "outputs": [
    {
     "data": {
      "application/vnd.plotly.v1+json": {
       "config": {
        "plotlyServerURL": "https://plot.ly"
       },
       "data": [
        {
         "marker": {
          "color": [
           "blue",
           "blue",
           "blue",
           "blue",
           "blue",
           "red",
           "blue",
           "blue",
           "blue",
           "blue",
           "blue",
           "blue",
           "blue",
           "blue",
           "blue",
           "blue",
           "blue",
           "blue",
           "blue",
           "red",
           "blue",
           "red",
           "red",
           "blue",
           "red",
           "blue",
           "blue",
           "blue",
           "blue",
           "blue",
           "blue",
           "blue",
           "red",
           "red",
           "blue",
           "blue",
           "blue",
           "blue",
           "blue",
           "blue",
           "blue",
           "blue",
           "blue",
           "red",
           "red",
           "blue",
           "blue",
           "blue",
           "blue",
           "blue",
           "blue",
           "blue",
           "red",
           "blue",
           "red",
           "blue",
           "blue",
           "blue",
           "red",
           "red",
           "red",
           "blue",
           "blue",
           "blue",
           "blue",
           "blue",
           "blue",
           "blue",
           "blue",
           "blue",
           "blue",
           "blue"
          ],
          "opacity": 0.8,
          "size": 2
         },
         "mode": "markers",
         "type": "scatter3d",
         "x": [
          -0.02561834827065468,
          -0.025620734319090843,
          -0.02562166005373001,
          -0.02561361901462078,
          -0.025616666302084923,
          -0.025606799870729446,
          -0.025619875639677048,
          -0.025621121749281883,
          -0.02561880648136139,
          -0.025622237473726273,
          -0.025621382519602776,
          -0.025622189044952393,
          -0.02562176249921322,
          -0.025621578097343445,
          -0.02562101185321808,
          -0.02562149241566658,
          -0.025621043518185616,
          -0.02562156692147255,
          -0.025620482861995697,
          -0.02561079151928425,
          -0.025621460750699043,
          -0.025613952428102493,
          -0.02560819312930107,
          -0.025621863082051277,
          -0.025611169636249542,
          -0.025620795786380768,
          -0.025619598105549812,
          -0.02562033385038376,
          -0.025608668103814125,
          -0.02562009170651436,
          -0.025619246065616608,
          -0.02561938390135765,
          -0.025612380355596542,
          -0.02561134845018387,
          -0.025618571788072586,
          -0.02561851777136326,
          -0.025620775297284126,
          -0.025612156838178635,
          -0.025620583444833755,
          -0.025617223232984543,
          -0.025621289387345314,
          -0.02561911568045616,
          -0.025621557608246803,
          -0.025607559829950333,
          -0.025610869750380516,
          -0.02561781369149685,
          -0.025618689134716988,
          -0.02561379037797451,
          -0.025618920102715492,
          -0.025619836524128914,
          -0.025619633495807648,
          -0.02561817318201065,
          -0.025609401986002922,
          -0.02561470866203308,
          -0.02560882456600666,
          -0.025615325197577477,
          -0.025620143860578537,
          -0.02562306821346283,
          -0.025608854368329048,
          -0.02560996264219284,
          -0.025610430166125298,
          -0.02562202326953411,
          -0.02562219649553299,
          -0.025622110813856125,
          -0.025618769228458405,
          -0.025617578998208046,
          -0.02561786025762558,
          -0.025619491934776306,
          -0.025621777400374413,
          -0.025618629530072212,
          -0.025616955012083054,
          -0.025618955492973328
         ],
         "y": [
          0.0016771000809967518,
          0.0016807399224489927,
          0.0016821562312543392,
          0.0016698776744306087,
          0.0016745314933359623,
          0.0016594678163528442,
          0.001679430715739727,
          0.0016813322436064482,
          0.0016777985729277134,
          0.0016830344684422016,
          0.00168173061683774,
          0.0016829625237733126,
          0.001682310365140438,
          0.0016820307355374098,
          0.001681164838373661,
          0.0016818989533931017,
          0.0016812114045023918,
          0.0016820128075778484,
          0.001680357614532113,
          0.0016655621584504843,
          0.0016818512231111526,
          0.0016703864093869925,
          0.001661593560129404,
          0.0016824649646878242,
          0.0016661400441080332,
          0.001680833986029029,
          0.001679005566984415,
          0.0016801285091787577,
          0.001662317430600524,
          0.0016797613352537155,
          0.0016784688923507929,
          0.0016786796040832996,
          0.001667985925450921,
          0.0016664089635014534,
          0.0016774381510913372,
          0.001677357591688633,
          0.001680803019553423,
          0.0016676480881869793,
          0.0016805129125714302,
          0.0016753810923546553,
          0.0016815883573144674,
          0.0016782688908278942,
          0.0016819972079247236,
          0.0016606266144663095,
          0.0016656822990626097,
          0.0016762828454375267,
          0.001677617896348238,
          0.001670138444751501,
          0.0016779722645878792,
          0.001679371576756239,
          0.0016790602821856737,
          0.0016768313944339752,
          0.0016634403727948666,
          0.0016715421807020903,
          0.001662557478994131,
          0.0016724839806556702,
          0.0016798400320112705,
          0.0016843038611114025,
          0.0016626042779535055,
          0.0016642953269183636,
          0.0016650091856718063,
          0.0016827092040330172,
          0.0016829746309667826,
          0.0016828430816531181,
          0.0016777424607425928,
          0.001675924053415656,
          0.001676354557275772,
          0.0016788449138402939,
          0.001682334579527378,
          0.0016775266267359257,
          0.0016749706119298935,
          0.001678024884313345
         ],
         "z": [
          -0.0014935429207980633,
          -0.0014957762323319912,
          -0.0014966446906328201,
          -0.0014891130849719048,
          -0.0014919673558324575,
          -0.00148272723890841,
          -0.0014949727337807417,
          -0.0014961392153054476,
          -0.0014939719112589955,
          -0.0014971836935728788,
          -0.0014963834546506405,
          -0.0014971394557505846,
          -0.0014967392198741436,
          -0.0014965677401050925,
          -0.0014960371190682054,
          -0.0014964870642870665,
          -0.001496065640822053,
          -0.0014965571463108063,
          -0.0014955408405512571,
          -0.0014864656841382384,
          -0.0014964574947953224,
          -0.001489425776526332,
          -0.0014840310905128717,
          -0.0014968339819461107,
          -0.001486820401623845,
          -0.0014958336250856519,
          -0.0014947119634598494,
          -0.001495401025749743,
          -0.0014844757970422506,
          -0.0014951755292713642,
          -0.0014943827409297228,
          -0.001494512427598238,
          -0.0014879526570439339,
          -0.0014869861770421267,
          -0.0014937506057322025,
          -0.0014937010128051043,
          -0.0014958148822188377,
          -0.0014877449721097946,
          -0.0014956361846998334,
          -0.0014924892457202077,
          -0.0014962961431592703,
          -0.0014942614361643791,
          -0.001496547251008451,
          -0.00148343900218606,
          -0.0014865389093756676,
          -0.0014930416364222765,
          -0.0014938608510419726,
          -0.001489273039624095,
          -0.0014940784312784672,
          -0.0014949365286156535,
          -0.0014947460731491446,
          -0.0014933780767023563,
          -0.0014851635787636042,
          -0.0014901335816830397,
          -0.0014846230624243617,
          -0.0014907107688486576,
          -0.0014952244237065315,
          -0.00149796181358397,
          -0.001484651817008853,
          -0.0014856887282803655,
          -0.0014861265663057566,
          -0.0014969836920499802,
          -0.0014971463242545724,
          -0.0014970661140978336,
          -0.0014939368702471256,
          -0.001492821960709989,
          -0.0014930854085832834,
          -0.001494613941758871,
          -0.0014967542374506593,
          -0.0014938055537641048,
          -0.001492236740887165,
          -0.001494110794737935
         ]
        }
       ],
       "layout": {
        "scene": {
         "xaxis": {
          "title": {
           "text": "Latent 1"
          }
         },
         "yaxis": {
          "title": {
           "text": "Latent 2"
          }
         },
         "zaxis": {
          "title": {
           "text": "Latent 3"
          }
         }
        },
        "template": {
         "data": {
          "bar": [
           {
            "error_x": {
             "color": "#2a3f5f"
            },
            "error_y": {
             "color": "#2a3f5f"
            },
            "marker": {
             "line": {
              "color": "#E5ECF6",
              "width": 0.5
             },
             "pattern": {
              "fillmode": "overlay",
              "size": 10,
              "solidity": 0.2
             }
            },
            "type": "bar"
           }
          ],
          "barpolar": [
           {
            "marker": {
             "line": {
              "color": "#E5ECF6",
              "width": 0.5
             },
             "pattern": {
              "fillmode": "overlay",
              "size": 10,
              "solidity": 0.2
             }
            },
            "type": "barpolar"
           }
          ],
          "carpet": [
           {
            "aaxis": {
             "endlinecolor": "#2a3f5f",
             "gridcolor": "white",
             "linecolor": "white",
             "minorgridcolor": "white",
             "startlinecolor": "#2a3f5f"
            },
            "baxis": {
             "endlinecolor": "#2a3f5f",
             "gridcolor": "white",
             "linecolor": "white",
             "minorgridcolor": "white",
             "startlinecolor": "#2a3f5f"
            },
            "type": "carpet"
           }
          ],
          "choropleth": [
           {
            "colorbar": {
             "outlinewidth": 0,
             "ticks": ""
            },
            "type": "choropleth"
           }
          ],
          "contour": [
           {
            "colorbar": {
             "outlinewidth": 0,
             "ticks": ""
            },
            "colorscale": [
             [
              0,
              "#0d0887"
             ],
             [
              0.1111111111111111,
              "#46039f"
             ],
             [
              0.2222222222222222,
              "#7201a8"
             ],
             [
              0.3333333333333333,
              "#9c179e"
             ],
             [
              0.4444444444444444,
              "#bd3786"
             ],
             [
              0.5555555555555556,
              "#d8576b"
             ],
             [
              0.6666666666666666,
              "#ed7953"
             ],
             [
              0.7777777777777778,
              "#fb9f3a"
             ],
             [
              0.8888888888888888,
              "#fdca26"
             ],
             [
              1,
              "#f0f921"
             ]
            ],
            "type": "contour"
           }
          ],
          "contourcarpet": [
           {
            "colorbar": {
             "outlinewidth": 0,
             "ticks": ""
            },
            "type": "contourcarpet"
           }
          ],
          "heatmap": [
           {
            "colorbar": {
             "outlinewidth": 0,
             "ticks": ""
            },
            "colorscale": [
             [
              0,
              "#0d0887"
             ],
             [
              0.1111111111111111,
              "#46039f"
             ],
             [
              0.2222222222222222,
              "#7201a8"
             ],
             [
              0.3333333333333333,
              "#9c179e"
             ],
             [
              0.4444444444444444,
              "#bd3786"
             ],
             [
              0.5555555555555556,
              "#d8576b"
             ],
             [
              0.6666666666666666,
              "#ed7953"
             ],
             [
              0.7777777777777778,
              "#fb9f3a"
             ],
             [
              0.8888888888888888,
              "#fdca26"
             ],
             [
              1,
              "#f0f921"
             ]
            ],
            "type": "heatmap"
           }
          ],
          "heatmapgl": [
           {
            "colorbar": {
             "outlinewidth": 0,
             "ticks": ""
            },
            "colorscale": [
             [
              0,
              "#0d0887"
             ],
             [
              0.1111111111111111,
              "#46039f"
             ],
             [
              0.2222222222222222,
              "#7201a8"
             ],
             [
              0.3333333333333333,
              "#9c179e"
             ],
             [
              0.4444444444444444,
              "#bd3786"
             ],
             [
              0.5555555555555556,
              "#d8576b"
             ],
             [
              0.6666666666666666,
              "#ed7953"
             ],
             [
              0.7777777777777778,
              "#fb9f3a"
             ],
             [
              0.8888888888888888,
              "#fdca26"
             ],
             [
              1,
              "#f0f921"
             ]
            ],
            "type": "heatmapgl"
           }
          ],
          "histogram": [
           {
            "marker": {
             "pattern": {
              "fillmode": "overlay",
              "size": 10,
              "solidity": 0.2
             }
            },
            "type": "histogram"
           }
          ],
          "histogram2d": [
           {
            "colorbar": {
             "outlinewidth": 0,
             "ticks": ""
            },
            "colorscale": [
             [
              0,
              "#0d0887"
             ],
             [
              0.1111111111111111,
              "#46039f"
             ],
             [
              0.2222222222222222,
              "#7201a8"
             ],
             [
              0.3333333333333333,
              "#9c179e"
             ],
             [
              0.4444444444444444,
              "#bd3786"
             ],
             [
              0.5555555555555556,
              "#d8576b"
             ],
             [
              0.6666666666666666,
              "#ed7953"
             ],
             [
              0.7777777777777778,
              "#fb9f3a"
             ],
             [
              0.8888888888888888,
              "#fdca26"
             ],
             [
              1,
              "#f0f921"
             ]
            ],
            "type": "histogram2d"
           }
          ],
          "histogram2dcontour": [
           {
            "colorbar": {
             "outlinewidth": 0,
             "ticks": ""
            },
            "colorscale": [
             [
              0,
              "#0d0887"
             ],
             [
              0.1111111111111111,
              "#46039f"
             ],
             [
              0.2222222222222222,
              "#7201a8"
             ],
             [
              0.3333333333333333,
              "#9c179e"
             ],
             [
              0.4444444444444444,
              "#bd3786"
             ],
             [
              0.5555555555555556,
              "#d8576b"
             ],
             [
              0.6666666666666666,
              "#ed7953"
             ],
             [
              0.7777777777777778,
              "#fb9f3a"
             ],
             [
              0.8888888888888888,
              "#fdca26"
             ],
             [
              1,
              "#f0f921"
             ]
            ],
            "type": "histogram2dcontour"
           }
          ],
          "mesh3d": [
           {
            "colorbar": {
             "outlinewidth": 0,
             "ticks": ""
            },
            "type": "mesh3d"
           }
          ],
          "parcoords": [
           {
            "line": {
             "colorbar": {
              "outlinewidth": 0,
              "ticks": ""
             }
            },
            "type": "parcoords"
           }
          ],
          "pie": [
           {
            "automargin": true,
            "type": "pie"
           }
          ],
          "scatter": [
           {
            "fillpattern": {
             "fillmode": "overlay",
             "size": 10,
             "solidity": 0.2
            },
            "type": "scatter"
           }
          ],
          "scatter3d": [
           {
            "line": {
             "colorbar": {
              "outlinewidth": 0,
              "ticks": ""
             }
            },
            "marker": {
             "colorbar": {
              "outlinewidth": 0,
              "ticks": ""
             }
            },
            "type": "scatter3d"
           }
          ],
          "scattercarpet": [
           {
            "marker": {
             "colorbar": {
              "outlinewidth": 0,
              "ticks": ""
             }
            },
            "type": "scattercarpet"
           }
          ],
          "scattergeo": [
           {
            "marker": {
             "colorbar": {
              "outlinewidth": 0,
              "ticks": ""
             }
            },
            "type": "scattergeo"
           }
          ],
          "scattergl": [
           {
            "marker": {
             "colorbar": {
              "outlinewidth": 0,
              "ticks": ""
             }
            },
            "type": "scattergl"
           }
          ],
          "scattermapbox": [
           {
            "marker": {
             "colorbar": {
              "outlinewidth": 0,
              "ticks": ""
             }
            },
            "type": "scattermapbox"
           }
          ],
          "scatterpolar": [
           {
            "marker": {
             "colorbar": {
              "outlinewidth": 0,
              "ticks": ""
             }
            },
            "type": "scatterpolar"
           }
          ],
          "scatterpolargl": [
           {
            "marker": {
             "colorbar": {
              "outlinewidth": 0,
              "ticks": ""
             }
            },
            "type": "scatterpolargl"
           }
          ],
          "scatterternary": [
           {
            "marker": {
             "colorbar": {
              "outlinewidth": 0,
              "ticks": ""
             }
            },
            "type": "scatterternary"
           }
          ],
          "surface": [
           {
            "colorbar": {
             "outlinewidth": 0,
             "ticks": ""
            },
            "colorscale": [
             [
              0,
              "#0d0887"
             ],
             [
              0.1111111111111111,
              "#46039f"
             ],
             [
              0.2222222222222222,
              "#7201a8"
             ],
             [
              0.3333333333333333,
              "#9c179e"
             ],
             [
              0.4444444444444444,
              "#bd3786"
             ],
             [
              0.5555555555555556,
              "#d8576b"
             ],
             [
              0.6666666666666666,
              "#ed7953"
             ],
             [
              0.7777777777777778,
              "#fb9f3a"
             ],
             [
              0.8888888888888888,
              "#fdca26"
             ],
             [
              1,
              "#f0f921"
             ]
            ],
            "type": "surface"
           }
          ],
          "table": [
           {
            "cells": {
             "fill": {
              "color": "#EBF0F8"
             },
             "line": {
              "color": "white"
             }
            },
            "header": {
             "fill": {
              "color": "#C8D4E3"
             },
             "line": {
              "color": "white"
             }
            },
            "type": "table"
           }
          ]
         },
         "layout": {
          "annotationdefaults": {
           "arrowcolor": "#2a3f5f",
           "arrowhead": 0,
           "arrowwidth": 1
          },
          "autotypenumbers": "strict",
          "coloraxis": {
           "colorbar": {
            "outlinewidth": 0,
            "ticks": ""
           }
          },
          "colorscale": {
           "diverging": [
            [
             0,
             "#8e0152"
            ],
            [
             0.1,
             "#c51b7d"
            ],
            [
             0.2,
             "#de77ae"
            ],
            [
             0.3,
             "#f1b6da"
            ],
            [
             0.4,
             "#fde0ef"
            ],
            [
             0.5,
             "#f7f7f7"
            ],
            [
             0.6,
             "#e6f5d0"
            ],
            [
             0.7,
             "#b8e186"
            ],
            [
             0.8,
             "#7fbc41"
            ],
            [
             0.9,
             "#4d9221"
            ],
            [
             1,
             "#276419"
            ]
           ],
           "sequential": [
            [
             0,
             "#0d0887"
            ],
            [
             0.1111111111111111,
             "#46039f"
            ],
            [
             0.2222222222222222,
             "#7201a8"
            ],
            [
             0.3333333333333333,
             "#9c179e"
            ],
            [
             0.4444444444444444,
             "#bd3786"
            ],
            [
             0.5555555555555556,
             "#d8576b"
            ],
            [
             0.6666666666666666,
             "#ed7953"
            ],
            [
             0.7777777777777778,
             "#fb9f3a"
            ],
            [
             0.8888888888888888,
             "#fdca26"
            ],
            [
             1,
             "#f0f921"
            ]
           ],
           "sequentialminus": [
            [
             0,
             "#0d0887"
            ],
            [
             0.1111111111111111,
             "#46039f"
            ],
            [
             0.2222222222222222,
             "#7201a8"
            ],
            [
             0.3333333333333333,
             "#9c179e"
            ],
            [
             0.4444444444444444,
             "#bd3786"
            ],
            [
             0.5555555555555556,
             "#d8576b"
            ],
            [
             0.6666666666666666,
             "#ed7953"
            ],
            [
             0.7777777777777778,
             "#fb9f3a"
            ],
            [
             0.8888888888888888,
             "#fdca26"
            ],
            [
             1,
             "#f0f921"
            ]
           ]
          },
          "colorway": [
           "#636efa",
           "#EF553B",
           "#00cc96",
           "#ab63fa",
           "#FFA15A",
           "#19d3f3",
           "#FF6692",
           "#B6E880",
           "#FF97FF",
           "#FECB52"
          ],
          "font": {
           "color": "#2a3f5f"
          },
          "geo": {
           "bgcolor": "white",
           "lakecolor": "white",
           "landcolor": "#E5ECF6",
           "showlakes": true,
           "showland": true,
           "subunitcolor": "white"
          },
          "hoverlabel": {
           "align": "left"
          },
          "hovermode": "closest",
          "mapbox": {
           "style": "light"
          },
          "paper_bgcolor": "white",
          "plot_bgcolor": "#E5ECF6",
          "polar": {
           "angularaxis": {
            "gridcolor": "white",
            "linecolor": "white",
            "ticks": ""
           },
           "bgcolor": "#E5ECF6",
           "radialaxis": {
            "gridcolor": "white",
            "linecolor": "white",
            "ticks": ""
           }
          },
          "scene": {
           "xaxis": {
            "backgroundcolor": "#E5ECF6",
            "gridcolor": "white",
            "gridwidth": 2,
            "linecolor": "white",
            "showbackground": true,
            "ticks": "",
            "zerolinecolor": "white"
           },
           "yaxis": {
            "backgroundcolor": "#E5ECF6",
            "gridcolor": "white",
            "gridwidth": 2,
            "linecolor": "white",
            "showbackground": true,
            "ticks": "",
            "zerolinecolor": "white"
           },
           "zaxis": {
            "backgroundcolor": "#E5ECF6",
            "gridcolor": "white",
            "gridwidth": 2,
            "linecolor": "white",
            "showbackground": true,
            "ticks": "",
            "zerolinecolor": "white"
           }
          },
          "shapedefaults": {
           "line": {
            "color": "#2a3f5f"
           }
          },
          "ternary": {
           "aaxis": {
            "gridcolor": "white",
            "linecolor": "white",
            "ticks": ""
           },
           "baxis": {
            "gridcolor": "white",
            "linecolor": "white",
            "ticks": ""
           },
           "bgcolor": "#E5ECF6",
           "caxis": {
            "gridcolor": "white",
            "linecolor": "white",
            "ticks": ""
           }
          },
          "title": {
           "x": 0.05
          },
          "xaxis": {
           "automargin": true,
           "gridcolor": "white",
           "linecolor": "white",
           "ticks": "",
           "title": {
            "standoff": 15
           },
           "zerolinecolor": "white",
           "zerolinewidth": 2
          },
          "yaxis": {
           "automargin": true,
           "gridcolor": "white",
           "linecolor": "white",
           "ticks": "",
           "title": {
            "standoff": 15
           },
           "zerolinecolor": "white",
           "zerolinewidth": 2
          }
         }
        },
        "title": {
         "text": "Latent Space Visualization"
        }
       }
      }
     },
     "metadata": {},
     "output_type": "display_data"
    }
   ],
   "source": [
    "import numpy as np\n",
    "import matplotlib.pyplot as plt\n",
    "import plotly.graph_objects as go\n",
    "\n",
    "# Step 1: Encode the data using the trained model\n",
    "model.eval()  # Set the model to evaluation mode\n",
    "with torch.no_grad():\n",
    "    # Create an empty tensor to store the embeddings\n",
    "    embeddings = torch.empty((data.shape[0], embedded_dim))\n",
    "\n",
    "    total_loss = 0\n",
    "\n",
    "    for i in range(data.shape[0]):\n",
    "        sample = data[i]\n",
    "        embedded_sample = model(sample)\n",
    "        embeddings[i] = embedded_sample\n",
    "\n",
    "colors = []\n",
    "for i in range(len(normalized_df)):\n",
    "    if target_column[i] == 1:\n",
    "        colors.append('red')  # Corresponding sample in filtered_df has 'ICU' value set to 1\n",
    "    else:\n",
    "        colors.append('blue')  # Corresponding sample in filtered_df does not have 'ICU' value set to 1\n",
    "\n",
    "# Convert the embeddings tensor to a NumPy array\n",
    "latent_vectors = embeddings.numpy()\n",
    "\n",
    "# Step 2: Create a 3D scatter plot using Plotly\n",
    "fig = go.Figure(data=[go.Scatter3d(\n",
    "    x=latent_vectors[:, 0],\n",
    "    y=latent_vectors[:, 1],\n",
    "    z=latent_vectors[:, 2],\n",
    "    mode='markers',\n",
    "    marker=dict(\n",
    "        size=2,\n",
    "        color=colors,\n",
    "        opacity=0.8\n",
    "    )\n",
    ")])\n",
    "\n",
    "# Set the layout for the plot\n",
    "fig.update_layout(\n",
    "    scene=dict(\n",
    "        xaxis=dict(title='Latent 1'),\n",
    "        yaxis=dict(title='Latent 2'),\n",
    "        zaxis=dict(title='Latent 3')\n",
    "    ),\n",
    "    title='Latent Space Visualization'\n",
    ")\n",
    "\n",
    "# Display the plot\n",
    "fig.show()\n",
    "\n",
    "# Save the plot as an HTML file\n",
    "fig.write_html('visualization.html')\n"
   ]
  },
  {
   "cell_type": "code",
   "execution_count": 26,
   "metadata": {},
   "outputs": [
    {
     "data": {
      "image/png": "[encoded data removed]",
      "text/plain": [
       "<Figure size 576x576 with 1 Axes>"
      ]
     },
     "metadata": {},
     "output_type": "display_data"
    }
   ],
   "source": [
    "import pandas as pd\n",
    "import numpy as np\n",
    "import networkx as nx\n",
    "import matplotlib.pyplot as plt\n",
    "\n",
    "# Assuming your dataset is stored in a DataFrame called 'df'\n",
    "# Assuming the filtered dataset with the \"ICU\" feature is stored in a DataFrame called 'filtered_df'\n",
    "# Assuming the correlations are stored in a dictionary called 'correlations_dict'\n",
    "\n",
    "# Compute weighted distance between two samples in the DataFrame\n",
    "def compute_distance(df, index1, index2):\n",
    "    sample1 = df.iloc[index1].values\n",
    "    sample2 = df.iloc[index2].values\n",
    "    weighted_distance = 0\n",
    "    \n",
    "    for i in range(len(sample1)):\n",
    "        weighted_distance += abs(sample1[i] - sample2[i])\n",
    "    \n",
    "    return weighted_distance\n",
    "\n",
    "# Step 1: Find pairwise weighted distances\n",
    "dist_matrix = np.zeros((normalized_df.shape[0], normalized_df.shape[0]))\n",
    "\n",
    "for i in range(normalized_df.shape[0]):\n",
    "    for j in range(i + 1, normalized_df.shape[0]):\n",
    "        weighted_dist = compute_distance(normalized_df, i, j)\n",
    "        dist_matrix[i, j] = weighted_dist\n",
    "        dist_matrix[j, i] = weighted_dist\n",
    "\n",
    "# Check distances set to 0 outside diagonal\n",
    "# for i in range(dist_matrix.shape[0]):\n",
    "#     for j in range(dist_matrix.shape[1]):\n",
    "#         if i != j and dist_matrix[i, j] == 0:\n",
    "#             print(f\"Distance between points {i} and {j} is set to 0.\")\n",
    "\n",
    "\n",
    "# Step 2: Find k nearest neighbors for each sample\n",
    "k = 2  # Number of nearest neighbors\n",
    "n_neighbors = []\n",
    "\n",
    "for i in range(dist_matrix.shape[0]):\n",
    "    neighbors = np.argsort(dist_matrix[i])\n",
    "    \n",
    "    # Find neighbors with distance equal to 0\n",
    "    zero_distance_neighbors = [neighbor for neighbor in neighbors if dist_matrix[i, neighbor] == 0]\n",
    "    \n",
    "    # Find additional nearest neighbors with distance > 0\n",
    "    additional_neighbors = [neighbor for neighbor in neighbors if dist_matrix[i, neighbor] > 0][:k]\n",
    "    \n",
    "    neighbors_list = zero_distance_neighbors + additional_neighbors\n",
    "    n_neighbors.append(neighbors_list)\n",
    "\n",
    "# nearest_neighbors = np.argsort(dist_matrix, axis=1)[:, 1:(k+1)]\n",
    "\n",
    "\n",
    "# print(nearest_neighbors)\n",
    "\n",
    "# Step 3: Create graph and add edges\n",
    "graph = nx.Graph()\n",
    "for i, neighbors in enumerate(n_neighbors):\n",
    "    for neighbor in neighbors:\n",
    "        if (i != neighbor) :\n",
    "            graph.add_edge(i, neighbor)\n",
    "\n",
    "# Step 4: Add nodes with color based on 'ICU' feature\n",
    "for i in range(filtered_df.shape[0]):\n",
    "    icu_value = filtered_df.iloc[i]['ICU']\n",
    "    color = 'red' if icu_value == 1 else 'blue'\n",
    "    graph.add_node(i, color=color)\n",
    "\n",
    "# Step 5: Plot the graph\n",
    "plt.figure(figsize=(8, 8))\n",
    "pos = nx.spring_layout(graph)\n",
    "node_colors = [graph.nodes[node]['color'] for node in graph.nodes]\n",
    "nx.draw(graph, pos, with_labels=True, node_color=node_colors, node_size=500, font_size=10, edge_color='gray')\n",
    "plt.axis(\"off\")\n",
    "plt.show()\n"
   ]
  },
  {
   "attachments": {},
   "cell_type": "markdown",
   "metadata": {},
   "source": [
    "***Comparison with initial database***"
   ]
  },
  {
   "cell_type": "code",
   "execution_count": 27,
   "metadata": {},
   "outputs": [],
   "source": [
    "# Set the input and embedded dimensions\n",
    "input_dim2 = predictive_df.shape[1]\n",
    "embedded_dim2 = 3\n",
    "\n",
    "# Create an instance of the network\n",
    "model2 = Net(input_dim2, embedded_dim2)"
   ]
  },
  {
   "cell_type": "code",
   "execution_count": 28,
   "metadata": {},
   "outputs": [],
   "source": [
    "# # Define the loss function\n",
    "# def model_loss(distance_matrix, targets, lambda_reg = 10.0):\n",
    "\n",
    "#     pospos_sum_dist = 0\n",
    "#     pospos_sum_count = 0\n",
    "\n",
    "#     posneg_sum_dist = 0\n",
    "#     posneg_sum_count = 0\n",
    "    \n",
    "#     negneg_sum_dist = 0\n",
    "#     negneg_sum_count = 0\n",
    "\n",
    "#     # print(distance_matrix)\n",
    "\n",
    "#     max_dist = torch.max(distance_matrix)\n",
    "\n",
    "#     for i in range(len(distance_matrix)) : \n",
    "#         for j in range(i+1, len(distance_matrix)) : \n",
    "#             if targets[i] == 1 or targets[j] == 1 : \n",
    "#                 if targets[i] == 1 and targets[j] == 1 : #pos pos\n",
    "#                     pospos_sum_dist += distance_matrix[i][j]\n",
    "#                     pospos_sum_count += 1 \n",
    "#                 else : # pos/neg ou neg/pos\n",
    "#                     posneg_sum_dist += distance_matrix[i][j]\n",
    "#                     posneg_sum_count += 1 \n",
    "#             else :\n",
    "#                 negneg_sum_dist += distance_matrix[i][j]  \n",
    "#                 negneg_sum_count += 1  \n",
    "    \n",
    "#     avg_pospos = pospos_sum_dist/pospos_sum_count\n",
    "#     avg_negneg = negneg_sum_dist/negneg_sum_count\n",
    "#     avg_posneg = posneg_sum_dist/posneg_sum_count\n",
    "\n",
    "#     # avg pos pos + avg neg neg - avg pos neg + max dist (so it stays positive)\n",
    "#     distance_loss = (avg_pospos + avg_negneg) / (2*avg_posneg)\n",
    "    \n",
    "#     regularization_loss = 0\n",
    "#     for param in model2.parameters():\n",
    "#         regularization_loss += torch.sum(torch.square(param))\n",
    "\n",
    "#     # print('distance_loss ='+str(distance_loss))\n",
    "#     # print('lambda_reg * regularization_loss ='+str(lambda_reg * regularization_loss))\n",
    "#     return distance_loss + lambda_reg * regularization_loss"
   ]
  },
  {
   "cell_type": "code",
   "execution_count": 29,
   "metadata": {},
   "outputs": [
    {
     "name": "stdout",
     "output_type": "stream",
     "text": [
      "epoch : 0 loss : 5.347757975260417\n",
      "epoch : 1 loss : 4.218629201253255\n",
      "epoch : 2 loss : 3.268060472276476\n",
      "epoch : 3 loss : 2.486259036593967\n",
      "epoch : 4 loss : 1.856039047241211\n",
      "epoch : 5 loss : 1.3587219450208876\n",
      "epoch : 6 loss : 0.9776579538981119\n",
      "epoch : 7 loss : 0.6965986887613932\n",
      "epoch : 8 loss : 0.49851258595784503\n",
      "epoch : 9 loss : 0.3669416904449463\n",
      "epoch : 10 loss : 0.28704725371466744\n",
      "epoch : 11 loss : 0.24580208460489908\n",
      "epoch : 12 loss : 0.23228496975368923\n",
      "epoch : 13 loss : 0.2360786067114936\n",
      "epoch : 14 loss : 0.2489702966478136\n",
      "epoch : 15 loss : 0.2645404603746202\n",
      "epoch : 16 loss : 0.2782364421420627\n",
      "epoch : 17 loss : 0.2875000370873345\n",
      "epoch : 18 loss : 0.290557066599528\n",
      "epoch : 19 loss : 0.28675492604573566\n",
      "epoch : 20 loss : 0.27637259165445965\n",
      "epoch : 21 loss : 0.2605645391676161\n",
      "epoch : 22 loss : 0.24031562275356716\n",
      "epoch : 23 loss : 0.21695906586117214\n",
      "epoch : 24 loss : 0.19345596101548937\n",
      "epoch : 25 loss : 0.16900339391496447\n",
      "epoch : 26 loss : 0.14614767498440212\n",
      "epoch : 27 loss : 0.12523161040412056\n",
      "epoch : 28 loss : 0.10673867331610785\n",
      "epoch : 29 loss : 0.09103956487443712\n",
      "epoch : 30 loss : 0.07895106739468044\n",
      "epoch : 31 loss : 0.06956001122792561\n",
      "epoch : 32 loss : 0.06277320782343547\n",
      "epoch : 33 loss : 0.058077467812432185\n",
      "epoch : 34 loss : 0.05477584732903375\n",
      "epoch : 35 loss : 0.053006278143988714\n",
      "epoch : 36 loss : 0.051865349213282265\n",
      "epoch : 37 loss : 0.05096075932184855\n",
      "epoch : 38 loss : 0.04989456799295214\n",
      "epoch : 39 loss : 0.048488246070014104\n",
      "epoch : 40 loss : 0.04674736658732096\n",
      "epoch : 41 loss : 0.04470770888858371\n",
      "epoch : 42 loss : 0.0424414508872562\n",
      "epoch : 43 loss : 0.03998647133509318\n",
      "epoch : 44 loss : 0.03741235203213162\n",
      "epoch : 45 loss : 0.03477270073360867\n",
      "epoch : 46 loss : 0.032162881559795804\n",
      "epoch : 47 loss : 0.029689212640126545\n",
      "epoch : 48 loss : 0.027387042840321858\n",
      "epoch : 49 loss : 0.02558931873904334\n",
      "epoch : 50 loss : 0.02407104108068678\n",
      "epoch : 51 loss : 0.02270684474044376\n",
      "epoch : 52 loss : 0.021749812695715163\n",
      "epoch : 53 loss : 0.020751153429349262\n",
      "epoch : 54 loss : 0.020825674136479694\n",
      "epoch : 55 loss : 0.02094417479303148\n",
      "epoch : 56 loss : 0.021066437164942425\n",
      "epoch : 57 loss : 0.02101728320121765\n",
      "epoch : 58 loss : 0.020780444145202637\n",
      "epoch : 59 loss : 0.020402906669510737\n",
      "epoch : 60 loss : 0.02016663882467482\n",
      "epoch : 61 loss : 0.020584440893597074\n",
      "epoch : 62 loss : 0.022406422429614596\n",
      "epoch : 63 loss : 0.024548398123847112\n",
      "epoch : 64 loss : 0.02634513047006395\n",
      "epoch : 65 loss : 0.027485628922780354\n",
      "epoch : 66 loss : 0.027918838792377047\n",
      "epoch : 67 loss : 0.027724140220218234\n",
      "epoch : 68 loss : 0.027031875318951078\n",
      "epoch : 69 loss : 0.025990022553337946\n",
      "epoch : 70 loss : 0.024749679697884455\n",
      "Epoch 00072: reducing learning rate of group 0 to 1.0000e-03.\n",
      "epoch : 71 loss : 0.023446477121777005\n",
      "epoch : 72 loss : 0.022177378336588543\n",
      "epoch : 73 loss : 0.022035476234224107\n",
      "epoch : 74 loss : 0.02185720205307007\n",
      "epoch : 75 loss : 0.021648238102595013\n",
      "epoch : 76 loss : 0.021414387557241652\n",
      "epoch : 77 loss : 0.021161402265230816\n",
      "epoch : 78 loss : 0.020894704593552485\n",
      "epoch : 79 loss : 0.020619206958346896\n",
      "epoch : 80 loss : 0.02033919095993042\n",
      "epoch : 81 loss : 0.02005841334660848\n",
      "epoch : 82 loss : 0.01977977156639099\n",
      "epoch : 83 loss : 0.019505585233370464\n",
      "epoch : 84 loss : 0.01923756135834588\n",
      "epoch : 85 loss : 0.018976400295893352\n",
      "epoch : 86 loss : 0.018721060620413885\n",
      "epoch : 87 loss : 0.01845671236515045\n",
      "epoch : 88 loss : 0.018234216504626803\n",
      "epoch : 89 loss : 0.017986524436208937\n",
      "epoch : 90 loss : 0.017770674493577745\n",
      "epoch : 91 loss : 0.01755647361278534\n",
      "epoch : 92 loss : 0.017339254419008892\n",
      "epoch : 93 loss : 0.01713515321413676\n",
      "epoch : 94 loss : 0.016836305459340412\n",
      "epoch : 95 loss : 0.016523162523905437\n",
      "epoch : 96 loss : 0.01630902455912696\n",
      "epoch : 97 loss : 0.01606855458683438\n",
      "epoch : 98 loss : 0.015987868110338848\n",
      "epoch : 99 loss : 0.01587315731578403\n",
      "epoch : 100 loss : 0.015797656443383958\n",
      "epoch : 101 loss : 0.015613827440473769\n",
      "epoch : 102 loss : 0.015613949961132474\n",
      "epoch : 103 loss : 0.015592247247695923\n",
      "epoch : 104 loss : 0.015651411480373807\n",
      "epoch : 105 loss : 0.0156776358683904\n",
      "epoch : 106 loss : 0.015647247433662415\n",
      "epoch : 107 loss : 0.015555711256133186\n",
      "epoch : 108 loss : 0.015418430169423422\n",
      "epoch : 109 loss : 0.015308449665705362\n",
      "epoch : 110 loss : 0.015235463778177897\n",
      "epoch : 111 loss : 0.015192704068289863\n",
      "epoch : 112 loss : 0.01513843403922187\n",
      "epoch : 113 loss : 0.015090006921026442\n",
      "epoch : 114 loss : 0.01503767900996738\n",
      "epoch : 115 loss : 0.014977854159143236\n",
      "epoch : 116 loss : 0.014919532669915093\n",
      "epoch : 117 loss : 0.014826925264464485\n",
      "epoch : 118 loss : 0.014763409892717997\n",
      "epoch : 119 loss : 0.014705028798845079\n",
      "epoch : 120 loss : 0.014641924036873711\n",
      "epoch : 121 loss : 0.014568623569276597\n",
      "epoch : 122 loss : 0.014487428797615899\n",
      "epoch : 123 loss : 0.0144162161482705\n",
      "epoch : 124 loss : 0.014460954401228163\n",
      "epoch : 125 loss : 0.014343940549426608\n",
      "epoch : 126 loss : 0.014266853531201681\n",
      "epoch : 127 loss : 0.014227383666568331\n",
      "epoch : 128 loss : 0.01417000757323371\n",
      "epoch : 129 loss : 0.014092384113205804\n",
      "epoch : 130 loss : 0.014083767930666605\n",
      "epoch : 131 loss : 0.014008455806308322\n",
      "epoch : 132 loss : 0.013971688018904792\n",
      "epoch : 133 loss : 0.013948566383785672\n",
      "epoch : 134 loss : 0.013877727091312408\n",
      "epoch : 135 loss : 0.013784596489535438\n",
      "epoch : 136 loss : 0.013789135548803542\n",
      "epoch : 137 loss : 0.013579492767651876\n",
      "epoch : 138 loss : 0.014669022626347013\n",
      "epoch : 139 loss : 0.014553435974650912\n",
      "epoch : 140 loss : 0.014339077803823683\n",
      "epoch : 141 loss : 0.013631457255946266\n",
      "epoch : 142 loss : 0.01329428619808621\n",
      "epoch : 143 loss : 0.014050693975554572\n",
      "epoch : 144 loss : 0.013525415625837114\n",
      "epoch : 145 loss : 0.013674341142177582\n",
      "epoch : 146 loss : 0.01375637369023429\n",
      "epoch : 147 loss : 0.013741831812593672\n",
      "epoch : 148 loss : 0.013678387635284\n",
      "epoch : 149 loss : 0.013673205342557695\n",
      "epoch : 150 loss : 0.013637520372867584\n",
      "epoch : 151 loss : 0.0135881793167856\n",
      "epoch : 152 loss : 0.013645612531238131\n",
      "Epoch 00154: reducing learning rate of group 0 to 1.0000e-04.\n",
      "epoch : 153 loss : 0.013533697360091738\n",
      "epoch : 154 loss : 0.013511141141255697\n",
      "epoch : 155 loss : 0.013504306475321451\n",
      "epoch : 156 loss : 0.013491533696651459\n",
      "epoch : 157 loss : 0.013470486634307437\n",
      "epoch : 158 loss : 0.01344329532649782\n",
      "epoch : 159 loss : 0.013404280775123172\n",
      "epoch : 160 loss : 0.013363720642195808\n",
      "epoch : 161 loss : 0.01330804576476415\n",
      "epoch : 162 loss : 0.013313649429215325\n",
      "epoch : 163 loss : 0.013303474419646792\n",
      "epoch : 164 loss : 0.013283155030674405\n",
      "epoch : 165 loss : 0.013299057053195106\n",
      "epoch : 166 loss : 0.013280785746044584\n",
      "epoch : 167 loss : 0.013242257138093313\n",
      "epoch : 168 loss : 0.013246330949995253\n",
      "epoch : 169 loss : 0.013253056340747409\n",
      "epoch : 170 loss : 0.013245167003737556\n",
      "epoch : 171 loss : 0.013214706546730466\n",
      "epoch : 172 loss : 0.013162731296486326\n",
      "epoch : 173 loss : 0.013129747576183744\n",
      "epoch : 174 loss : 0.013160953919092814\n",
      "epoch : 175 loss : 0.01316556582848231\n",
      "epoch : 176 loss : 0.013128519058227539\n",
      "epoch : 177 loss : 0.013109397557046678\n",
      "epoch : 178 loss : 0.013125874102115631\n",
      "epoch : 179 loss : 0.013127809597386254\n",
      "epoch : 180 loss : 0.013115380373266008\n",
      "epoch : 181 loss : 0.013096745643350814\n",
      "epoch : 182 loss : 0.013095341622829437\n",
      "epoch : 183 loss : 0.013097131417857276\n",
      "epoch : 184 loss : 0.013081418143378364\n",
      "epoch : 185 loss : 0.01308540917105145\n",
      "epoch : 186 loss : 0.013074003987842135\n",
      "epoch : 187 loss : 0.01307335744301478\n",
      "epoch : 188 loss : 0.013075743284490373\n",
      "epoch : 189 loss : 0.013069315916962095\n",
      "epoch : 190 loss : 0.013065448237790002\n",
      "epoch : 191 loss : 0.01306033217244678\n",
      "epoch : 192 loss : 0.01306146134932836\n",
      "epoch : 193 loss : 0.013058642546335856\n",
      "epoch : 194 loss : 0.013053749998410543\n",
      "epoch : 195 loss : 0.013049310280217065\n",
      "epoch : 196 loss : 0.013050420416726006\n",
      "epoch : 197 loss : 0.013050558666388193\n",
      "epoch : 198 loss : 0.013044087423218621\n",
      "epoch : 199 loss : 0.013038556608888838\n",
      "epoch : 200 loss : 0.013036909202734629\n",
      "epoch : 201 loss : 0.013033413224750094\n",
      "epoch : 202 loss : 0.013026913007100424\n",
      "epoch : 203 loss : 0.013025608327653673\n",
      "epoch : 204 loss : 0.013018358084890578\n",
      "epoch : 205 loss : 0.013025828533702426\n",
      "epoch : 206 loss : 0.013022612366411421\n",
      "epoch : 207 loss : 0.0130119522412618\n",
      "epoch : 208 loss : 0.01301092074977027\n",
      "epoch : 209 loss : 0.013013128605153825\n",
      "epoch : 210 loss : 0.013006722761525048\n",
      "epoch : 211 loss : 0.013023578458362155\n",
      "epoch : 212 loss : 0.013008045653502146\n",
      "epoch : 213 loss : 0.01301085783375634\n",
      "epoch : 214 loss : 0.013012879424624972\n",
      "epoch : 215 loss : 0.0129996281531122\n",
      "epoch : 216 loss : 0.013014473848872714\n",
      "epoch : 217 loss : 0.013015338944064246\n",
      "epoch : 218 loss : 0.012995549374156527\n",
      "epoch : 219 loss : 0.012993043495549096\n",
      "epoch : 220 loss : 0.013014149334695604\n",
      "epoch : 221 loss : 0.01301076180405087\n",
      "epoch : 222 loss : 0.012995358142587874\n",
      "epoch : 223 loss : 0.012974869045946334\n",
      "epoch : 224 loss : 0.012997604078716703\n",
      "epoch : 225 loss : 0.012999773025512695\n",
      "epoch : 226 loss : 0.01297839730978012\n",
      "epoch : 227 loss : 0.012985519236988492\n",
      "epoch : 228 loss : 0.01300375329123603\n",
      "epoch : 229 loss : 0.013001680374145508\n",
      "epoch : 230 loss : 0.012981040610207452\n",
      "epoch : 231 loss : 0.012959316372871399\n",
      "epoch : 232 loss : 0.012979644040266672\n",
      "epoch : 233 loss : 0.012980313764678108\n",
      "epoch : 234 loss : 0.012963092989391752\n",
      "epoch : 235 loss : 0.012963310711913638\n",
      "epoch : 236 loss : 0.012970166901747385\n",
      "epoch : 237 loss : 0.012961507671409182\n",
      "epoch : 238 loss : 0.012951376537481943\n",
      "epoch : 239 loss : 0.01295211911201477\n",
      "epoch : 240 loss : 0.012954169677363502\n",
      "epoch : 241 loss : 0.012935876846313477\n",
      "epoch : 242 loss : 0.012939729624324374\n",
      "epoch : 243 loss : 0.01294559571478102\n",
      "epoch : 244 loss : 0.012944915228419833\n",
      "epoch : 245 loss : 0.012935851183202531\n",
      "epoch : 246 loss : 0.012930215232902102\n",
      "epoch : 247 loss : 0.012947978244887458\n",
      "epoch : 248 loss : 0.012957069608900283\n",
      "epoch : 249 loss : 0.012947080036004385\n"
     ]
    }
   ],
   "source": [
    "# Define the optimizer\n",
    "optimizer = optim.Adam(model2.parameters(), lr=0.01)\n",
    "\n",
    "# Define the learning rate scheduler\n",
    "scheduler = lr_scheduler.ReduceLROnPlateau(optimizer, mode='min', factor=0.1, patience=10, verbose=True)\n",
    "\n",
    "# Training loop\n",
    "epochs = 250\n",
    "for epoch in range(epochs):\n",
    "\n",
    "    # Compute les embeddings\n",
    "\n",
    "    # Create an empty tensor to store the embeddings\n",
    "    embeddings = torch.empty((data2.shape[0], embedded_dim))\n",
    "\n",
    "    total_loss = 0\n",
    "\n",
    "    for i in range(data2.shape[0]):\n",
    "        sample = data2[i]\n",
    "        embedded_sample = model2(sample)\n",
    "        embeddings[i] = embedded_sample\n",
    "\n",
    "    distance_matrix = torch.cdist(embeddings, embeddings, p=2)\n",
    "\n",
    "    optimizer.zero_grad()\n",
    "    \n",
    "    # Compute la matrice de distance \n",
    "\n",
    "    loss = model2.loss(distance_matrix, targets) \n",
    "    loss.backward()\n",
    "    total_loss += loss.item()\n",
    "    optimizer.step()\n",
    "\n",
    "    # Update the learning rate based on the validation loss\n",
    "    val_loss = total_loss / data2.shape[0]\n",
    "    scheduler.step(val_loss)\n",
    "    print('epoch : '+str(epoch)+' loss : '+str(val_loss))\n"
   ]
  },
  {
   "cell_type": "code",
   "execution_count": 30,
   "metadata": {},
   "outputs": [
    {
     "data": {
      "image/png": "[encoded data removed]",
      "text/plain": [
       "<Figure size 432x288 with 1 Axes>"
      ]
     },
     "metadata": {
      "needs_background": "light"
     },
     "output_type": "display_data"
    }
   ],
   "source": [
    "import numpy as np\n",
    "import matplotlib.pyplot as plt\n",
    "from mpl_toolkits.mplot3d import Axes3D\n",
    "\n",
    "# Step 1: Encode the data using the trained model\n",
    "model2.eval()  # Set the model to evaluation mode\n",
    "with torch.no_grad():\n",
    "    # Create an empty tensor to store the embeddings\n",
    "    embeddings = torch.empty((data2.shape[0], embedded_dim))\n",
    "\n",
    "    total_loss = 0\n",
    "\n",
    "    for i in range(data2.shape[0]):\n",
    "        sample = data2[i]\n",
    "        embedded_sample = model2(sample)\n",
    "        embeddings[i] = embedded_sample\n",
    "\n",
    "colors = []\n",
    "for i in range(len(normalized_df)):\n",
    "    if target_column[i] == 1:\n",
    "        colors.append('red')  # Corresponding sample in filtered_df has 'ICU' value set to 1\n",
    "    else:\n",
    "        colors.append('blue')  # Corresponding sample in filtered_df does not have 'ICU' value set to 1\n",
    "\n",
    "# Convert the embeddings tensor to a NumPy array\n",
    "latent_vectors = embeddings.numpy()\n",
    "\n",
    "# print(latent_vectors)\n",
    "\n",
    "# Step 2: Plot the latent vectors in a 3D scatter plot\n",
    "fig = plt.figure()\n",
    "ax = fig.add_subplot(111, projection='3d')\n",
    "\n",
    "# Plot all latent vectors\n",
    "ax.scatter(latent_vectors[:, 0], latent_vectors[:, 1], latent_vectors[:, 2], color=colors)\n",
    "\n",
    "# Set labels and title for the plot\n",
    "ax.set_xlabel('Latent 1')\n",
    "ax.set_ylabel('Latent 2')\n",
    "ax.set_zlabel('Latent 3')\n",
    "ax.set_title('Latent Space Visualization')\n",
    "\n",
    "# Show the plot\n",
    "plt.show()\n"
   ]
  },
  {
   "cell_type": "code",
   "execution_count": 31,
   "metadata": {},
   "outputs": [
    {
     "data": {
      "application/vnd.plotly.v1+json": {
       "config": {
        "plotlyServerURL": "https://plot.ly"
       },
       "data": [
        {
         "marker": {
          "color": [
           "blue",
           "blue",
           "blue",
           "blue",
           "blue",
           "red",
           "blue",
           "blue",
           "blue",
           "blue",
           "blue",
           "blue",
           "blue",
           "blue",
           "blue",
           "blue",
           "blue",
           "blue",
           "blue",
           "red",
           "blue",
           "red",
           "red",
           "blue",
           "red",
           "blue",
           "blue",
           "blue",
           "blue",
           "blue",
           "blue",
           "blue",
           "red",
           "red",
           "blue",
           "blue",
           "blue",
           "blue",
           "blue",
           "blue",
           "blue",
           "blue",
           "blue",
           "red",
           "red",
           "blue",
           "blue",
           "blue",
           "blue",
           "blue",
           "blue",
           "blue",
           "red",
           "blue",
           "red",
           "blue",
           "blue",
           "blue",
           "red",
           "red",
           "red",
           "blue",
           "blue",
           "blue",
           "blue",
           "blue",
           "blue",
           "blue",
           "blue",
           "blue",
           "blue",
           "blue"
          ],
          "opacity": 0.8,
          "size": 2
         },
         "mode": "markers",
         "type": "scatter3d",
         "x": [
          -0.01545675564557314,
          -0.019854679703712463,
          -0.012729658745229244,
          -0.009526600129902363,
          -0.01197891216725111,
          -0.011002464219927788,
          -0.015536976046860218,
          -0.011662268079817295,
          -0.020281003788113594,
          -0.019587058573961258,
          -0.01860630139708519,
          -0.019671861082315445,
          -0.019554000347852707,
          -0.01726510189473629,
          -0.018625935539603233,
          -0.01535281352698803,
          -0.020338324829936028,
          -0.014963151887059212,
          -0.006964464206248522,
          -0.01571376994252205,
          -0.014045140706002712,
          -0.011048058979213238,
          -0.011697166599333286,
          -0.012729658745229244,
          -0.013198643922805786,
          -0.013974674046039581,
          -0.016965802758932114,
          -0.017262550070881844,
          -0.01903187856078148,
          -0.011476128362119198,
          -0.016819097101688385,
          -0.008573769591748714,
          -0.010602891445159912,
          -0.018838021904230118,
          -0.015469457022845745,
          -0.008199641481041908,
          -0.016034603118896484,
          -0.010297207161784172,
          -0.013639063574373722,
          -0.016243599355220795,
          -0.016009416431188583,
          -0.01683521643280983,
          -0.0025610460434108973,
          -0.018392443656921387,
          -0.010520386509597301,
          -0.011752448976039886,
          -0.010752802714705467,
          -0.010426796041429043,
          -0.01921454258263111,
          -0.011245997622609138,
          -0.017659327015280724,
          -0.012803438119590282,
          -0.01177106611430645,
          -0.006947237532585859,
          -0.015632884576916695,
          -0.010890021920204163,
          -0.021645857021212578,
          -0.020511170849204063,
          -0.010759947821497917,
          -0.010975740849971771,
          -0.011777965351939201,
          -0.018135370686650276,
          -0.016866447404026985,
          -0.02020072750747204,
          -0.013516483828425407,
          -0.01621977426111698,
          -0.010362348519265652,
          -0.014462016522884369,
          -0.013750191777944565,
          -0.019063914194703102,
          -0.012697969563305378,
          -0.0154444994404912
         ],
         "y": [
          -0.026210343465209007,
          -0.03394106775522232,
          -0.021414171904325485,
          -0.015791401267051697,
          -0.020100044086575508,
          -0.01837931200861931,
          -0.026351409032940865,
          -0.019538594409823418,
          -0.034690387547016144,
          -0.03347001224756241,
          -0.031747572124004364,
          -0.0336192362010479,
          -0.033412039279937744,
          -0.02939009480178356,
          -0.03178098052740097,
          -0.02602936141192913,
          -0.03479090705513954,
          -0.025344301015138626,
          -0.011283841915428638,
          -0.026663484051823616,
          -0.023728931322693825,
          -0.018463043496012688,
          -0.019604559987783432,
          -0.021414171904325485,
          -0.02224057726562023,
          -0.023604832589626312,
          -0.028863834217190742,
          -0.029384255409240723,
          -0.03249448165297508,
          -0.019215846434235573,
          -0.0286045391112566,
          -0.014111197553575039,
          -0.017680147662758827,
          -0.032153304666280746,
          -0.02623104117810726,
          -0.013457068242132664,
          -0.027225986123085022,
          -0.017138749361038208,
          -0.023013701662421227,
          -0.027593480423092842,
          -0.027180291712284088,
          -0.028632311150431633,
          -0.003537073265761137,
          -0.03136977180838585,
          -0.01753193326294422,
          -0.019701780751347542,
          -0.017939947545528412,
          -0.01737046428024769,
          -0.032815683633089066,
          -0.01880747266113758,
          -0.030082913115620613,
          -0.02154584601521492,
          -0.01973055675625801,
          -0.011257250793278217,
          -0.026518484577536583,
          -0.0181799978017807,
          -0.03708958625793457,
          -0.035095032304525375,
          -0.017964359372854233,
          -0.018330629914999008,
          -0.019743526354432106,
          -0.030917871743440628,
          -0.028687087818980217,
          -0.03454901650547981,
          -0.022799136117100716,
          -0.02755182608962059,
          -0.017253005877137184,
          -0.024463940411806107,
          -0.02321048267185688,
          -0.03255266696214676,
          -0.021360211074352264,
          -0.026188554242253304
         ],
         "z": [
          -0.0004392976697999984,
          -0.0004959986545145512,
          -0.0004040945786982775,
          -0.00036293064476922154,
          -0.00039475003723055124,
          -0.0003818441182374954,
          -0.00044033315498381853,
          -0.00039034601650200784,
          -0.0005014899652451277,
          -0.00049253721954301,
          -0.00047991221072152257,
          -0.0004936258192174137,
          -0.0004921072395518422,
          -0.00046262648538686335,
          -0.0004801457980647683,
          -0.0004379861056804657,
          -0.0005022210534662008,
          -0.00043295937939547,
          -0.0003298324591014534,
          -0.000442630669567734,
          -0.00042109203059226274,
          -0.0003825001767836511,
          -0.000391107692848891,
          -0.0004040945786982775,
          -0.0004101741942577064,
          -0.0004201798001304269,
          -0.0004587685107253492,
          -0.00046256923815235496,
          -0.00048537825932726264,
          -0.000388250220566988,
          -0.0004568456206470728,
          -0.000350551912561059,
          -0.00037696113577112556,
          -0.00048287224490195513,
          -0.00043942726915702224,
          -0.0003457928542047739,
          -0.0004467416147235781,
          -0.000372737820725888,
          -0.0004158322117291391,
          -0.0004494444001466036,
          -0.0004463921650312841,
          -0.00045704664080403745,
          -0.0002729467232711613,
          -0.0004771302337758243,
          -0.00037562963552773,
          -0.00039182239561341703,
          -0.00037861784221604466,
          -0.00037468463415279984,
          -0.00048773770686239004,
          -0.00038498835056088865,
          -0.00046771622146479785,
          -0.00040507633821107447,
          -0.00039175618439912796,
          -0.0003296739305369556,
          -0.00044153915951028466,
          -0.000380365876480937,
          -0.0005190910305827856,
          -0.0005044542485848069,
          -0.00037895122659392655,
          -0.00038148206658661366,
          -0.00039186078356578946,
          -0.0004738133866339922,
          -0.0004574464401230216,
          -0.0005004513077437878,
          -0.0004142685793340206,
          -0.00044913520105183125,
          -0.0003735727514140308,
          -0.00042650901013985276,
          -0.0004172904882580042,
          -0.00048582989256829023,
          -0.0004037169273942709,
          -0.00043913189438171685
         ]
        }
       ],
       "layout": {
        "scene": {
         "xaxis": {
          "title": {
           "text": "Latent 1"
          }
         },
         "yaxis": {
          "title": {
           "text": "Latent 2"
          }
         },
         "zaxis": {
          "title": {
           "text": "Latent 3"
          }
         }
        },
        "template": {
         "data": {
          "bar": [
           {
            "error_x": {
             "color": "#2a3f5f"
            },
            "error_y": {
             "color": "#2a3f5f"
            },
            "marker": {
             "line": {
              "color": "#E5ECF6",
              "width": 0.5
             },
             "pattern": {
              "fillmode": "overlay",
              "size": 10,
              "solidity": 0.2
             }
            },
            "type": "bar"
           }
          ],
          "barpolar": [
           {
            "marker": {
             "line": {
              "color": "#E5ECF6",
              "width": 0.5
             },
             "pattern": {
              "fillmode": "overlay",
              "size": 10,
              "solidity": 0.2
             }
            },
            "type": "barpolar"
           }
          ],
          "carpet": [
           {
            "aaxis": {
             "endlinecolor": "#2a3f5f",
             "gridcolor": "white",
             "linecolor": "white",
             "minorgridcolor": "white",
             "startlinecolor": "#2a3f5f"
            },
            "baxis": {
             "endlinecolor": "#2a3f5f",
             "gridcolor": "white",
             "linecolor": "white",
             "minorgridcolor": "white",
             "startlinecolor": "#2a3f5f"
            },
            "type": "carpet"
           }
          ],
          "choropleth": [
           {
            "colorbar": {
             "outlinewidth": 0,
             "ticks": ""
            },
            "type": "choropleth"
           }
          ],
          "contour": [
           {
            "colorbar": {
             "outlinewidth": 0,
             "ticks": ""
            },
            "colorscale": [
             [
              0,
              "#0d0887"
             ],
             [
              0.1111111111111111,
              "#46039f"
             ],
             [
              0.2222222222222222,
              "#7201a8"
             ],
             [
              0.3333333333333333,
              "#9c179e"
             ],
             [
              0.4444444444444444,
              "#bd3786"
             ],
             [
              0.5555555555555556,
              "#d8576b"
             ],
             [
              0.6666666666666666,
              "#ed7953"
             ],
             [
              0.7777777777777778,
              "#fb9f3a"
             ],
             [
              0.8888888888888888,
              "#fdca26"
             ],
             [
              1,
              "#f0f921"
             ]
            ],
            "type": "contour"
           }
          ],
          "contourcarpet": [
           {
            "colorbar": {
             "outlinewidth": 0,
             "ticks": ""
            },
            "type": "contourcarpet"
           }
          ],
          "heatmap": [
           {
            "colorbar": {
             "outlinewidth": 0,
             "ticks": ""
            },
            "colorscale": [
             [
              0,
              "#0d0887"
             ],
             [
              0.1111111111111111,
              "#46039f"
             ],
             [
              0.2222222222222222,
              "#7201a8"
             ],
             [
              0.3333333333333333,
              "#9c179e"
             ],
             [
              0.4444444444444444,
              "#bd3786"
             ],
             [
              0.5555555555555556,
              "#d8576b"
             ],
             [
              0.6666666666666666,
              "#ed7953"
             ],
             [
              0.7777777777777778,
              "#fb9f3a"
             ],
             [
              0.8888888888888888,
              "#fdca26"
             ],
             [
              1,
              "#f0f921"
             ]
            ],
            "type": "heatmap"
           }
          ],
          "heatmapgl": [
           {
            "colorbar": {
             "outlinewidth": 0,
             "ticks": ""
            },
            "colorscale": [
             [
              0,
              "#0d0887"
             ],
             [
              0.1111111111111111,
              "#46039f"
             ],
             [
              0.2222222222222222,
              "#7201a8"
             ],
             [
              0.3333333333333333,
              "#9c179e"
             ],
             [
              0.4444444444444444,
              "#bd3786"
             ],
             [
              0.5555555555555556,
              "#d8576b"
             ],
             [
              0.6666666666666666,
              "#ed7953"
             ],
             [
              0.7777777777777778,
              "#fb9f3a"
             ],
             [
              0.8888888888888888,
              "#fdca26"
             ],
             [
              1,
              "#f0f921"
             ]
            ],
            "type": "heatmapgl"
           }
          ],
          "histogram": [
           {
            "marker": {
             "pattern": {
              "fillmode": "overlay",
              "size": 10,
              "solidity": 0.2
             }
            },
            "type": "histogram"
           }
          ],
          "histogram2d": [
           {
            "colorbar": {
             "outlinewidth": 0,
             "ticks": ""
            },
            "colorscale": [
             [
              0,
              "#0d0887"
             ],
             [
              0.1111111111111111,
              "#46039f"
             ],
             [
              0.2222222222222222,
              "#7201a8"
             ],
             [
              0.3333333333333333,
              "#9c179e"
             ],
             [
              0.4444444444444444,
              "#bd3786"
             ],
             [
              0.5555555555555556,
              "#d8576b"
             ],
             [
              0.6666666666666666,
              "#ed7953"
             ],
             [
              0.7777777777777778,
              "#fb9f3a"
             ],
             [
              0.8888888888888888,
              "#fdca26"
             ],
             [
              1,
              "#f0f921"
             ]
            ],
            "type": "histogram2d"
           }
          ],
          "histogram2dcontour": [
           {
            "colorbar": {
             "outlinewidth": 0,
             "ticks": ""
            },
            "colorscale": [
             [
              0,
              "#0d0887"
             ],
             [
              0.1111111111111111,
              "#46039f"
             ],
             [
              0.2222222222222222,
              "#7201a8"
             ],
             [
              0.3333333333333333,
              "#9c179e"
             ],
             [
              0.4444444444444444,
              "#bd3786"
             ],
             [
              0.5555555555555556,
              "#d8576b"
             ],
             [
              0.6666666666666666,
              "#ed7953"
             ],
             [
              0.7777777777777778,
              "#fb9f3a"
             ],
             [
              0.8888888888888888,
              "#fdca26"
             ],
             [
              1,
              "#f0f921"
             ]
            ],
            "type": "histogram2dcontour"
           }
          ],
          "mesh3d": [
           {
            "colorbar": {
             "outlinewidth": 0,
             "ticks": ""
            },
            "type": "mesh3d"
           }
          ],
          "parcoords": [
           {
            "line": {
             "colorbar": {
              "outlinewidth": 0,
              "ticks": ""
             }
            },
            "type": "parcoords"
           }
          ],
          "pie": [
           {
            "automargin": true,
            "type": "pie"
           }
          ],
          "scatter": [
           {
            "fillpattern": {
             "fillmode": "overlay",
             "size": 10,
             "solidity": 0.2
            },
            "type": "scatter"
           }
          ],
          "scatter3d": [
           {
            "line": {
             "colorbar": {
              "outlinewidth": 0,
              "ticks": ""
             }
            },
            "marker": {
             "colorbar": {
              "outlinewidth": 0,
              "ticks": ""
             }
            },
            "type": "scatter3d"
           }
          ],
          "scattercarpet": [
           {
            "marker": {
             "colorbar": {
              "outlinewidth": 0,
              "ticks": ""
             }
            },
            "type": "scattercarpet"
           }
          ],
          "scattergeo": [
           {
            "marker": {
             "colorbar": {
              "outlinewidth": 0,
              "ticks": ""
             }
            },
            "type": "scattergeo"
           }
          ],
          "scattergl": [
           {
            "marker": {
             "colorbar": {
              "outlinewidth": 0,
              "ticks": ""
             }
            },
            "type": "scattergl"
           }
          ],
          "scattermapbox": [
           {
            "marker": {
             "colorbar": {
              "outlinewidth": 0,
              "ticks": ""
             }
            },
            "type": "scattermapbox"
           }
          ],
          "scatterpolar": [
           {
            "marker": {
             "colorbar": {
              "outlinewidth": 0,
              "ticks": ""
             }
            },
            "type": "scatterpolar"
           }
          ],
          "scatterpolargl": [
           {
            "marker": {
             "colorbar": {
              "outlinewidth": 0,
              "ticks": ""
             }
            },
            "type": "scatterpolargl"
           }
          ],
          "scatterternary": [
           {
            "marker": {
             "colorbar": {
              "outlinewidth": 0,
              "ticks": ""
             }
            },
            "type": "scatterternary"
           }
          ],
          "surface": [
           {
            "colorbar": {
             "outlinewidth": 0,
             "ticks": ""
            },
            "colorscale": [
             [
              0,
              "#0d0887"
             ],
             [
              0.1111111111111111,
              "#46039f"
             ],
             [
              0.2222222222222222,
              "#7201a8"
             ],
             [
              0.3333333333333333,
              "#9c179e"
             ],
             [
              0.4444444444444444,
              "#bd3786"
             ],
             [
              0.5555555555555556,
              "#d8576b"
             ],
             [
              0.6666666666666666,
              "#ed7953"
             ],
             [
              0.7777777777777778,
              "#fb9f3a"
             ],
             [
              0.8888888888888888,
              "#fdca26"
             ],
             [
              1,
              "#f0f921"
             ]
            ],
            "type": "surface"
           }
          ],
          "table": [
           {
            "cells": {
             "fill": {
              "color": "#EBF0F8"
             },
             "line": {
              "color": "white"
             }
            },
            "header": {
             "fill": {
              "color": "#C8D4E3"
             },
             "line": {
              "color": "white"
             }
            },
            "type": "table"
           }
          ]
         },
         "layout": {
          "annotationdefaults": {
           "arrowcolor": "#2a3f5f",
           "arrowhead": 0,
           "arrowwidth": 1
          },
          "autotypenumbers": "strict",
          "coloraxis": {
           "colorbar": {
            "outlinewidth": 0,
            "ticks": ""
           }
          },
          "colorscale": {
           "diverging": [
            [
             0,
             "#8e0152"
            ],
            [
             0.1,
             "#c51b7d"
            ],
            [
             0.2,
             "#de77ae"
            ],
            [
             0.3,
             "#f1b6da"
            ],
            [
             0.4,
             "#fde0ef"
            ],
            [
             0.5,
             "#f7f7f7"
            ],
            [
             0.6,
             "#e6f5d0"
            ],
            [
             0.7,
             "#b8e186"
            ],
            [
             0.8,
             "#7fbc41"
            ],
            [
             0.9,
             "#4d9221"
            ],
            [
             1,
             "#276419"
            ]
           ],
           "sequential": [
            [
             0,
             "#0d0887"
            ],
            [
             0.1111111111111111,
             "#46039f"
            ],
            [
             0.2222222222222222,
             "#7201a8"
            ],
            [
             0.3333333333333333,
             "#9c179e"
            ],
            [
             0.4444444444444444,
             "#bd3786"
            ],
            [
             0.5555555555555556,
             "#d8576b"
            ],
            [
             0.6666666666666666,
             "#ed7953"
            ],
            [
             0.7777777777777778,
             "#fb9f3a"
            ],
            [
             0.8888888888888888,
             "#fdca26"
            ],
            [
             1,
             "#f0f921"
            ]
           ],
           "sequentialminus": [
            [
             0,
             "#0d0887"
            ],
            [
             0.1111111111111111,
             "#46039f"
            ],
            [
             0.2222222222222222,
             "#7201a8"
            ],
            [
             0.3333333333333333,
             "#9c179e"
            ],
            [
             0.4444444444444444,
             "#bd3786"
            ],
            [
             0.5555555555555556,
             "#d8576b"
            ],
            [
             0.6666666666666666,
             "#ed7953"
            ],
            [
             0.7777777777777778,
             "#fb9f3a"
            ],
            [
             0.8888888888888888,
             "#fdca26"
            ],
            [
             1,
             "#f0f921"
            ]
           ]
          },
          "colorway": [
           "#636efa",
           "#EF553B",
           "#00cc96",
           "#ab63fa",
           "#FFA15A",
           "#19d3f3",
           "#FF6692",
           "#B6E880",
           "#FF97FF",
           "#FECB52"
          ],
          "font": {
           "color": "#2a3f5f"
          },
          "geo": {
           "bgcolor": "white",
           "lakecolor": "white",
           "landcolor": "#E5ECF6",
           "showlakes": true,
           "showland": true,
           "subunitcolor": "white"
          },
          "hoverlabel": {
           "align": "left"
          },
          "hovermode": "closest",
          "mapbox": {
           "style": "light"
          },
          "paper_bgcolor": "white",
          "plot_bgcolor": "#E5ECF6",
          "polar": {
           "angularaxis": {
            "gridcolor": "white",
            "linecolor": "white",
            "ticks": ""
           },
           "bgcolor": "#E5ECF6",
           "radialaxis": {
            "gridcolor": "white",
            "linecolor": "white",
            "ticks": ""
           }
          },
          "scene": {
           "xaxis": {
            "backgroundcolor": "#E5ECF6",
            "gridcolor": "white",
            "gridwidth": 2,
            "linecolor": "white",
            "showbackground": true,
            "ticks": "",
            "zerolinecolor": "white"
           },
           "yaxis": {
            "backgroundcolor": "#E5ECF6",
            "gridcolor": "white",
            "gridwidth": 2,
            "linecolor": "white",
            "showbackground": true,
            "ticks": "",
            "zerolinecolor": "white"
           },
           "zaxis": {
            "backgroundcolor": "#E5ECF6",
            "gridcolor": "white",
            "gridwidth": 2,
            "linecolor": "white",
            "showbackground": true,
            "ticks": "",
            "zerolinecolor": "white"
           }
          },
          "shapedefaults": {
           "line": {
            "color": "#2a3f5f"
           }
          },
          "ternary": {
           "aaxis": {
            "gridcolor": "white",
            "linecolor": "white",
            "ticks": ""
           },
           "baxis": {
            "gridcolor": "white",
            "linecolor": "white",
            "ticks": ""
           },
           "bgcolor": "#E5ECF6",
           "caxis": {
            "gridcolor": "white",
            "linecolor": "white",
            "ticks": ""
           }
          },
          "title": {
           "x": 0.05
          },
          "xaxis": {
           "automargin": true,
           "gridcolor": "white",
           "linecolor": "white",
           "ticks": "",
           "title": {
            "standoff": 15
           },
           "zerolinecolor": "white",
           "zerolinewidth": 2
          },
          "yaxis": {
           "automargin": true,
           "gridcolor": "white",
           "linecolor": "white",
           "ticks": "",
           "title": {
            "standoff": 15
           },
           "zerolinecolor": "white",
           "zerolinewidth": 2
          }
         }
        },
        "title": {
         "text": "Latent Space Visualization"
        }
       }
      }
     },
     "metadata": {},
     "output_type": "display_data"
    }
   ],
   "source": [
    "import numpy as np\n",
    "import matplotlib.pyplot as plt\n",
    "import plotly.graph_objects as go\n",
    "\n",
    "# Step 1: Encode the data using the trained model\n",
    "model2.eval()  # Set the model to evaluation mode\n",
    "with torch.no_grad():\n",
    "    # Create an empty tensor to store the embeddings\n",
    "    embeddings = torch.empty((data2.shape[0], embedded_dim))\n",
    "\n",
    "    total_loss = 0\n",
    "\n",
    "    for i in range(data2.shape[0]):\n",
    "        sample = data2[i]\n",
    "        embedded_sample = model2(sample)\n",
    "        embeddings[i] = embedded_sample\n",
    "\n",
    "colors = []\n",
    "for i in range(len(normalized_df)):\n",
    "    if target_column[i] == 1:\n",
    "        colors.append('red')  # Corresponding sample in filtered_df has 'ICU' value set to 1\n",
    "    else:\n",
    "        colors.append('blue')  # Corresponding sample in filtered_df does not have 'ICU' value set to 1\n",
    "\n",
    "# Convert the embeddings tensor to a NumPy array\n",
    "latent_vectors = embeddings.numpy()\n",
    "\n",
    "# Step 2: Create a 3D scatter plot using Plotly\n",
    "fig = go.Figure(data=[go.Scatter3d(\n",
    "    x=latent_vectors[:, 0],\n",
    "    y=latent_vectors[:, 1],\n",
    "    z=latent_vectors[:, 2],\n",
    "    mode='markers',\n",
    "    marker=dict(\n",
    "        size=2,\n",
    "        color=colors,\n",
    "        opacity=0.8\n",
    "    )\n",
    ")])\n",
    "\n",
    "# Set the layout for the plot\n",
    "fig.update_layout(\n",
    "    scene=dict(\n",
    "        xaxis=dict(title='Latent 1'),\n",
    "        yaxis=dict(title='Latent 2'),\n",
    "        zaxis=dict(title='Latent 3')\n",
    "    ),\n",
    "    title='Latent Space Visualization'\n",
    ")\n",
    "\n",
    "# Display the plot\n",
    "fig.show()\n",
    "\n",
    "# Save the plot as an HTML file\n",
    "fig.write_html('visualizationBAD.html')"
   ]
  },
  {
   "cell_type": "code",
   "execution_count": 32,
   "metadata": {},
   "outputs": [
    {
     "data": {
      "image/png": "[encoded data removed]",
      "text/plain": [
       "<Figure size 576x576 with 1 Axes>"
      ]
     },
     "metadata": {},
     "output_type": "display_data"
    }
   ],
   "source": [
    "import pandas as pd\n",
    "import numpy as np\n",
    "import networkx as nx\n",
    "import matplotlib.pyplot as plt\n",
    "\n",
    "# Assuming your dataset is stored in a DataFrame called 'df'\n",
    "# Assuming the filtered dataset with the \"ICU\" feature is stored in a DataFrame called 'filtered_df'\n",
    "# Assuming the correlations are stored in a dictionary called 'correlations_dict'\n",
    "\n",
    "# Compute weighted distance between two samples in the DataFrame\n",
    "def compute_distance(df, index1, index2):\n",
    "    sample1 = df.iloc[index1].values\n",
    "    sample2 = df.iloc[index2].values\n",
    "    weighted_distance = 0\n",
    "    \n",
    "    for i in range(len(sample1)):\n",
    "        weighted_distance += abs(sample1[i] - sample2[i])\n",
    "    \n",
    "    return weighted_distance\n",
    "\n",
    "# Step 1: Find pairwise weighted distances\n",
    "dist_matrix = np.zeros((predictive_df.shape[0], predictive_df.shape[0]))\n",
    "\n",
    "for i in range(predictive_df.shape[0]):\n",
    "    for j in range(i + 1, predictive_df.shape[0]):\n",
    "        weighted_dist = compute_distance(predictive_df, i, j)\n",
    "        dist_matrix[i, j] = weighted_dist\n",
    "        dist_matrix[j, i] = weighted_dist\n",
    "\n",
    "# Check distances set to 0 outside diagonal\n",
    "# for i in range(dist_matrix.shape[0]):\n",
    "#     for j in range(dist_matrix.shape[1]):\n",
    "#         if i != j and dist_matrix[i, j] == 0:\n",
    "#             print(f\"Distance between points {i} and {j} is set to 0.\")\n",
    "\n",
    "\n",
    "# Step 2: Find k nearest neighbors for each sample\n",
    "k = 2  # Number of nearest neighbors\n",
    "n_neighbors = []\n",
    "\n",
    "for i in range(dist_matrix.shape[0]):\n",
    "    neighbors = np.argsort(dist_matrix[i])\n",
    "    \n",
    "    # Find neighbors with distance equal to 0\n",
    "    zero_distance_neighbors = [neighbor for neighbor in neighbors if dist_matrix[i, neighbor] == 0]\n",
    "    \n",
    "    # Find additional nearest neighbors with distance > 0\n",
    "    additional_neighbors = [neighbor for neighbor in neighbors if dist_matrix[i, neighbor] > 0][:k]\n",
    "    \n",
    "    neighbors_list = zero_distance_neighbors + additional_neighbors\n",
    "    n_neighbors.append(neighbors_list)\n",
    "\n",
    "# nearest_neighbors = np.argsort(dist_matrix, axis=1)[:, 1:(k+1)]\n",
    "\n",
    "\n",
    "# print(nearest_neighbors)\n",
    "\n",
    "# Step 3: Create graph and add edges\n",
    "graph = nx.Graph()\n",
    "for i, neighbors in enumerate(n_neighbors):\n",
    "    for neighbor in neighbors:\n",
    "        if (i != neighbor) :\n",
    "            graph.add_edge(i, neighbor)\n",
    "\n",
    "# Step 4: Add nodes with color based on 'ICU' feature\n",
    "for i in range(filtered_df.shape[0]):\n",
    "    icu_value = filtered_df.iloc[i]['ICU']\n",
    "    color = 'red' if icu_value == 1 else 'blue'\n",
    "    graph.add_node(i, color=color)\n",
    "\n",
    "# Step 5: Plot the graph\n",
    "plt.figure(figsize=(8, 8))\n",
    "pos = nx.spring_layout(graph)\n",
    "node_colors = [graph.nodes[node]['color'] for node in graph.nodes]\n",
    "nx.draw(graph, pos, with_labels=True, node_color=node_colors, node_size=500, font_size=10, edge_color='gray')\n",
    "plt.axis(\"off\")\n",
    "plt.show()\n"
   ]
  }
 ],
 "metadata": {
  "kernelspec": {
   "display_name": "Python 3 (ipykernel)",
   "language": "python",
   "name": "python3"
  },
  "language_info": {
   "codemirror_mode": {
    "name": "ipython",
    "version": 3
   },
   "file_extension": ".py",
   "mimetype": "text/x-python",
   "name": "python",
   "nbconvert_exporter": "python",
   "pygments_lexer": "ipython3",
   "version": "3.9.7"
  }
 },
 "nbformat": 4,
 "nbformat_minor": 2
}
