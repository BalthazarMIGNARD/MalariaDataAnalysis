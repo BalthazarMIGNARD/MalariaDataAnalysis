{
 "cells": [
  {
   "cell_type": "code",
   "execution_count": 2,
   "metadata": {},
   "outputs": [
    {
     "name": "stdout",
     "output_type": "stream",
     "text": [
      "An error occurred: [Errno 2] No such file or directory: 'data\\\\NOMAL.xlsx'\n",
      "Failed to calculate empty percentage.\n"
     ]
    }
   ],
   "source": [
    "import pandas as pd\n",
    "\n",
    "def calculate_empty_percentage(file_path):\n",
    "    try:\n",
    "        # Read the Excel file\n",
    "        xls = pd.ExcelFile(file_path)\n",
    "\n",
    "        # Initialize an empty dictionary to store results\n",
    "        empty_percentage = {}\n",
    "\n",
    "        # Iterate through each sheet in the Excel file\n",
    "        for sheet_name in xls.sheet_names:\n",
    "            # Read the sheet\n",
    "            df = xls.parse(sheet_name)\n",
    "            \n",
    "            # Count the number of empty cells in the sheet\n",
    "            total_cells = df.size\n",
    "            empty_cells = df.isna().sum().sum()\n",
    "\n",
    "            # Calculate the percentage of empty cells\n",
    "            percentage_empty = (empty_cells / total_cells) * 100\n",
    "\n",
    "            # Store the result in the dictionary\n",
    "            empty_percentage[sheet_name] = percentage_empty\n",
    "\n",
    "        return empty_percentage\n",
    "\n",
    "    except Exception as e:\n",
    "        print(\"An error occurred:\", str(e))\n",
    "        return None\n",
    "\n",
    "if __name__ == \"__main__\":\n",
    "    excel_file_path = \"../data\\\\NOMAL.xlsx\"\n",
    "    result = calculate_empty_percentage(excel_file_path)\n",
    "    if result:\n",
    "        for sheet, percentage in result.items():\n",
    "            print(f\"Sheet '{sheet}': {percentage:.2f}% empty\")\n",
    "    else:\n",
    "        print(\"Failed to calculate empty percentage.\")\n"
   ]
  }
 ],
 "metadata": {
  "kernelspec": {
   "display_name": "base",
   "language": "python",
   "name": "python3"
  },
  "language_info": {
   "codemirror_mode": {
    "name": "ipython",
    "version": 3
   },
   "file_extension": ".py",
   "mimetype": "text/x-python",
   "name": "python",
   "nbconvert_exporter": "python",
   "pygments_lexer": "ipython3",
   "version": "3.9.7"
  },
  "orig_nbformat": 4
 },
 "nbformat": 4,
 "nbformat_minor": 2
}
