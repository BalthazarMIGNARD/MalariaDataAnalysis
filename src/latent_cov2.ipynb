{
 "cells": [
  {
   "cell_type": "code",
   "execution_count": 1,
   "metadata": {},
   "outputs": [],
   "source": [
    "import pandas as pd\n",
    "import pickle "
   ]
  },
  {
   "cell_type": "code",
   "execution_count": 2,
   "metadata": {
    "scrolled": true
   },
   "outputs": [],
   "source": [
    "# Load the CSV file into a DataFrame\n",
    "predictive_df = pd.read_csv('../data\\predictive_df.csv')\n",
    "filtered_df = pd.read_csv('../data\\\\filtered_df.csv')\n",
    "target_column = filtered_df['ICU']\n",
    "\n",
    "# Loading the correlations dictionary from the file\n",
    "with open('../data//correlations.pkl', 'rb') as file:\n",
    "    correlations = pickle.load(file)"
   ]
  },
  {
   "cell_type": "code",
   "execution_count": 3,
   "metadata": {},
   "outputs": [
    {
     "data": {
      "text/plain": [
       "0    0\n",
       "1    0\n",
       "2    0\n",
       "3    0\n",
       "4    0\n",
       "Name: ICU, dtype: int64"
      ]
     },
     "execution_count": 3,
     "metadata": {},
     "output_type": "execute_result"
    }
   ],
   "source": [
    "target_column.head(5)"
   ]
  },
  {
   "cell_type": "code",
   "execution_count": 4,
   "metadata": {},
   "outputs": [],
   "source": [
    "import numpy as np\n",
    "import pandas as pd\n",
    "\n",
    "# Create an empty DataFrame to store columns with nominal values\n",
    "predictive_cat_df = pd.DataFrame()\n",
    "\n",
    "# Iterate over the columns in the filtered dataframe\n",
    "for column in predictive_df.columns:\n",
    "    col_data = predictive_df[column]\n",
    "    \n",
    "    if set(col_data.dropna().unique()) == {0, 1}:\n",
    "        predictive_cat_df[column] = col_data  # Add the column to the new DataFrame"
   ]
  },
  {
   "cell_type": "code",
   "execution_count": 5,
   "metadata": {},
   "outputs": [
    {
     "data": {
      "text/html": [
       "<div>\n",
       "<style scoped>\n",
       "    .dataframe tbody tr th:only-of-type {\n",
       "        vertical-align: middle;\n",
       "    }\n",
       "\n",
       "    .dataframe tbody tr th {\n",
       "        vertical-align: top;\n",
       "    }\n",
       "\n",
       "    .dataframe thead th {\n",
       "        text-align: right;\n",
       "    }\n",
       "</style>\n",
       "<table border=\"1\" class=\"dataframe\">\n",
       "  <thead>\n",
       "    <tr style=\"text-align: right;\">\n",
       "      <th></th>\n",
       "      <th>Sesso</th>\n",
       "      <th>Nazionalità</th>\n",
       "      <th>Domicilio</th>\n",
       "      <th>Profilassi</th>\n",
       "      <th>Comorbilità</th>\n",
       "      <th>Diabete</th>\n",
       "      <th>HIV</th>\n",
       "      <th>IRC</th>\n",
       "      <th>GCS</th>\n",
       "      <th>Prostrazione</th>\n",
       "      <th>...</th>\n",
       "      <th>ArtemetherLumefantrinaSomministrazione1Datainizioeora</th>\n",
       "      <th>DiidroartemisininaPiperachinaSomministrazione1Datainizioeora</th>\n",
       "      <th>ACT</th>\n",
       "      <th>ArtesunatoACT</th>\n",
       "      <th>AtovaquoneProguanile</th>\n",
       "      <th>Doxiciclinaperos</th>\n",
       "      <th>Clindamicina</th>\n",
       "      <th>Antibiotici</th>\n",
       "      <th>Chinino</th>\n",
       "      <th>Primachina</th>\n",
       "    </tr>\n",
       "  </thead>\n",
       "  <tbody>\n",
       "    <tr>\n",
       "      <th>0</th>\n",
       "      <td>1</td>\n",
       "      <td>1</td>\n",
       "      <td>0</td>\n",
       "      <td>0</td>\n",
       "      <td>0</td>\n",
       "      <td>0</td>\n",
       "      <td>0</td>\n",
       "      <td>0</td>\n",
       "      <td>0</td>\n",
       "      <td>1</td>\n",
       "      <td>...</td>\n",
       "      <td>0</td>\n",
       "      <td>0</td>\n",
       "      <td>0</td>\n",
       "      <td>0</td>\n",
       "      <td>1</td>\n",
       "      <td>0</td>\n",
       "      <td>0</td>\n",
       "      <td>0</td>\n",
       "      <td>0</td>\n",
       "      <td>0</td>\n",
       "    </tr>\n",
       "    <tr>\n",
       "      <th>1</th>\n",
       "      <td>0</td>\n",
       "      <td>0</td>\n",
       "      <td>0</td>\n",
       "      <td>0</td>\n",
       "      <td>0</td>\n",
       "      <td>0</td>\n",
       "      <td>0</td>\n",
       "      <td>0</td>\n",
       "      <td>0</td>\n",
       "      <td>1</td>\n",
       "      <td>...</td>\n",
       "      <td>0</td>\n",
       "      <td>0</td>\n",
       "      <td>0</td>\n",
       "      <td>0</td>\n",
       "      <td>1</td>\n",
       "      <td>0</td>\n",
       "      <td>0</td>\n",
       "      <td>0</td>\n",
       "      <td>0</td>\n",
       "      <td>0</td>\n",
       "    </tr>\n",
       "    <tr>\n",
       "      <th>2</th>\n",
       "      <td>1</td>\n",
       "      <td>0</td>\n",
       "      <td>0</td>\n",
       "      <td>0</td>\n",
       "      <td>1</td>\n",
       "      <td>0</td>\n",
       "      <td>0</td>\n",
       "      <td>0</td>\n",
       "      <td>0</td>\n",
       "      <td>0</td>\n",
       "      <td>...</td>\n",
       "      <td>0</td>\n",
       "      <td>1</td>\n",
       "      <td>1</td>\n",
       "      <td>1</td>\n",
       "      <td>0</td>\n",
       "      <td>0</td>\n",
       "      <td>0</td>\n",
       "      <td>0</td>\n",
       "      <td>0</td>\n",
       "      <td>0</td>\n",
       "    </tr>\n",
       "    <tr>\n",
       "      <th>3</th>\n",
       "      <td>1</td>\n",
       "      <td>0</td>\n",
       "      <td>0</td>\n",
       "      <td>0</td>\n",
       "      <td>1</td>\n",
       "      <td>1</td>\n",
       "      <td>0</td>\n",
       "      <td>0</td>\n",
       "      <td>0</td>\n",
       "      <td>0</td>\n",
       "      <td>...</td>\n",
       "      <td>0</td>\n",
       "      <td>1</td>\n",
       "      <td>1</td>\n",
       "      <td>1</td>\n",
       "      <td>0</td>\n",
       "      <td>0</td>\n",
       "      <td>0</td>\n",
       "      <td>0</td>\n",
       "      <td>0</td>\n",
       "      <td>0</td>\n",
       "    </tr>\n",
       "    <tr>\n",
       "      <th>4</th>\n",
       "      <td>0</td>\n",
       "      <td>1</td>\n",
       "      <td>0</td>\n",
       "      <td>0</td>\n",
       "      <td>0</td>\n",
       "      <td>0</td>\n",
       "      <td>0</td>\n",
       "      <td>0</td>\n",
       "      <td>0</td>\n",
       "      <td>0</td>\n",
       "      <td>...</td>\n",
       "      <td>0</td>\n",
       "      <td>1</td>\n",
       "      <td>1</td>\n",
       "      <td>1</td>\n",
       "      <td>0</td>\n",
       "      <td>0</td>\n",
       "      <td>0</td>\n",
       "      <td>0</td>\n",
       "      <td>0</td>\n",
       "      <td>0</td>\n",
       "    </tr>\n",
       "  </tbody>\n",
       "</table>\n",
       "<p>5 rows × 32 columns</p>\n",
       "</div>"
      ],
      "text/plain": [
       "   Sesso  Nazionalità  Domicilio  Profilassi  Comorbilità  Diabete  HIV  IRC  \\\n",
       "0      1            1          0           0            0        0    0    0   \n",
       "1      0            0          0           0            0        0    0    0   \n",
       "2      1            0          0           0            1        0    0    0   \n",
       "3      1            0          0           0            1        1    0    0   \n",
       "4      0            1          0           0            0        0    0    0   \n",
       "\n",
       "   GCS  Prostrazione  ...  \\\n",
       "0    0             1  ...   \n",
       "1    0             1  ...   \n",
       "2    0             0  ...   \n",
       "3    0             0  ...   \n",
       "4    0             0  ...   \n",
       "\n",
       "   ArtemetherLumefantrinaSomministrazione1Datainizioeora  \\\n",
       "0                                                  0       \n",
       "1                                                  0       \n",
       "2                                                  0       \n",
       "3                                                  0       \n",
       "4                                                  0       \n",
       "\n",
       "   DiidroartemisininaPiperachinaSomministrazione1Datainizioeora  ACT  \\\n",
       "0                                                  0               0   \n",
       "1                                                  0               0   \n",
       "2                                                  1               1   \n",
       "3                                                  1               1   \n",
       "4                                                  1               1   \n",
       "\n",
       "   ArtesunatoACT  AtovaquoneProguanile  Doxiciclinaperos  Clindamicina  \\\n",
       "0              0                     1                 0             0   \n",
       "1              0                     1                 0             0   \n",
       "2              1                     0                 0             0   \n",
       "3              1                     0                 0             0   \n",
       "4              1                     0                 0             0   \n",
       "\n",
       "   Antibiotici  Chinino  Primachina  \n",
       "0            0        0           0  \n",
       "1            0        0           0  \n",
       "2            0        0           0  \n",
       "3            0        0           0  \n",
       "4            0        0           0  \n",
       "\n",
       "[5 rows x 32 columns]"
      ]
     },
     "execution_count": 5,
     "metadata": {},
     "output_type": "execute_result"
    }
   ],
   "source": [
    "predictive_cat_df.head(5)"
   ]
  },
  {
   "cell_type": "code",
   "execution_count": 6,
   "metadata": {},
   "outputs": [],
   "source": [
    "import numpy as np\n",
    "import pandas as pd\n",
    "from sklearn.decomposition import TruncatedSVD"
   ]
  },
  {
   "cell_type": "code",
   "execution_count": 7,
   "metadata": {},
   "outputs": [],
   "source": [
    "# Step 1: Compute Covariance Matrix\n",
    "XCov = predictive_cat_df.cov()"
   ]
  },
  {
   "cell_type": "code",
   "execution_count": 8,
   "metadata": {},
   "outputs": [],
   "source": [
    "# Step 2: Perform Singular Value Decomposition (SVD)\n",
    "svd = TruncatedSVD(n_components=3)  # Set the desired latent dimension to 3\n",
    "svd.fit(XCov)\n",
    "V = svd.components_  # Latent vectors\n",
    "sigma_squared = svd.singular_values_**2  # Squared singular values"
   ]
  },
  {
   "cell_type": "code",
   "execution_count": 9,
   "metadata": {},
   "outputs": [
    {
     "data": {
      "text/html": [
       "<div>\n",
       "<style scoped>\n",
       "    .dataframe tbody tr th:only-of-type {\n",
       "        vertical-align: middle;\n",
       "    }\n",
       "\n",
       "    .dataframe tbody tr th {\n",
       "        vertical-align: top;\n",
       "    }\n",
       "\n",
       "    .dataframe thead th {\n",
       "        text-align: right;\n",
       "    }\n",
       "</style>\n",
       "<table border=\"1\" class=\"dataframe\">\n",
       "  <thead>\n",
       "    <tr style=\"text-align: right;\">\n",
       "      <th></th>\n",
       "      <th>Sesso</th>\n",
       "      <th>Nazionalità</th>\n",
       "      <th>Domicilio</th>\n",
       "      <th>Profilassi</th>\n",
       "      <th>Comorbilità</th>\n",
       "      <th>Diabete</th>\n",
       "      <th>HIV</th>\n",
       "      <th>IRC</th>\n",
       "      <th>GCS</th>\n",
       "      <th>Prostrazione</th>\n",
       "      <th>...</th>\n",
       "      <th>ArtemetherLumefantrinaSomministrazione1Datainizioeora</th>\n",
       "      <th>DiidroartemisininaPiperachinaSomministrazione1Datainizioeora</th>\n",
       "      <th>ACT</th>\n",
       "      <th>ArtesunatoACT</th>\n",
       "      <th>AtovaquoneProguanile</th>\n",
       "      <th>Doxiciclinaperos</th>\n",
       "      <th>Clindamicina</th>\n",
       "      <th>Antibiotici</th>\n",
       "      <th>Chinino</th>\n",
       "      <th>Primachina</th>\n",
       "    </tr>\n",
       "  </thead>\n",
       "  <tbody>\n",
       "    <tr>\n",
       "      <th>Sesso</th>\n",
       "      <td>0.229851</td>\n",
       "      <td>-0.010759</td>\n",
       "      <td>0.000587</td>\n",
       "      <td>0.009781</td>\n",
       "      <td>0.016236</td>\n",
       "      <td>-0.006847</td>\n",
       "      <td>-0.022692</td>\n",
       "      <td>0.005477</td>\n",
       "      <td>-0.003717</td>\n",
       "      <td>-0.031690</td>\n",
       "      <td>...</td>\n",
       "      <td>0.014671</td>\n",
       "      <td>0.017997</td>\n",
       "      <td>0.032668</td>\n",
       "      <td>2.112676e-02</td>\n",
       "      <td>0.001174</td>\n",
       "      <td>0.026800</td>\n",
       "      <td>-0.017801</td>\n",
       "      <td>0.023083</td>\n",
       "      <td>-0.012911</td>\n",
       "      <td>0.004890</td>\n",
       "    </tr>\n",
       "    <tr>\n",
       "      <th>Nazionalità</th>\n",
       "      <td>-0.010759</td>\n",
       "      <td>0.248631</td>\n",
       "      <td>0.018192</td>\n",
       "      <td>-0.016041</td>\n",
       "      <td>0.043232</td>\n",
       "      <td>0.022496</td>\n",
       "      <td>0.024257</td>\n",
       "      <td>0.010172</td>\n",
       "      <td>-0.011933</td>\n",
       "      <td>0.031690</td>\n",
       "      <td>...</td>\n",
       "      <td>0.004108</td>\n",
       "      <td>-0.000782</td>\n",
       "      <td>0.003326</td>\n",
       "      <td>-2.112676e-02</td>\n",
       "      <td>-0.005869</td>\n",
       "      <td>0.018584</td>\n",
       "      <td>0.016236</td>\n",
       "      <td>0.020736</td>\n",
       "      <td>0.008216</td>\n",
       "      <td>0.006064</td>\n",
       "    </tr>\n",
       "    <tr>\n",
       "      <th>Domicilio</th>\n",
       "      <td>0.000587</td>\n",
       "      <td>0.018192</td>\n",
       "      <td>0.040493</td>\n",
       "      <td>-0.001174</td>\n",
       "      <td>0.007629</td>\n",
       "      <td>-0.007629</td>\n",
       "      <td>-0.002347</td>\n",
       "      <td>-0.002347</td>\n",
       "      <td>-0.002934</td>\n",
       "      <td>-0.003521</td>\n",
       "      <td>...</td>\n",
       "      <td>-0.001761</td>\n",
       "      <td>-0.025822</td>\n",
       "      <td>-0.027582</td>\n",
       "      <td>-2.112676e-02</td>\n",
       "      <td>-0.003521</td>\n",
       "      <td>0.004108</td>\n",
       "      <td>-0.002934</td>\n",
       "      <td>-0.012911</td>\n",
       "      <td>-0.003521</td>\n",
       "      <td>-0.000587</td>\n",
       "    </tr>\n",
       "    <tr>\n",
       "      <th>Profilassi</th>\n",
       "      <td>0.009781</td>\n",
       "      <td>-0.016041</td>\n",
       "      <td>-0.001174</td>\n",
       "      <td>0.027387</td>\n",
       "      <td>-0.013693</td>\n",
       "      <td>-0.005086</td>\n",
       "      <td>-0.001565</td>\n",
       "      <td>-0.001565</td>\n",
       "      <td>-0.001956</td>\n",
       "      <td>-0.007042</td>\n",
       "      <td>...</td>\n",
       "      <td>-0.001174</td>\n",
       "      <td>-0.003130</td>\n",
       "      <td>-0.004304</td>\n",
       "      <td>-6.841163e-19</td>\n",
       "      <td>-0.002347</td>\n",
       "      <td>0.007433</td>\n",
       "      <td>-0.001956</td>\n",
       "      <td>0.005477</td>\n",
       "      <td>-0.002347</td>\n",
       "      <td>-0.000391</td>\n",
       "    </tr>\n",
       "    <tr>\n",
       "      <th>Comorbilità</th>\n",
       "      <td>0.016236</td>\n",
       "      <td>0.043232</td>\n",
       "      <td>0.007629</td>\n",
       "      <td>-0.013693</td>\n",
       "      <td>0.253326</td>\n",
       "      <td>0.094092</td>\n",
       "      <td>0.028951</td>\n",
       "      <td>0.028951</td>\n",
       "      <td>-0.006064</td>\n",
       "      <td>0.010563</td>\n",
       "      <td>...</td>\n",
       "      <td>-0.020540</td>\n",
       "      <td>0.036776</td>\n",
       "      <td>0.016236</td>\n",
       "      <td>7.042254e-03</td>\n",
       "      <td>0.001174</td>\n",
       "      <td>0.052621</td>\n",
       "      <td>0.008020</td>\n",
       "      <td>0.018388</td>\n",
       "      <td>0.043427</td>\n",
       "      <td>0.007238</td>\n",
       "    </tr>\n",
       "  </tbody>\n",
       "</table>\n",
       "<p>5 rows × 32 columns</p>\n",
       "</div>"
      ],
      "text/plain": [
       "                Sesso  Nazionalità  Domicilio  Profilassi  Comorbilità  \\\n",
       "Sesso        0.229851    -0.010759   0.000587    0.009781     0.016236   \n",
       "Nazionalità -0.010759     0.248631   0.018192   -0.016041     0.043232   \n",
       "Domicilio    0.000587     0.018192   0.040493   -0.001174     0.007629   \n",
       "Profilassi   0.009781    -0.016041  -0.001174    0.027387    -0.013693   \n",
       "Comorbilità  0.016236     0.043232   0.007629   -0.013693     0.253326   \n",
       "\n",
       "              Diabete       HIV       IRC       GCS  Prostrazione  ...  \\\n",
       "Sesso       -0.006847 -0.022692  0.005477 -0.003717     -0.031690  ...   \n",
       "Nazionalità  0.022496  0.024257  0.010172 -0.011933      0.031690  ...   \n",
       "Domicilio   -0.007629 -0.002347 -0.002347 -0.002934     -0.003521  ...   \n",
       "Profilassi  -0.005086 -0.001565 -0.001565 -0.001956     -0.007042  ...   \n",
       "Comorbilità  0.094092  0.028951  0.028951 -0.006064      0.010563  ...   \n",
       "\n",
       "             ArtemetherLumefantrinaSomministrazione1Datainizioeora  \\\n",
       "Sesso                                                 0.014671       \n",
       "Nazionalità                                           0.004108       \n",
       "Domicilio                                            -0.001761       \n",
       "Profilassi                                           -0.001174       \n",
       "Comorbilità                                          -0.020540       \n",
       "\n",
       "             DiidroartemisininaPiperachinaSomministrazione1Datainizioeora  \\\n",
       "Sesso                                                 0.017997              \n",
       "Nazionalità                                          -0.000782              \n",
       "Domicilio                                            -0.025822              \n",
       "Profilassi                                           -0.003130              \n",
       "Comorbilità                                           0.036776              \n",
       "\n",
       "                  ACT  ArtesunatoACT  AtovaquoneProguanile  Doxiciclinaperos  \\\n",
       "Sesso        0.032668   2.112676e-02              0.001174          0.026800   \n",
       "Nazionalità  0.003326  -2.112676e-02             -0.005869          0.018584   \n",
       "Domicilio   -0.027582  -2.112676e-02             -0.003521          0.004108   \n",
       "Profilassi  -0.004304  -6.841163e-19             -0.002347          0.007433   \n",
       "Comorbilità  0.016236   7.042254e-03              0.001174          0.052621   \n",
       "\n",
       "             Clindamicina  Antibiotici   Chinino  Primachina  \n",
       "Sesso           -0.017801     0.023083 -0.012911    0.004890  \n",
       "Nazionalità      0.016236     0.020736  0.008216    0.006064  \n",
       "Domicilio       -0.002934    -0.012911 -0.003521   -0.000587  \n",
       "Profilassi      -0.001956     0.005477 -0.002347   -0.000391  \n",
       "Comorbilità      0.008020     0.018388  0.043427    0.007238  \n",
       "\n",
       "[5 rows x 32 columns]"
      ]
     },
     "execution_count": 9,
     "metadata": {},
     "output_type": "execute_result"
    }
   ],
   "source": [
    "XCov.head(5)"
   ]
  },
  {
   "cell_type": "code",
   "execution_count": 10,
   "metadata": {},
   "outputs": [
    {
     "data": {
      "text/plain": [
       "array([0.55129576, 0.17679891, 0.10986679])"
      ]
     },
     "execution_count": 10,
     "metadata": {},
     "output_type": "execute_result"
    }
   ],
   "source": [
    "sigma_squared"
   ]
  },
  {
   "cell_type": "code",
   "execution_count": 11,
   "metadata": {},
   "outputs": [
    {
     "data": {
      "text/plain": [
       "array([[ 0.10843845, -0.01696565, -0.05838416, -0.00217126,  0.12424391,\n",
       "         0.07382602, -0.0306956 ,  0.00812936, -0.01192349, -0.03084579,\n",
       "         0.08241435,  0.00860716,  0.05555562, -0.14690129,  0.05339414,\n",
       "        -0.00542955,  0.03950507, -0.12758454,  0.01348487, -0.02035011,\n",
       "         0.02035011,  0.15753339, -0.03847533,  0.53268831,  0.49421297,\n",
       "         0.51507218, -0.1426052 ,  0.15142018, -0.02400627,  0.20573068,\n",
       "         0.04593318,  0.02035011],\n",
       "       [-0.05233108,  0.48674644,  0.04151872, -0.04920957,  0.48954158,\n",
       "         0.25130254,  0.09830978,  0.04382672, -0.09315895,  0.32967013,\n",
       "        -0.19357196,  0.02426032, -0.01978462, -0.06918793, -0.10722805,\n",
       "        -0.07006155, -0.071231  , -0.16868092, -0.25583443, -0.03390293,\n",
       "         0.03390293, -0.17398101,  0.00509956, -0.03157829, -0.02647874,\n",
       "        -0.14309749,  0.04671801,  0.22670553,  0.04482662,  0.21067125,\n",
       "         0.09966428,  0.03390293],\n",
       "       [ 0.09847905, -0.06578081,  0.01407081,  0.04117326,  0.06025592,\n",
       "         0.02035679,  0.00728291,  0.10113846, -0.04094968,  0.01379574,\n",
       "         0.09931728, -0.06420477, -0.00294745,  0.11266578,  0.20658845,\n",
       "         0.02729507,  0.13075666,  0.35965775, -0.02657899,  0.00057111,\n",
       "        -0.00057111,  0.46660093, -0.10673183, -0.1729626 , -0.27969442,\n",
       "         0.03261886, -0.04919845,  0.40613487,  0.12272059,  0.46200894,\n",
       "        -0.1281433 , -0.00057111]])"
      ]
     },
     "execution_count": 11,
     "metadata": {},
     "output_type": "execute_result"
    }
   ],
   "source": [
    "V"
   ]
  },
  {
   "cell_type": "code",
   "execution_count": 12,
   "metadata": {},
   "outputs": [
    {
     "name": "stdout",
     "output_type": "stream",
     "text": [
      "Encoded Latent Vectors:\n",
      "[ 1.67567596 -0.17812644 -0.04522592]\n"
     ]
    }
   ],
   "source": [
    "# Step 3: Encode the First Sample\n",
    "first_sample = predictive_cat_df.iloc[4]  # Assuming the first sample is at index 0\n",
    "\n",
    "# Multiply the transformed sample by the matrix V to obtain latent vectors\n",
    "latent_vectors = np.dot(first_sample, V.T)\n",
    "\n",
    "# Print the encoded latent vectors\n",
    "print(\"Encoded Latent Vectors:\")\n",
    "print(latent_vectors)\n"
   ]
  },
  {
   "cell_type": "code",
   "execution_count": 13,
   "metadata": {},
   "outputs": [
    {
     "data": {
      "image/png": "[encoded data removed]",
      "text/plain": [
       "<Figure size 432x288 with 1 Axes>"
      ]
     },
     "metadata": {
      "needs_background": "light"
     },
     "output_type": "display_data"
    }
   ],
   "source": [
    "import numpy as np\n",
    "import matplotlib.pyplot as plt\n",
    "from mpl_toolkits.mplot3d import Axes3D\n",
    "\n",
    "# Step 1: Loop through the DataFrame and calculate latent vectors\n",
    "latent_vectors_list = []\n",
    "colors = []  # To store the colors for the scatter plot\n",
    "\n",
    "for i in range(len(predictive_cat_df)):\n",
    "    sample = predictive_cat_df.iloc[i]\n",
    "    latent_vector = np.dot(sample, V.T)\n",
    "    latent_vectors_list.append(latent_vector)\n",
    "    \n",
    "    if i in filtered_df.index and filtered_df.loc[i, 'ICU'] == 1:\n",
    "        colors.append('red')  # Corresponding sample in filtered_df has 'ICU' value set to 1\n",
    "    else:\n",
    "        colors.append('blue')  # Corresponding sample in filtered_df does not have 'ICU' value set to 1\n",
    "\n",
    "# Convert the list of latent vectors into a NumPy array\n",
    "latent_vectors = np.array(latent_vectors_list)\n",
    "\n",
    "# Plot the latent vectors in a 3D scatter plot\n",
    "fig = plt.figure()\n",
    "ax = fig.add_subplot(111, projection='3d')\n",
    "\n",
    "if len(latent_vectors[0]) != 3 : \n",
    "    print(\"This 3D reprensentation is incorrect, vector size != 3\")\n",
    "# Plot all latent vectors\n",
    "ax.scatter(latent_vectors[:, 0], latent_vectors[:, 1], latent_vectors[:, 2], color=colors)\n",
    "\n",
    "# Set labels and title for the plot\n",
    "ax.set_xlabel('Latent 1')\n",
    "ax.set_ylabel('Latent 2')\n",
    "ax.set_zlabel('Latent 3')\n",
    "ax.set_title('Latent Space Visualization')\n",
    "\n",
    "# Show the plot\n",
    "plt.show()\n"
   ]
  },
  {
   "attachments": {},
   "cell_type": "markdown",
   "metadata": {},
   "source": [
    "***Then we should merge this with the numerical datas***"
   ]
  },
  {
   "cell_type": "code",
   "execution_count": 14,
   "metadata": {},
   "outputs": [],
   "source": [
    "import pandas as pd\n",
    "\n",
    "# Create a new DataFrame with latent vectors\n",
    "latent_df = pd.DataFrame(latent_vectors, columns=[f'latent_{i+1}' for i in range(latent_vectors.shape[1])])\n",
    "\n",
    "# Get the remaining features from predictive_df\n",
    "remaining_features_df = predictive_df.drop(predictive_cat_df.columns, axis=1)\n",
    "\n",
    "# Merge latent_df with the remaining features\n",
    "merged_df = pd.concat([latent_df, remaining_features_df], axis=1)"
   ]
  },
  {
   "cell_type": "code",
   "execution_count": 15,
   "metadata": {},
   "outputs": [
    {
     "data": {
      "text/html": [
       "<div>\n",
       "<style scoped>\n",
       "    .dataframe tbody tr th:only-of-type {\n",
       "        vertical-align: middle;\n",
       "    }\n",
       "\n",
       "    .dataframe tbody tr th {\n",
       "        vertical-align: top;\n",
       "    }\n",
       "\n",
       "    .dataframe thead th {\n",
       "        text-align: right;\n",
       "    }\n",
       "</style>\n",
       "<table border=\"1\" class=\"dataframe\">\n",
       "  <thead>\n",
       "    <tr style=\"text-align: right;\">\n",
       "      <th></th>\n",
       "      <th>latent_1</th>\n",
       "      <th>latent_2</th>\n",
       "      <th>latent_3</th>\n",
       "      <th>Età</th>\n",
       "      <th>Altezza</th>\n",
       "      <th>Peso</th>\n",
       "      <th>Numerocriteri</th>\n",
       "      <th>Parassitemiavaloreassoluto</th>\n",
       "      <th>Percentualeparassitemia</th>\n",
       "      <th>Ritardoterapeutico</th>\n",
       "      <th>...</th>\n",
       "      <th>T0Bilirubinadirettainmgdl</th>\n",
       "      <th>T0SodioinmEql</th>\n",
       "      <th>T0PotassioinmEql</th>\n",
       "      <th>T0Cainmgdl</th>\n",
       "      <th>T0INR</th>\n",
       "      <th>T0fibrinogenoinmgdl</th>\n",
       "      <th>T0pH</th>\n",
       "      <th>T0bicarbonatiinmmoll</th>\n",
       "      <th>T0Lattatiinmmoll</th>\n",
       "      <th>DurataArtesunato</th>\n",
       "    </tr>\n",
       "  </thead>\n",
       "  <tbody>\n",
       "    <tr>\n",
       "      <th>0</th>\n",
       "      <td>-0.102328</td>\n",
       "      <td>0.776901</td>\n",
       "      <td>-0.002133</td>\n",
       "      <td>57</td>\n",
       "      <td>160</td>\n",
       "      <td>55.0</td>\n",
       "      <td>1</td>\n",
       "      <td>117137</td>\n",
       "      <td>1.0</td>\n",
       "      <td>7</td>\n",
       "      <td>...</td>\n",
       "      <td>0.475355</td>\n",
       "      <td>136</td>\n",
       "      <td>3.4</td>\n",
       "      <td>8.400000</td>\n",
       "      <td>1.15</td>\n",
       "      <td>498</td>\n",
       "      <td>7.488156</td>\n",
       "      <td>29.354149</td>\n",
       "      <td>1.961553</td>\n",
       "      <td>2</td>\n",
       "    </tr>\n",
       "    <tr>\n",
       "      <th>1</th>\n",
       "      <td>-0.193801</td>\n",
       "      <td>0.342485</td>\n",
       "      <td>-0.034832</td>\n",
       "      <td>62</td>\n",
       "      <td>159</td>\n",
       "      <td>70.0</td>\n",
       "      <td>1</td>\n",
       "      <td>37694</td>\n",
       "      <td>1.0</td>\n",
       "      <td>7</td>\n",
       "      <td>...</td>\n",
       "      <td>0.779619</td>\n",
       "      <td>140</td>\n",
       "      <td>3.9</td>\n",
       "      <td>9.400000</td>\n",
       "      <td>1.19</td>\n",
       "      <td>469</td>\n",
       "      <td>7.471427</td>\n",
       "      <td>29.661985</td>\n",
       "      <td>2.386043</td>\n",
       "      <td>4</td>\n",
       "    </tr>\n",
       "    <tr>\n",
       "      <th>2</th>\n",
       "      <td>1.994253</td>\n",
       "      <td>-0.165400</td>\n",
       "      <td>0.305186</td>\n",
       "      <td>72</td>\n",
       "      <td>175</td>\n",
       "      <td>83.0</td>\n",
       "      <td>1</td>\n",
       "      <td>7</td>\n",
       "      <td>0.2</td>\n",
       "      <td>2</td>\n",
       "      <td>...</td>\n",
       "      <td>0.360000</td>\n",
       "      <td>139</td>\n",
       "      <td>4.0</td>\n",
       "      <td>8.130000</td>\n",
       "      <td>1.10</td>\n",
       "      <td>369</td>\n",
       "      <td>7.410000</td>\n",
       "      <td>30.400000</td>\n",
       "      <td>2.600000</td>\n",
       "      <td>1</td>\n",
       "    </tr>\n",
       "    <tr>\n",
       "      <th>3</th>\n",
       "      <td>2.052544</td>\n",
       "      <td>-0.083588</td>\n",
       "      <td>0.406235</td>\n",
       "      <td>53</td>\n",
       "      <td>177</td>\n",
       "      <td>96.0</td>\n",
       "      <td>2</td>\n",
       "      <td>572000</td>\n",
       "      <td>12.0</td>\n",
       "      <td>7</td>\n",
       "      <td>...</td>\n",
       "      <td>1.020000</td>\n",
       "      <td>122</td>\n",
       "      <td>3.5</td>\n",
       "      <td>8.520905</td>\n",
       "      <td>1.10</td>\n",
       "      <td>407</td>\n",
       "      <td>7.459404</td>\n",
       "      <td>25.057969</td>\n",
       "      <td>2.728105</td>\n",
       "      <td>4</td>\n",
       "    </tr>\n",
       "    <tr>\n",
       "      <th>4</th>\n",
       "      <td>1.675676</td>\n",
       "      <td>-0.178126</td>\n",
       "      <td>-0.045226</td>\n",
       "      <td>58</td>\n",
       "      <td>160</td>\n",
       "      <td>64.3</td>\n",
       "      <td>1</td>\n",
       "      <td>602100</td>\n",
       "      <td>13.5</td>\n",
       "      <td>7</td>\n",
       "      <td>...</td>\n",
       "      <td>1.428358</td>\n",
       "      <td>135</td>\n",
       "      <td>3.9</td>\n",
       "      <td>8.849885</td>\n",
       "      <td>1.10</td>\n",
       "      <td>455</td>\n",
       "      <td>7.460937</td>\n",
       "      <td>26.638637</td>\n",
       "      <td>2.363897</td>\n",
       "      <td>1</td>\n",
       "    </tr>\n",
       "  </tbody>\n",
       "</table>\n",
       "<p>5 rows × 36 columns</p>\n",
       "</div>"
      ],
      "text/plain": [
       "   latent_1  latent_2  latent_3  Età  Altezza  Peso  Numerocriteri  \\\n",
       "0 -0.102328  0.776901 -0.002133   57      160  55.0              1   \n",
       "1 -0.193801  0.342485 -0.034832   62      159  70.0              1   \n",
       "2  1.994253 -0.165400  0.305186   72      175  83.0              1   \n",
       "3  2.052544 -0.083588  0.406235   53      177  96.0              2   \n",
       "4  1.675676 -0.178126 -0.045226   58      160  64.3              1   \n",
       "\n",
       "   Parassitemiavaloreassoluto  Percentualeparassitemia  Ritardoterapeutico  \\\n",
       "0                      117137                      1.0                   7   \n",
       "1                       37694                      1.0                   7   \n",
       "2                           7                      0.2                   2   \n",
       "3                      572000                     12.0                   7   \n",
       "4                      602100                     13.5                   7   \n",
       "\n",
       "   ...  T0Bilirubinadirettainmgdl  T0SodioinmEql  T0PotassioinmEql  \\\n",
       "0  ...                   0.475355            136               3.4   \n",
       "1  ...                   0.779619            140               3.9   \n",
       "2  ...                   0.360000            139               4.0   \n",
       "3  ...                   1.020000            122               3.5   \n",
       "4  ...                   1.428358            135               3.9   \n",
       "\n",
       "   T0Cainmgdl  T0INR  T0fibrinogenoinmgdl      T0pH  T0bicarbonatiinmmoll  \\\n",
       "0    8.400000   1.15                  498  7.488156             29.354149   \n",
       "1    9.400000   1.19                  469  7.471427             29.661985   \n",
       "2    8.130000   1.10                  369  7.410000             30.400000   \n",
       "3    8.520905   1.10                  407  7.459404             25.057969   \n",
       "4    8.849885   1.10                  455  7.460937             26.638637   \n",
       "\n",
       "   T0Lattatiinmmoll  DurataArtesunato  \n",
       "0          1.961553                 2  \n",
       "1          2.386043                 4  \n",
       "2          2.600000                 1  \n",
       "3          2.728105                 4  \n",
       "4          2.363897                 1  \n",
       "\n",
       "[5 rows x 36 columns]"
      ]
     },
     "execution_count": 15,
     "metadata": {},
     "output_type": "execute_result"
    }
   ],
   "source": [
    "merged_df.head(5)"
   ]
  },
  {
   "cell_type": "code",
   "execution_count": 16,
   "metadata": {},
   "outputs": [],
   "source": [
    "from sklearn.preprocessing import MinMaxScaler\n",
    "\n",
    "# Create a MinMaxScaler object\n",
    "scaler = MinMaxScaler()\n",
    "\n",
    "# Normalize the features in merged_df\n",
    "normalized_df = pd.DataFrame(scaler.fit_transform(merged_df), columns=merged_df.columns)"
   ]
  },
  {
   "cell_type": "code",
   "execution_count": 17,
   "metadata": {},
   "outputs": [
    {
     "data": {
      "text/html": [
       "<div>\n",
       "<style scoped>\n",
       "    .dataframe tbody tr th:only-of-type {\n",
       "        vertical-align: middle;\n",
       "    }\n",
       "\n",
       "    .dataframe tbody tr th {\n",
       "        vertical-align: top;\n",
       "    }\n",
       "\n",
       "    .dataframe thead th {\n",
       "        text-align: right;\n",
       "    }\n",
       "</style>\n",
       "<table border=\"1\" class=\"dataframe\">\n",
       "  <thead>\n",
       "    <tr style=\"text-align: right;\">\n",
       "      <th></th>\n",
       "      <th>latent_1</th>\n",
       "      <th>latent_2</th>\n",
       "      <th>latent_3</th>\n",
       "      <th>Età</th>\n",
       "      <th>Altezza</th>\n",
       "      <th>Peso</th>\n",
       "      <th>Numerocriteri</th>\n",
       "      <th>Parassitemiavaloreassoluto</th>\n",
       "      <th>Percentualeparassitemia</th>\n",
       "      <th>Ritardoterapeutico</th>\n",
       "      <th>...</th>\n",
       "      <th>T0Bilirubinadirettainmgdl</th>\n",
       "      <th>T0SodioinmEql</th>\n",
       "      <th>T0PotassioinmEql</th>\n",
       "      <th>T0Cainmgdl</th>\n",
       "      <th>T0INR</th>\n",
       "      <th>T0fibrinogenoinmgdl</th>\n",
       "      <th>T0pH</th>\n",
       "      <th>T0bicarbonatiinmmoll</th>\n",
       "      <th>T0Lattatiinmmoll</th>\n",
       "      <th>DurataArtesunato</th>\n",
       "    </tr>\n",
       "  </thead>\n",
       "  <tbody>\n",
       "    <tr>\n",
       "      <th>0</th>\n",
       "      <td>0.033326</td>\n",
       "      <td>0.657854</td>\n",
       "      <td>0.228539</td>\n",
       "      <td>0.587302</td>\n",
       "      <td>0.250</td>\n",
       "      <td>0.190141</td>\n",
       "      <td>0.0</td>\n",
       "      <td>0.104116</td>\n",
       "      <td>0.045411</td>\n",
       "      <td>0.461538</td>\n",
       "      <td>...</td>\n",
       "      <td>0.023170</td>\n",
       "      <td>0.56</td>\n",
       "      <td>0.296296</td>\n",
       "      <td>0.404762</td>\n",
       "      <td>0.234234</td>\n",
       "      <td>0.505777</td>\n",
       "      <td>0.783983</td>\n",
       "      <td>0.932958</td>\n",
       "      <td>0.352311</td>\n",
       "      <td>0.166667</td>\n",
       "    </tr>\n",
       "    <tr>\n",
       "      <th>1</th>\n",
       "      <td>0.000000</td>\n",
       "      <td>0.461345</td>\n",
       "      <td>0.215166</td>\n",
       "      <td>0.666667</td>\n",
       "      <td>0.225</td>\n",
       "      <td>0.366197</td>\n",
       "      <td>0.0</td>\n",
       "      <td>0.033500</td>\n",
       "      <td>0.045411</td>\n",
       "      <td>0.461538</td>\n",
       "      <td>...</td>\n",
       "      <td>0.041952</td>\n",
       "      <td>0.72</td>\n",
       "      <td>0.481481</td>\n",
       "      <td>0.642857</td>\n",
       "      <td>0.270270</td>\n",
       "      <td>0.468549</td>\n",
       "      <td>0.714281</td>\n",
       "      <td>0.952691</td>\n",
       "      <td>0.437209</td>\n",
       "      <td>0.500000</td>\n",
       "    </tr>\n",
       "    <tr>\n",
       "      <th>2</th>\n",
       "      <td>0.797172</td>\n",
       "      <td>0.231601</td>\n",
       "      <td>0.354229</td>\n",
       "      <td>0.825397</td>\n",
       "      <td>0.625</td>\n",
       "      <td>0.518779</td>\n",
       "      <td>0.0</td>\n",
       "      <td>0.000000</td>\n",
       "      <td>0.009046</td>\n",
       "      <td>0.076923</td>\n",
       "      <td>...</td>\n",
       "      <td>0.016049</td>\n",
       "      <td>0.68</td>\n",
       "      <td>0.518519</td>\n",
       "      <td>0.340476</td>\n",
       "      <td>0.189189</td>\n",
       "      <td>0.340180</td>\n",
       "      <td>0.458333</td>\n",
       "      <td>1.000000</td>\n",
       "      <td>0.480000</td>\n",
       "      <td>0.000000</td>\n",
       "    </tr>\n",
       "    <tr>\n",
       "      <th>3</th>\n",
       "      <td>0.818409</td>\n",
       "      <td>0.268609</td>\n",
       "      <td>0.395557</td>\n",
       "      <td>0.523810</td>\n",
       "      <td>0.675</td>\n",
       "      <td>0.671362</td>\n",
       "      <td>0.2</td>\n",
       "      <td>0.508441</td>\n",
       "      <td>0.545434</td>\n",
       "      <td>0.461538</td>\n",
       "      <td>...</td>\n",
       "      <td>0.056790</td>\n",
       "      <td>0.00</td>\n",
       "      <td>0.333333</td>\n",
       "      <td>0.433549</td>\n",
       "      <td>0.189189</td>\n",
       "      <td>0.388960</td>\n",
       "      <td>0.664185</td>\n",
       "      <td>0.657562</td>\n",
       "      <td>0.505621</td>\n",
       "      <td>0.500000</td>\n",
       "    </tr>\n",
       "    <tr>\n",
       "      <th>4</th>\n",
       "      <td>0.681105</td>\n",
       "      <td>0.225845</td>\n",
       "      <td>0.210915</td>\n",
       "      <td>0.603175</td>\n",
       "      <td>0.250</td>\n",
       "      <td>0.299296</td>\n",
       "      <td>0.0</td>\n",
       "      <td>0.535197</td>\n",
       "      <td>0.613619</td>\n",
       "      <td>0.461538</td>\n",
       "      <td>...</td>\n",
       "      <td>0.081997</td>\n",
       "      <td>0.52</td>\n",
       "      <td>0.481481</td>\n",
       "      <td>0.511877</td>\n",
       "      <td>0.189189</td>\n",
       "      <td>0.450578</td>\n",
       "      <td>0.670569</td>\n",
       "      <td>0.758887</td>\n",
       "      <td>0.432779</td>\n",
       "      <td>0.000000</td>\n",
       "    </tr>\n",
       "  </tbody>\n",
       "</table>\n",
       "<p>5 rows × 36 columns</p>\n",
       "</div>"
      ],
      "text/plain": [
       "   latent_1  latent_2  latent_3       Età  Altezza      Peso  Numerocriteri  \\\n",
       "0  0.033326  0.657854  0.228539  0.587302    0.250  0.190141            0.0   \n",
       "1  0.000000  0.461345  0.215166  0.666667    0.225  0.366197            0.0   \n",
       "2  0.797172  0.231601  0.354229  0.825397    0.625  0.518779            0.0   \n",
       "3  0.818409  0.268609  0.395557  0.523810    0.675  0.671362            0.2   \n",
       "4  0.681105  0.225845  0.210915  0.603175    0.250  0.299296            0.0   \n",
       "\n",
       "   Parassitemiavaloreassoluto  Percentualeparassitemia  Ritardoterapeutico  \\\n",
       "0                    0.104116                 0.045411            0.461538   \n",
       "1                    0.033500                 0.045411            0.461538   \n",
       "2                    0.000000                 0.009046            0.076923   \n",
       "3                    0.508441                 0.545434            0.461538   \n",
       "4                    0.535197                 0.613619            0.461538   \n",
       "\n",
       "   ...  T0Bilirubinadirettainmgdl  T0SodioinmEql  T0PotassioinmEql  \\\n",
       "0  ...                   0.023170           0.56          0.296296   \n",
       "1  ...                   0.041952           0.72          0.481481   \n",
       "2  ...                   0.016049           0.68          0.518519   \n",
       "3  ...                   0.056790           0.00          0.333333   \n",
       "4  ...                   0.081997           0.52          0.481481   \n",
       "\n",
       "   T0Cainmgdl     T0INR  T0fibrinogenoinmgdl      T0pH  T0bicarbonatiinmmoll  \\\n",
       "0    0.404762  0.234234             0.505777  0.783983              0.932958   \n",
       "1    0.642857  0.270270             0.468549  0.714281              0.952691   \n",
       "2    0.340476  0.189189             0.340180  0.458333              1.000000   \n",
       "3    0.433549  0.189189             0.388960  0.664185              0.657562   \n",
       "4    0.511877  0.189189             0.450578  0.670569              0.758887   \n",
       "\n",
       "   T0Lattatiinmmoll  DurataArtesunato  \n",
       "0          0.352311          0.166667  \n",
       "1          0.437209          0.500000  \n",
       "2          0.480000          0.000000  \n",
       "3          0.505621          0.500000  \n",
       "4          0.432779          0.000000  \n",
       "\n",
       "[5 rows x 36 columns]"
      ]
     },
     "execution_count": 17,
     "metadata": {},
     "output_type": "execute_result"
    }
   ],
   "source": [
    "normalized_df.head(5)"
   ]
  },
  {
   "attachments": {},
   "cell_type": "markdown",
   "metadata": {},
   "source": [
    "***The problem is that the further we go from the original datas, the less informations for the doctors***"
   ]
  },
  {
   "cell_type": "code",
   "execution_count": 18,
   "metadata": {},
   "outputs": [],
   "source": [
    "import torch\n",
    "import torch.nn as nn\n",
    "import torch.nn.functional as F\n",
    "\n",
    "# Define the neural network architecture\n",
    "class Net(nn.Module):\n",
    "    def __init__(self, input_dim, embedded_dim):\n",
    "        super(Net, self).__init__()\n",
    "        self.fc1 = nn.Linear(input_dim, 64)\n",
    "        self.fc2 = nn.Linear(64, 32)\n",
    "        self.fc3 = nn.Linear(32, 16)\n",
    "        self.fc4 = nn.Linear(16, embedded_dim)\n",
    "        \n",
    "    def forward(self, x):\n",
    "        x = F.relu(self.fc1(x))\n",
    "        x = F.relu(self.fc2(x))\n",
    "        x = F.relu(self.fc3(x))\n",
    "        x = self.fc4(x)\n",
    "        return x\n",
    "\n",
    "# Set the input and embedded dimensions\n",
    "input_dim = normalized_df.shape[1]\n",
    "embedded_dim = 3\n",
    "\n",
    "# Create an instance of the network\n",
    "model = Net(input_dim, embedded_dim)\n"
   ]
  },
  {
   "cell_type": "code",
   "execution_count": 19,
   "metadata": {},
   "outputs": [],
   "source": [
    "import torch\n",
    "from torch.utils.data import Dataset, DataLoader\n",
    "\n",
    "# Custom dataset class\n",
    "class MyDataset(Dataset):\n",
    "    def __init__(self, dataframe, target_column):\n",
    "        self.data = torch.tensor(dataframe.values, dtype=torch.float32)\n",
    "        self.targets = torch.tensor(target_column.values, dtype=torch.float32)\n",
    "        \n",
    "    def __len__(self):\n",
    "        return len(self.data)\n",
    "    \n",
    "    def __getitem__(self, idx):\n",
    "        return self.data[idx], self.targets[idx]\n",
    "\n",
    "# Create an instance of your custom dataset\n",
    "dataset = MyDataset(normalized_df, target_column)\n",
    "\n",
    "# Define the batch size\n",
    "batch_size = len(normalized_df)\n",
    "\n",
    "# Create the data loader\n",
    "dataloader = DataLoader(dataset, batch_size=batch_size, shuffle=False)\n"
   ]
  },
  {
   "cell_type": "code",
   "execution_count": 20,
   "metadata": {},
   "outputs": [],
   "source": [
    "import torch.optim.lr_scheduler as lr_scheduler\n",
    "import torch\n",
    "import torch.nn as nn\n",
    "import torch.optim as optim"
   ]
  },
  {
   "cell_type": "code",
   "execution_count": 21,
   "metadata": {},
   "outputs": [],
   "source": [
    "# Convert the normalized_df dataframe to a PyTorch tensor\n",
    "data = torch.tensor(normalized_df.values, dtype=torch.float32)\n",
    "\n",
    "targets = torch.tensor(target_column.values, dtype=torch.float32)\n"
   ]
  },
  {
   "cell_type": "code",
   "execution_count": 22,
   "metadata": {},
   "outputs": [],
   "source": [
    "# Define the loss function\n",
    "def model_loss(distance_matrix, targets, lambda_reg = 0.0):\n",
    "\n",
    "    pospos_sum_dist = 0\n",
    "    pospos_sum_count = 0\n",
    "\n",
    "    posneg_sum_dist = 0\n",
    "    posneg_sum_count = 0\n",
    "    \n",
    "    negneg_sum_dist = 0\n",
    "    negneg_sum_count = 0\n",
    "\n",
    "    # print(distance_matrix)\n",
    "\n",
    "    max_dist = torch.max(distance_matrix)\n",
    "\n",
    "    for i in range(len(distance_matrix)) : \n",
    "        for j in range(i+1, len(distance_matrix)) : \n",
    "            if targets[i] == 1 or targets[j] == 1 : \n",
    "                if targets[i] == 1 and targets[j] == 1 : #pos pos\n",
    "                    pospos_sum_dist += distance_matrix[i][j]\n",
    "                    pospos_sum_count += 1 \n",
    "                else : # pos/neg ou neg/pos\n",
    "                    posneg_sum_dist += distance_matrix[i][j]\n",
    "                    posneg_sum_count += 1 \n",
    "            else :\n",
    "                negneg_sum_dist += distance_matrix[i][j]  \n",
    "                negneg_sum_count += 1  \n",
    "    \n",
    "    avg_pospos = pospos_sum_dist/pospos_sum_count\n",
    "    avg_negneg = negneg_sum_dist/negneg_sum_count\n",
    "    avg_posneg = posneg_sum_dist/posneg_sum_count\n",
    "\n",
    "    # avg pos pos + avg neg neg - avg pos neg + max dist (so it stays positive)\n",
    "    distance_loss = (avg_pospos + avg_negneg) / (2*avg_posneg)\n",
    "    \n",
    "    regularization_loss = 0\n",
    "    for param in model.parameters():\n",
    "        regularization_loss += torch.sum(torch.square(param))\n",
    "\n",
    "    # print('distance_loss ='+str(distance_loss))\n",
    "    # print('lambda_reg * regularization_loss ='+str(lambda_reg * regularization_loss))\n",
    "    return distance_loss + lambda_reg * regularization_loss"
   ]
  },
  {
   "cell_type": "code",
   "execution_count": 23,
   "metadata": {},
   "outputs": [
    {
     "name": "stdout",
     "output_type": "stream",
     "text": [
      "epoch : 0 loss : 0.013650132550133599\n",
      "epoch : 1 loss : 0.010052439239290025\n",
      "epoch : 2 loss : 0.007434306873215569\n",
      "epoch : 3 loss : 0.0060246847569942474\n",
      "epoch : 4 loss : 0.005412646051910188\n",
      "epoch : 5 loss : 0.004734937929444843\n",
      "epoch : 6 loss : 0.004251873327626122\n",
      "epoch : 7 loss : 0.0035774091051684487\n",
      "epoch : 8 loss : 0.0034221400403314168\n",
      "epoch : 9 loss : 0.0031690367807944617\n",
      "epoch : 10 loss : 0.00301400696237882\n",
      "epoch : 11 loss : 0.0028409933050473533\n",
      "epoch : 12 loss : 0.002573728768361939\n",
      "epoch : 13 loss : 0.0026391721847984525\n",
      "epoch : 14 loss : 0.0023473339776198068\n",
      "epoch : 15 loss : 0.002372651050488154\n",
      "epoch : 16 loss : 0.0023059708376725516\n",
      "epoch : 17 loss : 0.002075903531577852\n",
      "epoch : 18 loss : 0.0019899337655968135\n",
      "epoch : 19 loss : 0.001974845512045754\n",
      "epoch : 20 loss : 0.0018916941351360744\n",
      "epoch : 21 loss : 0.0018380656838417053\n",
      "epoch : 22 loss : 0.0016787351212567752\n",
      "epoch : 23 loss : 0.0016071114482151137\n",
      "epoch : 24 loss : 0.0015452102654510075\n",
      "epoch : 25 loss : 0.0014583405314220323\n",
      "epoch : 26 loss : 0.001352777083714803\n",
      "epoch : 27 loss : 0.0012065044914682705\n",
      "epoch : 28 loss : 0.0012737268375025855\n",
      "epoch : 29 loss : 0.0012562932032677862\n",
      "epoch : 30 loss : 0.0012462057380212678\n",
      "epoch : 31 loss : 0.0010654090179337396\n",
      "epoch : 32 loss : 0.0010799288542734252\n",
      "epoch : 33 loss : 0.0009985873475670815\n",
      "epoch : 34 loss : 0.0010450788670116002\n",
      "epoch : 35 loss : 0.000879135707186328\n",
      "epoch : 36 loss : 0.0008583458450933298\n",
      "epoch : 37 loss : 0.0007832017209794787\n",
      "epoch : 38 loss : 0.0008175021761821376\n",
      "epoch : 39 loss : 0.0007773946660260359\n",
      "epoch : 40 loss : 0.0007680778702100118\n",
      "epoch : 41 loss : 0.0006469745292431778\n",
      "epoch : 42 loss : 0.000669617774999804\n",
      "epoch : 43 loss : 0.0005850458724631204\n",
      "epoch : 44 loss : 0.0006253856441213025\n",
      "epoch : 45 loss : 0.0005920307400325934\n",
      "epoch : 46 loss : 0.0005698915467494064\n",
      "epoch : 47 loss : 0.0005638321033782429\n",
      "epoch : 48 loss : 0.0005851632708476649\n",
      "epoch : 49 loss : 0.0005411995678312249\n",
      "epoch : 50 loss : 0.0005523833549684949\n",
      "epoch : 51 loss : 0.0004884737750722303\n",
      "epoch : 52 loss : 0.00046452000323269103\n",
      "epoch : 53 loss : 0.0004818905144929886\n",
      "epoch : 54 loss : 0.00044037318891949125\n",
      "epoch : 55 loss : 0.000416108432950245\n",
      "epoch : 56 loss : 0.00040967615010837716\n",
      "epoch : 57 loss : 0.0004509146221809917\n",
      "epoch : 58 loss : 0.0004006288945674896\n",
      "epoch : 59 loss : 0.00040213727495736547\n",
      "epoch : 60 loss : 0.0003812030578653018\n",
      "epoch : 61 loss : 0.00034064419257144135\n",
      "epoch : 62 loss : 0.0003795026956746976\n",
      "epoch : 63 loss : 0.00033972526176108257\n",
      "epoch : 64 loss : 0.00028300753587649926\n",
      "epoch : 65 loss : 0.00029180307562152546\n",
      "epoch : 66 loss : 0.0002855692420982652\n",
      "epoch : 67 loss : 0.000266910789327489\n",
      "epoch : 68 loss : 0.00030496902763843536\n",
      "epoch : 69 loss : 0.00027237602302597626\n",
      "epoch : 70 loss : 0.00026624551456835534\n",
      "epoch : 71 loss : 0.0002331211386869351\n",
      "epoch : 72 loss : 0.0002904045654253827\n",
      "epoch : 73 loss : 0.00024337047297093604\n",
      "epoch : 74 loss : 0.00022357107243604131\n",
      "epoch : 75 loss : 0.0002496356351508035\n",
      "epoch : 76 loss : 0.00032839624004231556\n",
      "epoch : 77 loss : 0.00045988760474655364\n",
      "epoch : 78 loss : 0.0003767239395529032\n",
      "epoch : 79 loss : 0.0003446651001771291\n",
      "epoch : 80 loss : 0.00031304268890784844\n",
      "epoch : 81 loss : 0.00030058950910137757\n",
      "epoch : 82 loss : 0.0002232283198585113\n",
      "epoch : 83 loss : 0.00018110321575982703\n",
      "epoch : 84 loss : 0.00025195755167967745\n",
      "epoch : 85 loss : 0.00022203221710191833\n",
      "epoch : 86 loss : 0.00021683216457151703\n",
      "epoch : 87 loss : 0.00023737034967376126\n",
      "epoch : 88 loss : 0.00022013211208913062\n",
      "epoch : 89 loss : 0.00019825399956769415\n",
      "epoch : 90 loss : 0.00013829771584520736\n",
      "epoch : 91 loss : 0.0002043638119681014\n",
      "epoch : 92 loss : 0.00015494492577595843\n",
      "epoch : 93 loss : 0.00015555152721289132\n",
      "epoch : 94 loss : 0.0001203471975814965\n",
      "epoch : 95 loss : 0.00013930690733508932\n",
      "epoch : 96 loss : 0.00014122809645616345\n",
      "epoch : 97 loss : 0.00013481343113299873\n",
      "epoch : 98 loss : 0.00011352146975696087\n",
      "epoch : 99 loss : 0.00010996514983061288\n",
      "epoch : 100 loss : 0.00011636036085999674\n",
      "epoch : 101 loss : 9.799192452596294e-05\n",
      "epoch : 102 loss : 9.445790460126268e-05\n",
      "epoch : 103 loss : 8.500249694204993e-05\n",
      "epoch : 104 loss : 9.095435315329168e-05\n",
      "epoch : 105 loss : 7.353582704025839e-05\n",
      "epoch : 106 loss : 8.574341579029958e-05\n",
      "epoch : 107 loss : 8.029441556168927e-05\n",
      "epoch : 108 loss : 7.15865624240703e-05\n",
      "epoch : 109 loss : 7.600460149761703e-05\n",
      "epoch : 110 loss : 4.3512648618262676e-05\n",
      "epoch : 111 loss : 8.46468934064938e-05\n",
      "epoch : 112 loss : 6.980522690961759e-05\n",
      "epoch : 113 loss : 5.915649105898208e-05\n",
      "epoch : 114 loss : 7.003302582436138e-05\n",
      "epoch : 115 loss : 5.143188819703129e-05\n",
      "epoch : 116 loss : 8.246785081509087e-05\n",
      "epoch : 117 loss : 6.0493171784198945e-05\n",
      "epoch : 118 loss : 6.837149461110432e-05\n",
      "epoch : 119 loss : 5.649111052561137e-05\n",
      "epoch : 120 loss : 5.423189011505908e-05\n",
      "Epoch 00122: reducing learning rate of group 0 to 1.0000e-03.\n",
      "epoch : 121 loss : 5.9443176724016666e-05\n",
      "epoch : 122 loss : 4.332903901942902e-05\n",
      "epoch : 123 loss : 3.985727542183465e-05\n",
      "epoch : 124 loss : 3.407913674083021e-05\n",
      "epoch : 125 loss : 2.90065654553473e-05\n",
      "epoch : 126 loss : 2.4684279600882695e-05\n",
      "epoch : 127 loss : 2.0135139089284672e-05\n",
      "epoch : 128 loss : 1.7966937674726876e-05\n",
      "epoch : 129 loss : 2.2297387153634594e-05\n",
      "epoch : 130 loss : 2.406294030758242e-05\n",
      "epoch : 131 loss : 2.2582869860343635e-05\n",
      "epoch : 132 loss : 1.926650131483459e-05\n",
      "epoch : 133 loss : 1.7236318348699973e-05\n",
      "epoch : 134 loss : 1.7012105672620237e-05\n",
      "epoch : 135 loss : 1.568258287281626e-05\n",
      "epoch : 136 loss : 1.4928431482985616e-05\n",
      "epoch : 137 loss : 1.440411465915127e-05\n",
      "epoch : 138 loss : 1.4252330098922053e-05\n",
      "epoch : 139 loss : 1.3767714133589632e-05\n",
      "epoch : 140 loss : 1.2241500371601433e-05\n",
      "epoch : 141 loss : 1.1842422989300556e-05\n",
      "epoch : 142 loss : 1.0913231461826297e-05\n",
      "epoch : 143 loss : 1.1629399927591698e-05\n",
      "epoch : 144 loss : 1.1154701092487408e-05\n",
      "epoch : 145 loss : 8.864257122493453e-06\n",
      "epoch : 146 loss : 8.290627900148846e-06\n",
      "epoch : 147 loss : 1.0212251961800373e-05\n",
      "epoch : 148 loss : 9.612832703472426e-06\n",
      "epoch : 149 loss : 8.323534631118593e-06\n",
      "epoch : 150 loss : 8.014736522454768e-06\n",
      "epoch : 151 loss : 8.688101338015662e-06\n",
      "epoch : 152 loss : 9.003293396542884e-06\n",
      "epoch : 153 loss : 7.512292035648392e-06\n",
      "epoch : 154 loss : 7.5708667282015085e-06\n",
      "epoch : 155 loss : 7.71877886210051e-06\n",
      "epoch : 156 loss : 7.592537763735487e-06\n",
      "epoch : 157 loss : 7.077007062940134e-06\n",
      "epoch : 158 loss : 6.827492648476942e-06\n",
      "epoch : 159 loss : 6.888567845130132e-06\n",
      "epoch : 160 loss : 6.8835142883472145e-06\n",
      "epoch : 161 loss : 6.942929758224636e-06\n",
      "epoch : 162 loss : 6.8842281406331394e-06\n",
      "epoch : 163 loss : 6.566146314273485e-06\n",
      "epoch : 164 loss : 6.458834023861628e-06\n",
      "epoch : 165 loss : 5.7719686689476175e-06\n",
      "epoch : 166 loss : 6.081217886983521e-06\n",
      "epoch : 167 loss : 6.385904675375463e-06\n",
      "epoch : 168 loss : 6.832803289095561e-06\n",
      "epoch : 169 loss : 6.368941992857597e-06\n",
      "epoch : 170 loss : 6.3886283088423725e-06\n",
      "epoch : 171 loss : 5.721101236607258e-06\n",
      "epoch : 172 loss : 5.388832101339682e-06\n",
      "epoch : 173 loss : 5.961959686828777e-06\n",
      "epoch : 174 loss : 6.758990720199007e-06\n",
      "epoch : 175 loss : 5.22362622885137e-06\n",
      "epoch : 176 loss : 6.069185878408865e-06\n",
      "epoch : 177 loss : 7.216181580184235e-06\n",
      "epoch : 178 loss : 6.199665626304017e-06\n",
      "epoch : 179 loss : 4.9982627388089895e-06\n",
      "epoch : 180 loss : 7.043726024373124e-06\n",
      "epoch : 181 loss : 6.213555429389493e-06\n",
      "epoch : 182 loss : 5.1058781941214366e-06\n",
      "epoch : 183 loss : 5.897259042184386e-06\n",
      "epoch : 184 loss : 5.864022467802796e-06\n",
      "epoch : 185 loss : 5.3481255438075296e-06\n",
      "epoch : 186 loss : 5.642062509044384e-06\n",
      "epoch : 187 loss : 4.835679849040591e-06\n",
      "epoch : 188 loss : 6.221495924465772e-06\n",
      "epoch : 189 loss : 6.041252668688281e-06\n",
      "epoch : 190 loss : 4.629971145833325e-06\n",
      "epoch : 191 loss : 5.305950859716783e-06\n",
      "epoch : 192 loss : 8.042002769394054e-06\n",
      "epoch : 193 loss : 5.660347798968562e-06\n",
      "epoch : 194 loss : 1.0245406883768737e-05\n",
      "epoch : 195 loss : 7.947106496430933e-06\n",
      "epoch : 196 loss : 9.527997463010252e-06\n",
      "epoch : 197 loss : 8.729798234223077e-06\n",
      "epoch : 198 loss : 7.892437376237163e-06\n",
      "epoch : 199 loss : 8.039924270835601e-06\n",
      "epoch : 200 loss : 7.789783315577855e-06\n",
      "Epoch 00202: reducing learning rate of group 0 to 1.0000e-04.\n",
      "epoch : 201 loss : 6.506040841082318e-06\n",
      "epoch : 202 loss : 9.598027746607033e-06\n",
      "epoch : 203 loss : 9.122644971487009e-06\n",
      "epoch : 204 loss : 8.146192057109955e-06\n",
      "epoch : 205 loss : 6.601202282278488e-06\n",
      "epoch : 206 loss : 4.550676951314219e-06\n",
      "epoch : 207 loss : 4.5537154720578756e-06\n",
      "epoch : 208 loss : 5.99185134180718e-06\n",
      "epoch : 209 loss : 7.705601294421487e-06\n",
      "epoch : 210 loss : 7.175332737258739e-06\n",
      "epoch : 211 loss : 5.5693886275144505e-06\n",
      "epoch : 212 loss : 4.6226923586800694e-06\n",
      "epoch : 213 loss : 4.735147538465551e-06\n",
      "epoch : 214 loss : 5.326001377802135e-06\n",
      "epoch : 215 loss : 6.678408681182191e-06\n",
      "epoch : 216 loss : 5.729269711688782e-06\n",
      "epoch : 217 loss : 4.364758044377797e-06\n",
      "epoch : 218 loss : 4.409454252001726e-06\n",
      "epoch : 219 loss : 4.894152273967241e-06\n",
      "epoch : 220 loss : 5.470311912682115e-06\n",
      "epoch : 221 loss : 4.691678542359215e-06\n",
      "epoch : 222 loss : 4.6001284014588846e-06\n",
      "epoch : 223 loss : 3.894863362398206e-06\n",
      "epoch : 224 loss : 4.558410081598494e-06\n",
      "epoch : 225 loss : 5.0689054155049635e-06\n",
      "epoch : 226 loss : 4.9628393349444704e-06\n",
      "epoch : 227 loss : 3.7506300335129103e-06\n",
      "epoch : 228 loss : 3.6165907254649533e-06\n",
      "epoch : 229 loss : 3.399852074734453e-06\n",
      "epoch : 230 loss : 4.492958800660239e-06\n",
      "epoch : 231 loss : 4.4517295868394686e-06\n",
      "epoch : 232 loss : 4.521212152515848e-06\n",
      "epoch : 233 loss : 3.448055293928418e-06\n",
      "epoch : 234 loss : 4.2287635248309625e-06\n",
      "epoch : 235 loss : 4.342295546343343e-06\n",
      "epoch : 236 loss : 4.674662098598977e-06\n",
      "epoch : 237 loss : 3.23179342053158e-06\n",
      "epoch : 238 loss : 3.6622813139628206e-06\n",
      "epoch : 239 loss : 4.000568474617063e-06\n",
      "epoch : 240 loss : 4.417799775385194e-06\n",
      "epoch : 241 loss : 4.11905259372563e-06\n",
      "epoch : 242 loss : 4.229384406547372e-06\n",
      "epoch : 243 loss : 3.7508887342280814e-06\n",
      "epoch : 244 loss : 3.88145943159341e-06\n",
      "epoch : 245 loss : 3.7145618989598006e-06\n",
      "epoch : 246 loss : 3.96530918401873e-06\n",
      "epoch : 247 loss : 3.9286816091690625e-06\n",
      "Epoch 00249: reducing learning rate of group 0 to 1.0000e-05.\n",
      "epoch : 248 loss : 3.758925029412947e-06\n",
      "epoch : 249 loss : 3.405031343896149e-06\n"
     ]
    }
   ],
   "source": [
    "# Define the optimizer\n",
    "optimizer = optim.Adam(model.parameters(), lr=0.01)\n",
    "\n",
    "# Define the learning rate scheduler\n",
    "scheduler = lr_scheduler.ReduceLROnPlateau(optimizer, mode='min', factor=0.1, patience=10, verbose=True)\n",
    "\n",
    "# Training loop\n",
    "epochs = 250\n",
    "for epoch in range(epochs):\n",
    "\n",
    "    # Compute les embeddings\n",
    "\n",
    "    # Create an empty tensor to store the embeddings\n",
    "    embeddings = torch.empty((data.shape[0], embedded_dim))\n",
    "\n",
    "    total_loss = 0\n",
    "\n",
    "    for i in range(data.shape[0]):\n",
    "        sample = data[i]\n",
    "        embedded_sample = model(sample)\n",
    "        embeddings[i] = embedded_sample\n",
    "\n",
    "    distance_matrix = torch.cdist(embeddings, embeddings, p=2)\n",
    "\n",
    "    optimizer.zero_grad()\n",
    "    \n",
    "    # Compute la matrice de distance \n",
    "\n",
    "    loss = model_loss(distance_matrix, targets) \n",
    "    loss.backward()\n",
    "    total_loss += loss.item()\n",
    "    optimizer.step()\n",
    "\n",
    "    # Update the learning rate based on the validation loss\n",
    "    val_loss = total_loss / data.shape[0]\n",
    "    scheduler.step(val_loss)\n",
    "    print('epoch : '+str(epoch)+' loss : '+str(val_loss))\n"
   ]
  },
  {
   "cell_type": "code",
   "execution_count": 24,
   "metadata": {},
   "outputs": [],
   "source": [
    "\n",
    "    # print(f\"Epoch {epoch+1}/{epochs}, Loss: {val_loss}\")\n"
   ]
  },
  {
   "cell_type": "code",
   "execution_count": 25,
   "metadata": {},
   "outputs": [
    {
     "data": {
      "image/png": "[encoded data removed]",
      "text/plain": [
       "<Figure size 432x288 with 1 Axes>"
      ]
     },
     "metadata": {
      "needs_background": "light"
     },
     "output_type": "display_data"
    }
   ],
   "source": [
    "import numpy as np\n",
    "import matplotlib.pyplot as plt\n",
    "from mpl_toolkits.mplot3d import Axes3D\n",
    "\n",
    "# Step 1: Encode the data using the trained model\n",
    "model.eval()  # Set the model to evaluation mode\n",
    "with torch.no_grad():\n",
    "    # Create an empty tensor to store the embeddings\n",
    "    embeddings = torch.empty((data.shape[0], embedded_dim))\n",
    "\n",
    "    total_loss = 0\n",
    "\n",
    "    for i in range(data.shape[0]):\n",
    "        sample = data[i]\n",
    "        embedded_sample = model(sample)\n",
    "        embeddings[i] = embedded_sample\n",
    "\n",
    "colors = []\n",
    "for i in range(len(normalized_df)):\n",
    "    if target_column[i] == 1:\n",
    "        colors.append('red')  # Corresponding sample in filtered_df has 'ICU' value set to 1\n",
    "    else:\n",
    "        colors.append('blue')  # Corresponding sample in filtered_df does not have 'ICU' value set to 1\n",
    "\n",
    "# Convert the embeddings tensor to a NumPy array\n",
    "latent_vectors = embeddings.numpy()\n",
    "\n",
    "# print(latent_vectors)\n",
    "\n",
    "# Step 2: Plot the latent vectors in a 3D scatter plot\n",
    "fig = plt.figure()\n",
    "ax = fig.add_subplot(111, projection='3d')\n",
    "\n",
    "# Plot all latent vectors\n",
    "ax.scatter(latent_vectors[:, 0], latent_vectors[:, 1], latent_vectors[:, 2], color=colors)\n",
    "\n",
    "# Set labels and title for the plot\n",
    "ax.set_xlabel('Latent 1')\n",
    "ax.set_ylabel('Latent 2')\n",
    "ax.set_zlabel('Latent 3')\n",
    "ax.set_title('Latent Space Visualization')\n",
    "\n",
    "# Show the plot\n",
    "plt.show()\n"
   ]
  },
  {
   "cell_type": "code",
   "execution_count": 26,
   "metadata": {},
   "outputs": [
    {
     "data": {
      "application/vnd.plotly.v1+json": {
       "config": {
        "plotlyServerURL": "https://plot.ly"
       },
       "data": [
        {
         "marker": {
          "color": [
           "blue",
           "blue",
           "blue",
           "blue",
           "blue",
           "red",
           "blue",
           "blue",
           "blue",
           "blue",
           "blue",
           "blue",
           "blue",
           "blue",
           "blue",
           "blue",
           "blue",
           "blue",
           "blue",
           "red",
           "blue",
           "red",
           "red",
           "blue",
           "red",
           "blue",
           "blue",
           "blue",
           "blue",
           "blue",
           "blue",
           "blue",
           "red",
           "red",
           "blue",
           "blue",
           "blue",
           "blue",
           "blue",
           "blue",
           "blue",
           "blue",
           "blue",
           "red",
           "red",
           "blue",
           "blue",
           "blue",
           "blue",
           "blue",
           "blue",
           "blue",
           "red",
           "blue",
           "red",
           "blue",
           "blue",
           "blue",
           "red",
           "red",
           "red",
           "blue",
           "blue",
           "blue",
           "blue",
           "blue",
           "blue",
           "blue",
           "blue",
           "blue",
           "blue",
           "blue"
          ],
          "opacity": 0.8,
          "size": 2
         },
         "mode": "markers",
         "type": "scatter3d",
         "x": [
          0.4051070809364319,
          0.4050217866897583,
          0.40510374307632446,
          0.40512025356292725,
          0.40506941080093384,
          0.1709408164024353,
          0.4050139784812927,
          0.4052082896232605,
          0.40513068437576294,
          0.40507376194000244,
          0.4051130712032318,
          0.40503525733947754,
          0.4050449728965759,
          0.405129611492157,
          0.4050765633583069,
          0.4052183926105499,
          0.40500837564468384,
          0.40498465299606323,
          0.40512561798095703,
          0.17096418142318726,
          0.40509098768234253,
          0.17096646130084991,
          0.17095524072647095,
          0.4049895405769348,
          0.17095687985420227,
          0.4049823582172394,
          0.4049820899963379,
          0.40504521131515503,
          0.4050701856613159,
          0.40507787466049194,
          0.4051196575164795,
          0.40506142377853394,
          0.1709768921136856,
          0.17096632719039917,
          0.405087411403656,
          0.4050612449645996,
          0.40505969524383545,
          0.4050999581813812,
          0.405012309551239,
          0.40505290031433105,
          0.40506893396377563,
          0.40516024827957153,
          0.40496590733528137,
          0.17094866931438446,
          0.17095524072647095,
          0.4050928056240082,
          0.40507131814956665,
          0.4050743579864502,
          0.40500694513320923,
          0.4051215648651123,
          0.4049738645553589,
          0.4050288796424866,
          0.1709495335817337,
          0.40504688024520874,
          0.1709383726119995,
          0.40515559911727905,
          0.4051450490951538,
          0.40513455867767334,
          0.17097687721252441,
          0.17095863819122314,
          0.17096945643424988,
          0.4051198661327362,
          0.4050590395927429,
          0.4051395356655121,
          0.4050939083099365,
          0.4050222337245941,
          0.4051041603088379,
          0.40583914518356323,
          0.40486782789230347,
          0.40503281354904175,
          0.40508270263671875,
          0.4049417972564697
         ],
         "y": [
          -0.11250431835651398,
          -0.1125081479549408,
          -0.11249927431344986,
          -0.11250516772270203,
          -0.11250381916761398,
          -0.1313106268644333,
          -0.11250804364681244,
          -0.11249061673879623,
          -0.11250640451908112,
          -0.1124991923570633,
          -0.11248935759067535,
          -0.11251192539930344,
          -0.11250440776348114,
          -0.11249629408121109,
          -0.11250815540552139,
          -0.11249106377363205,
          -0.1125064566731453,
          -0.11251713335514069,
          -0.11249732226133347,
          -0.13131730258464813,
          -0.11250132322311401,
          -0.13130463659763336,
          -0.13131390511989594,
          -0.1125076413154602,
          -0.1313139796257019,
          -0.1125124990940094,
          -0.11250759661197662,
          -0.1125088557600975,
          -0.11250722408294678,
          -0.11249923706054688,
          -0.1124926209449768,
          -0.11250460892915726,
          -0.13130120933055878,
          -0.13130323588848114,
          -0.11250443011522293,
          -0.11249946057796478,
          -0.11250422894954681,
          -0.11248640716075897,
          -0.11250969767570496,
          -0.11251207441091537,
          -0.11251010745763779,
          -0.11250823736190796,
          -0.11251092702150345,
          -0.13130293786525726,
          -0.1313086897134781,
          -0.11250309646129608,
          -0.11250215023756027,
          -0.11250127851963043,
          -0.11250955611467361,
          -0.11249829828739166,
          -0.1125192791223526,
          -0.11250995099544525,
          -0.13131113350391388,
          -0.11250470578670502,
          -0.1313161849975586,
          -0.11250399798154831,
          -0.11250000447034836,
          -0.11250308901071548,
          -0.13130730390548706,
          -0.13131020963191986,
          -0.13130143284797668,
          -0.11249230802059174,
          -0.112500861287117,
          -0.11249549686908722,
          -0.11249765008687973,
          -0.11250888556241989,
          -0.11250104010105133,
          -0.11244335770606995,
          -0.11251811683177948,
          -0.11250747740268707,
          -0.11250194162130356,
          -0.11251950263977051
         ],
         "z": [
          -0.22395622730255127,
          -0.22391055524349213,
          -0.22393205761909485,
          -0.2239682376384735,
          -0.22392666339874268,
          -0.13481780886650085,
          -0.2239045798778534,
          -0.2239706963300705,
          -0.22398129105567932,
          -0.22390958666801453,
          -0.22389695048332214,
          -0.22393536567687988,
          -0.22391152381896973,
          -0.22393812239170074,
          -0.22394928336143494,
          -0.22397999465465546,
          -0.22389329969882965,
          -0.2239208221435547,
          -0.2239399254322052,
          -0.13486067950725555,
          -0.22393110394477844,
          -0.1348097324371338,
          -0.13484054803848267,
          -0.223885178565979,
          -0.13484151661396027,
          -0.22390057146549225,
          -0.22388000786304474,
          -0.2239302545785904,
          -0.22394290566444397,
          -0.2239135205745697,
          -0.2239156812429428,
          -0.22392389178276062,
          -0.13480214774608612,
          -0.13480350375175476,
          -0.2239420861005783,
          -0.2239021360874176,
          -0.22392085194587708,
          -0.22388094663619995,
          -0.22391130030155182,
          -0.2239493429660797,
          -0.22395631670951843,
          -0.22400888800621033,
          -0.2238820195198059,
          -0.13479025661945343,
          -0.13481871783733368,
          -0.22394077479839325,
          -0.22392097115516663,
          -0.22392001748085022,
          -0.22390484809875488,
          -0.22394083440303802,
          -0.22392231225967407,
          -0.22392365336418152,
          -0.13482534885406494,
          -0.22391515970230103,
          -0.13483856618404388,
          -0.22399497032165527,
          -0.22396525740623474,
          -0.22396963834762573,
          -0.13482826948165894,
          -0.13482710719108582,
          -0.1347973644733429,
          -0.22391489148139954,
          -0.22390656173229218,
          -0.223941832780838,
          -0.22391840815544128,
          -0.22391360998153687,
          -0.2239404022693634,
          -0.22422462701797485,
          -0.2238411158323288,
          -0.22391480207443237,
          -0.22392860054969788,
          -0.22390004992485046
         ]
        }
       ],
       "layout": {
        "scene": {
         "xaxis": {
          "title": {
           "text": "Latent 1"
          }
         },
         "yaxis": {
          "title": {
           "text": "Latent 2"
          }
         },
         "zaxis": {
          "title": {
           "text": "Latent 3"
          }
         }
        },
        "template": {
         "data": {
          "bar": [
           {
            "error_x": {
             "color": "#2a3f5f"
            },
            "error_y": {
             "color": "#2a3f5f"
            },
            "marker": {
             "line": {
              "color": "#E5ECF6",
              "width": 0.5
             },
             "pattern": {
              "fillmode": "overlay",
              "size": 10,
              "solidity": 0.2
             }
            },
            "type": "bar"
           }
          ],
          "barpolar": [
           {
            "marker": {
             "line": {
              "color": "#E5ECF6",
              "width": 0.5
             },
             "pattern": {
              "fillmode": "overlay",
              "size": 10,
              "solidity": 0.2
             }
            },
            "type": "barpolar"
           }
          ],
          "carpet": [
           {
            "aaxis": {
             "endlinecolor": "#2a3f5f",
             "gridcolor": "white",
             "linecolor": "white",
             "minorgridcolor": "white",
             "startlinecolor": "#2a3f5f"
            },
            "baxis": {
             "endlinecolor": "#2a3f5f",
             "gridcolor": "white",
             "linecolor": "white",
             "minorgridcolor": "white",
             "startlinecolor": "#2a3f5f"
            },
            "type": "carpet"
           }
          ],
          "choropleth": [
           {
            "colorbar": {
             "outlinewidth": 0,
             "ticks": ""
            },
            "type": "choropleth"
           }
          ],
          "contour": [
           {
            "colorbar": {
             "outlinewidth": 0,
             "ticks": ""
            },
            "colorscale": [
             [
              0,
              "#0d0887"
             ],
             [
              0.1111111111111111,
              "#46039f"
             ],
             [
              0.2222222222222222,
              "#7201a8"
             ],
             [
              0.3333333333333333,
              "#9c179e"
             ],
             [
              0.4444444444444444,
              "#bd3786"
             ],
             [
              0.5555555555555556,
              "#d8576b"
             ],
             [
              0.6666666666666666,
              "#ed7953"
             ],
             [
              0.7777777777777778,
              "#fb9f3a"
             ],
             [
              0.8888888888888888,
              "#fdca26"
             ],
             [
              1,
              "#f0f921"
             ]
            ],
            "type": "contour"
           }
          ],
          "contourcarpet": [
           {
            "colorbar": {
             "outlinewidth": 0,
             "ticks": ""
            },
            "type": "contourcarpet"
           }
          ],
          "heatmap": [
           {
            "colorbar": {
             "outlinewidth": 0,
             "ticks": ""
            },
            "colorscale": [
             [
              0,
              "#0d0887"
             ],
             [
              0.1111111111111111,
              "#46039f"
             ],
             [
              0.2222222222222222,
              "#7201a8"
             ],
             [
              0.3333333333333333,
              "#9c179e"
             ],
             [
              0.4444444444444444,
              "#bd3786"
             ],
             [
              0.5555555555555556,
              "#d8576b"
             ],
             [
              0.6666666666666666,
              "#ed7953"
             ],
             [
              0.7777777777777778,
              "#fb9f3a"
             ],
             [
              0.8888888888888888,
              "#fdca26"
             ],
             [
              1,
              "#f0f921"
             ]
            ],
            "type": "heatmap"
           }
          ],
          "heatmapgl": [
           {
            "colorbar": {
             "outlinewidth": 0,
             "ticks": ""
            },
            "colorscale": [
             [
              0,
              "#0d0887"
             ],
             [
              0.1111111111111111,
              "#46039f"
             ],
             [
              0.2222222222222222,
              "#7201a8"
             ],
             [
              0.3333333333333333,
              "#9c179e"
             ],
             [
              0.4444444444444444,
              "#bd3786"
             ],
             [
              0.5555555555555556,
              "#d8576b"
             ],
             [
              0.6666666666666666,
              "#ed7953"
             ],
             [
              0.7777777777777778,
              "#fb9f3a"
             ],
             [
              0.8888888888888888,
              "#fdca26"
             ],
             [
              1,
              "#f0f921"
             ]
            ],
            "type": "heatmapgl"
           }
          ],
          "histogram": [
           {
            "marker": {
             "pattern": {
              "fillmode": "overlay",
              "size": 10,
              "solidity": 0.2
             }
            },
            "type": "histogram"
           }
          ],
          "histogram2d": [
           {
            "colorbar": {
             "outlinewidth": 0,
             "ticks": ""
            },
            "colorscale": [
             [
              0,
              "#0d0887"
             ],
             [
              0.1111111111111111,
              "#46039f"
             ],
             [
              0.2222222222222222,
              "#7201a8"
             ],
             [
              0.3333333333333333,
              "#9c179e"
             ],
             [
              0.4444444444444444,
              "#bd3786"
             ],
             [
              0.5555555555555556,
              "#d8576b"
             ],
             [
              0.6666666666666666,
              "#ed7953"
             ],
             [
              0.7777777777777778,
              "#fb9f3a"
             ],
             [
              0.8888888888888888,
              "#fdca26"
             ],
             [
              1,
              "#f0f921"
             ]
            ],
            "type": "histogram2d"
           }
          ],
          "histogram2dcontour": [
           {
            "colorbar": {
             "outlinewidth": 0,
             "ticks": ""
            },
            "colorscale": [
             [
              0,
              "#0d0887"
             ],
             [
              0.1111111111111111,
              "#46039f"
             ],
             [
              0.2222222222222222,
              "#7201a8"
             ],
             [
              0.3333333333333333,
              "#9c179e"
             ],
             [
              0.4444444444444444,
              "#bd3786"
             ],
             [
              0.5555555555555556,
              "#d8576b"
             ],
             [
              0.6666666666666666,
              "#ed7953"
             ],
             [
              0.7777777777777778,
              "#fb9f3a"
             ],
             [
              0.8888888888888888,
              "#fdca26"
             ],
             [
              1,
              "#f0f921"
             ]
            ],
            "type": "histogram2dcontour"
           }
          ],
          "mesh3d": [
           {
            "colorbar": {
             "outlinewidth": 0,
             "ticks": ""
            },
            "type": "mesh3d"
           }
          ],
          "parcoords": [
           {
            "line": {
             "colorbar": {
              "outlinewidth": 0,
              "ticks": ""
             }
            },
            "type": "parcoords"
           }
          ],
          "pie": [
           {
            "automargin": true,
            "type": "pie"
           }
          ],
          "scatter": [
           {
            "fillpattern": {
             "fillmode": "overlay",
             "size": 10,
             "solidity": 0.2
            },
            "type": "scatter"
           }
          ],
          "scatter3d": [
           {
            "line": {
             "colorbar": {
              "outlinewidth": 0,
              "ticks": ""
             }
            },
            "marker": {
             "colorbar": {
              "outlinewidth": 0,
              "ticks": ""
             }
            },
            "type": "scatter3d"
           }
          ],
          "scattercarpet": [
           {
            "marker": {
             "colorbar": {
              "outlinewidth": 0,
              "ticks": ""
             }
            },
            "type": "scattercarpet"
           }
          ],
          "scattergeo": [
           {
            "marker": {
             "colorbar": {
              "outlinewidth": 0,
              "ticks": ""
             }
            },
            "type": "scattergeo"
           }
          ],
          "scattergl": [
           {
            "marker": {
             "colorbar": {
              "outlinewidth": 0,
              "ticks": ""
             }
            },
            "type": "scattergl"
           }
          ],
          "scattermapbox": [
           {
            "marker": {
             "colorbar": {
              "outlinewidth": 0,
              "ticks": ""
             }
            },
            "type": "scattermapbox"
           }
          ],
          "scatterpolar": [
           {
            "marker": {
             "colorbar": {
              "outlinewidth": 0,
              "ticks": ""
             }
            },
            "type": "scatterpolar"
           }
          ],
          "scatterpolargl": [
           {
            "marker": {
             "colorbar": {
              "outlinewidth": 0,
              "ticks": ""
             }
            },
            "type": "scatterpolargl"
           }
          ],
          "scatterternary": [
           {
            "marker": {
             "colorbar": {
              "outlinewidth": 0,
              "ticks": ""
             }
            },
            "type": "scatterternary"
           }
          ],
          "surface": [
           {
            "colorbar": {
             "outlinewidth": 0,
             "ticks": ""
            },
            "colorscale": [
             [
              0,
              "#0d0887"
             ],
             [
              0.1111111111111111,
              "#46039f"
             ],
             [
              0.2222222222222222,
              "#7201a8"
             ],
             [
              0.3333333333333333,
              "#9c179e"
             ],
             [
              0.4444444444444444,
              "#bd3786"
             ],
             [
              0.5555555555555556,
              "#d8576b"
             ],
             [
              0.6666666666666666,
              "#ed7953"
             ],
             [
              0.7777777777777778,
              "#fb9f3a"
             ],
             [
              0.8888888888888888,
              "#fdca26"
             ],
             [
              1,
              "#f0f921"
             ]
            ],
            "type": "surface"
           }
          ],
          "table": [
           {
            "cells": {
             "fill": {
              "color": "#EBF0F8"
             },
             "line": {
              "color": "white"
             }
            },
            "header": {
             "fill": {
              "color": "#C8D4E3"
             },
             "line": {
              "color": "white"
             }
            },
            "type": "table"
           }
          ]
         },
         "layout": {
          "annotationdefaults": {
           "arrowcolor": "#2a3f5f",
           "arrowhead": 0,
           "arrowwidth": 1
          },
          "autotypenumbers": "strict",
          "coloraxis": {
           "colorbar": {
            "outlinewidth": 0,
            "ticks": ""
           }
          },
          "colorscale": {
           "diverging": [
            [
             0,
             "#8e0152"
            ],
            [
             0.1,
             "#c51b7d"
            ],
            [
             0.2,
             "#de77ae"
            ],
            [
             0.3,
             "#f1b6da"
            ],
            [
             0.4,
             "#fde0ef"
            ],
            [
             0.5,
             "#f7f7f7"
            ],
            [
             0.6,
             "#e6f5d0"
            ],
            [
             0.7,
             "#b8e186"
            ],
            [
             0.8,
             "#7fbc41"
            ],
            [
             0.9,
             "#4d9221"
            ],
            [
             1,
             "#276419"
            ]
           ],
           "sequential": [
            [
             0,
             "#0d0887"
            ],
            [
             0.1111111111111111,
             "#46039f"
            ],
            [
             0.2222222222222222,
             "#7201a8"
            ],
            [
             0.3333333333333333,
             "#9c179e"
            ],
            [
             0.4444444444444444,
             "#bd3786"
            ],
            [
             0.5555555555555556,
             "#d8576b"
            ],
            [
             0.6666666666666666,
             "#ed7953"
            ],
            [
             0.7777777777777778,
             "#fb9f3a"
            ],
            [
             0.8888888888888888,
             "#fdca26"
            ],
            [
             1,
             "#f0f921"
            ]
           ],
           "sequentialminus": [
            [
             0,
             "#0d0887"
            ],
            [
             0.1111111111111111,
             "#46039f"
            ],
            [
             0.2222222222222222,
             "#7201a8"
            ],
            [
             0.3333333333333333,
             "#9c179e"
            ],
            [
             0.4444444444444444,
             "#bd3786"
            ],
            [
             0.5555555555555556,
             "#d8576b"
            ],
            [
             0.6666666666666666,
             "#ed7953"
            ],
            [
             0.7777777777777778,
             "#fb9f3a"
            ],
            [
             0.8888888888888888,
             "#fdca26"
            ],
            [
             1,
             "#f0f921"
            ]
           ]
          },
          "colorway": [
           "#636efa",
           "#EF553B",
           "#00cc96",
           "#ab63fa",
           "#FFA15A",
           "#19d3f3",
           "#FF6692",
           "#B6E880",
           "#FF97FF",
           "#FECB52"
          ],
          "font": {
           "color": "#2a3f5f"
          },
          "geo": {
           "bgcolor": "white",
           "lakecolor": "white",
           "landcolor": "#E5ECF6",
           "showlakes": true,
           "showland": true,
           "subunitcolor": "white"
          },
          "hoverlabel": {
           "align": "left"
          },
          "hovermode": "closest",
          "mapbox": {
           "style": "light"
          },
          "paper_bgcolor": "white",
          "plot_bgcolor": "#E5ECF6",
          "polar": {
           "angularaxis": {
            "gridcolor": "white",
            "linecolor": "white",
            "ticks": ""
           },
           "bgcolor": "#E5ECF6",
           "radialaxis": {
            "gridcolor": "white",
            "linecolor": "white",
            "ticks": ""
           }
          },
          "scene": {
           "xaxis": {
            "backgroundcolor": "#E5ECF6",
            "gridcolor": "white",
            "gridwidth": 2,
            "linecolor": "white",
            "showbackground": true,
            "ticks": "",
            "zerolinecolor": "white"
           },
           "yaxis": {
            "backgroundcolor": "#E5ECF6",
            "gridcolor": "white",
            "gridwidth": 2,
            "linecolor": "white",
            "showbackground": true,
            "ticks": "",
            "zerolinecolor": "white"
           },
           "zaxis": {
            "backgroundcolor": "#E5ECF6",
            "gridcolor": "white",
            "gridwidth": 2,
            "linecolor": "white",
            "showbackground": true,
            "ticks": "",
            "zerolinecolor": "white"
           }
          },
          "shapedefaults": {
           "line": {
            "color": "#2a3f5f"
           }
          },
          "ternary": {
           "aaxis": {
            "gridcolor": "white",
            "linecolor": "white",
            "ticks": ""
           },
           "baxis": {
            "gridcolor": "white",
            "linecolor": "white",
            "ticks": ""
           },
           "bgcolor": "#E5ECF6",
           "caxis": {
            "gridcolor": "white",
            "linecolor": "white",
            "ticks": ""
           }
          },
          "title": {
           "x": 0.05
          },
          "xaxis": {
           "automargin": true,
           "gridcolor": "white",
           "linecolor": "white",
           "ticks": "",
           "title": {
            "standoff": 15
           },
           "zerolinecolor": "white",
           "zerolinewidth": 2
          },
          "yaxis": {
           "automargin": true,
           "gridcolor": "white",
           "linecolor": "white",
           "ticks": "",
           "title": {
            "standoff": 15
           },
           "zerolinecolor": "white",
           "zerolinewidth": 2
          }
         }
        },
        "title": {
         "text": "Latent Space Visualization"
        }
       }
      }
     },
     "metadata": {},
     "output_type": "display_data"
    }
   ],
   "source": [
    "import numpy as np\n",
    "import matplotlib.pyplot as plt\n",
    "import plotly.graph_objects as go\n",
    "\n",
    "# Step 1: Encode the data using the trained model\n",
    "model.eval()  # Set the model to evaluation mode\n",
    "with torch.no_grad():\n",
    "    # Create an empty tensor to store the embeddings\n",
    "    embeddings = torch.empty((data.shape[0], embedded_dim))\n",
    "\n",
    "    total_loss = 0\n",
    "\n",
    "    for i in range(data.shape[0]):\n",
    "        sample = data[i]\n",
    "        embedded_sample = model(sample)\n",
    "        embeddings[i] = embedded_sample\n",
    "\n",
    "colors = []\n",
    "for i in range(len(normalized_df)):\n",
    "    if target_column[i] == 1:\n",
    "        colors.append('red')  # Corresponding sample in filtered_df has 'ICU' value set to 1\n",
    "    else:\n",
    "        colors.append('blue')  # Corresponding sample in filtered_df does not have 'ICU' value set to 1\n",
    "\n",
    "# Convert the embeddings tensor to a NumPy array\n",
    "latent_vectors = embeddings.numpy()\n",
    "\n",
    "# Step 2: Create a 3D scatter plot using Plotly\n",
    "fig = go.Figure(data=[go.Scatter3d(\n",
    "    x=latent_vectors[:, 0],\n",
    "    y=latent_vectors[:, 1],\n",
    "    z=latent_vectors[:, 2],\n",
    "    mode='markers',\n",
    "    marker=dict(\n",
    "        size=2,\n",
    "        color=colors,\n",
    "        opacity=0.8\n",
    "    )\n",
    ")])\n",
    "\n",
    "# Set the layout for the plot\n",
    "fig.update_layout(\n",
    "    scene=dict(\n",
    "        xaxis=dict(title='Latent 1'),\n",
    "        yaxis=dict(title='Latent 2'),\n",
    "        zaxis=dict(title='Latent 3')\n",
    "    ),\n",
    "    title='Latent Space Visualization'\n",
    ")\n",
    "\n",
    "# Display the plot\n",
    "fig.show()\n"
   ]
  },
  {
   "cell_type": "code",
   "execution_count": 27,
   "metadata": {},
   "outputs": [],
   "source": [
    "import numpy as np\n",
    "import matplotlib.pyplot as plt\n",
    "import plotly.graph_objects as go\n",
    "\n",
    "# Step 1: Encode the data using the trained model\n",
    "model.eval()  # Set the model to evaluation mode\n",
    "with torch.no_grad():\n",
    "    # Create an empty tensor to store the embeddings\n",
    "    embeddings = torch.empty((data.shape[0], embedded_dim))\n",
    "\n",
    "    total_loss = 0\n",
    "\n",
    "    for i in range(data.shape[0]):\n",
    "        sample = data[i]\n",
    "        embedded_sample = model(sample)\n",
    "        embeddings[i] = embedded_sample\n",
    "\n",
    "colors = []\n",
    "for i in range(len(normalized_df)):\n",
    "    if target_column[i] == 1:\n",
    "        colors.append('red')  # Corresponding sample in filtered_df has 'ICU' value set to 1\n",
    "    else:\n",
    "        colors.append('blue')  # Corresponding sample in filtered_df does not have 'ICU' value set to 1\n",
    "\n",
    "# Convert the embeddings tensor to a NumPy array\n",
    "latent_vectors = embeddings.numpy()\n",
    "\n",
    "# Step 2: Create a 3D scatter plot using Plotly\n",
    "fig = go.Figure(data=[go.Scatter3d(\n",
    "    x=latent_vectors[:, 0],\n",
    "    y=latent_vectors[:, 1],\n",
    "    z=latent_vectors[:, 2],\n",
    "    mode='markers',\n",
    "    marker=dict(\n",
    "        size=2,\n",
    "        color=colors,\n",
    "        opacity=0.8\n",
    "    )\n",
    ")])\n",
    "\n",
    "# Set the layout for the plot\n",
    "fig.update_layout(\n",
    "    scene=dict(\n",
    "        xaxis=dict(title='Latent 1'),\n",
    "        yaxis=dict(title='Latent 2'),\n",
    "        zaxis=dict(title='Latent 3')\n",
    "    ),\n",
    "    title='Latent Space Visualization'\n",
    ")\n",
    "\n",
    "# Save the plot as an HTML file\n",
    "fig.write_html('visualization.html')\n"
   ]
  },
  {
   "cell_type": "code",
   "execution_count": null,
   "metadata": {},
   "outputs": [],
   "source": []
  }
 ],
 "metadata": {
  "kernelspec": {
   "display_name": "Python 3 (ipykernel)",
   "language": "python",
   "name": "python3"
  },
  "language_info": {
   "codemirror_mode": {
    "name": "ipython",
    "version": 3
   },
   "file_extension": ".py",
   "mimetype": "text/x-python",
   "name": "python",
   "nbconvert_exporter": "python",
   "pygments_lexer": "ipython3",
   "version": "3.9.7"
  }
 },
 "nbformat": 4,
 "nbformat_minor": 2
}
